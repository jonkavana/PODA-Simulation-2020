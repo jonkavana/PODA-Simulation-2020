{
 "cells": [
  {
   "cell_type": "markdown",
   "metadata": {},
   "source": [
    "##  Programming for Data Analytics Simulation Project 2020 \n",
    "#### Module: Programming for Data Analytics\n",
    "#### Student Name: John Kavanagh\n",
    "#### Lecturer: Brian McGinley "
   ]
  },
  {
   "cell_type": "markdown",
   "metadata": {},
   "source": [
    "___"
   ]
  },
  {
   "cell_type": "markdown",
   "metadata": {},
   "source": [
    "### Problem Statement \n",
    "\n",
    "For this project you must create a data set by simulating a real-world phenomenon of your choosing. You may pick any phenomenon you wish – you might pick one that is of interest to you in your personal or professional life. Then, rather than collect data\n",
    "related to the phenomenon, you should model and synthesise such data using Python. We suggest you use the numpy.random package for this purpose.\n",
    "\n",
    "Specifically, in this project you should:  \n",
    "• Choose a real-world phenomenon that can be measured and for which you could collect at least one-hundred data points across at least four different variables.  \n",
    "• Investigate the types of variables involved, their likely distributions, and their relationships with each other.  \n",
    "• Synthesise/simulate a data set as closely matching their properties as possible.  \n",
    "• Detail your research and implement the simulation in a Jupyter notebook – the data set itself can simply be displayed in an output cell within the notebook.  \n",
    "\n",
    "\n",
    "Note that this project is about simulation – you must synthesise a data set. Some students may already have some real-world data sets in their own files. It is okay to base your synthesised data set on these should you wish (please reference it if you do), but the main task in this project is to create a synthesised data set."
   ]
  },
  {
   "cell_type": "markdown",
   "metadata": {},
   "source": [
    "___\n",
    "#### Software & Library Requirements\n",
    "\n",
    "There are a number of software packages htat will need to be installed throughout this exercise. \n",
    "Such as: \n",
    "\n",
    "- Anaconda\n",
    "- Jupyter Notebook\n",
    "- Pandas\n",
    "- MatPlotLib\n",
    "- Numpy\n",
    "- Seaborn\n",
    "___"
   ]
  },
  {
   "cell_type": "markdown",
   "metadata": {},
   "source": [
    "### Project Overview\n",
    "\n",
    "#### Introduction  \n",
    "##### Statistical Society of Canada Dataset Overview\n",
    "##### Analysis of Documentation\n",
    "##### Analysis of DataSet  \n",
    "##### Conclusion on DataSet\n",
    "___\n",
    "\n",
    "#### Introduction to Numpy.Random  \n",
    "##### Simulation of the DataSet\n",
    "##### Irish Health DataSet\n",
    "##### Simulated DataSet\n",
    "##### Conclusion"
   ]
  },
  {
   "cell_type": "markdown",
   "metadata": {},
   "source": [
    "#### Introduction\n",
    " \n",
    "As part of the research into this exercise, I thought it best to start off with an exisitng data set that was relevant to the information that I wanted to simulate. This was going to facilitate a number of things that were of importance, to provide some structure, guidance as well as framework information on the topic.   \n",
    "\n",
    "Having reviewed a number of datasets across a few different topics, I finally landed on the area that I wanted to cover - Health. More specifically the area of smoking and the implications it can have. The search for an area of review was influenced in a big way through the unavoidable aspect to life in 2020 - COVID-19, as everyone is painfully aware.    \n",
    "\n",
    "In order to properly undertake the exercise, a better understadning of the information that we are looking to ascertain was required. A phenomenon, according to [Cambridge Dictionary](https://dictionary.cambridge.org/dictionary/english/phenomenon) is \"something that exists and that can be seen, felt, tested etc.\".   \n",
    "\n",
    "Based off of this description, researching a specific topic within the area of health can be used as the area that I intend to simulate information on. The variables that are going to be under examination will be developed on via the review of the data set, as well as from academic sources that will be referenced throughout the text."
   ]
  },
  {
   "cell_type": "markdown",
   "metadata": {},
   "source": [
    "___"
   ]
  },
  {
   "cell_type": "markdown",
   "metadata": {},
   "source": [
    "#### Statistical Society of Canada Dataset Overview\n",
    "Given that we are looking to simulate infromation on the general area of health, it's import to be familiar with the structure of the information, as well as the headings that are reported upon. \n",
    "\n",
    "The first step in demonstrating this research was to review a site that held a large number of datasets across a number of disciplines. Having reviewed some initial datasets on [Vincent Arel-Bundock](https://vincentarelbundock.github.io/Rdatasets/datasets.html), from Sports Stats to the Argentine Economy, there was a simple dataset with a small number of attributes, in the area of Health that could be used as the basis for examination.     \n",
    "\n",
    "This dataset, containing samples from 500 adults, as detailed in the documentation on [Vincent Ares-Bundock](https://vincentarelbundock.github.io/Rdatasets/doc/Stat2Data/Blood1.html) holds information on the Blood Pressure recorded as well as other factors such as smoking and whether the individual is classified as overweight. \n",
    "\n",
    "As part of the review, we are going to examine the data set for a relationship between blood pressure, smoking and a persons weight. \n",
    "\n",
    "Subsequent to this report, there was additional research required, in order to effectively ensure the report was being interpreted correctly, the extended report, as published on [Statistical Society of Canada](https://ssc.ca/en/case-studies-2003-annual-meeting) "
   ]
  },
  {
   "cell_type": "markdown",
   "metadata": {},
   "source": [
    "#### Analysis of Documentation\n",
    "\n",
    "Although limited, there are a number of pieces of information on the [Vincent Arel-Bundock](https://vincentarelbundock.github.io/Rdatasets/doc/Stat2Data/Blood1.html) site that convey greater breadth of information on the data.\n",
    "\n",
    "Smoking, as per the Boolean expression according to [w3Schools.com](https://www.w3schools.com/python/python_booleans.asp), where there are two outcomes, categorised as either True or False, can also be recorded as one or zero. \n",
    "We can only intrpret, based off of the material recorded that the question and potential answer put to the individuals in the survey were asked: \n",
    "\n",
    "Do you smoke?  \n",
    "- Yes  \n",
    "- No  \n",
    "\n",
    "In relation to the other factor, the weight of an individual, there are three categories that have been created:  \n",
    "1. Normal \n",
    "2. Overweight \n",
    "3. Obese  \n",
    "\n",
    "Lastly, we have the recorded values of each individuals SystolicBP, or Blood Pressure as it is known. In order to have a more informed opinion on the range of what a healthy recording for blood pressure is, please review the following site, [IrishHeart.ie](https://irishheart.ie/your-health/ways-to-live-better/blood-pressure/)"
   ]
  },
  {
   "cell_type": "markdown",
   "metadata": {},
   "source": [
    "#### Analysis on DataSet"
   ]
  },
  {
   "cell_type": "code",
   "execution_count": 1,
   "metadata": {},
   "outputs": [],
   "source": [
    "import pandas as pd"
   ]
  },
  {
   "cell_type": "code",
   "execution_count": 2,
   "metadata": {},
   "outputs": [
    {
     "data": {
      "text/html": [
       "<div>\n",
       "<style scoped>\n",
       "    .dataframe tbody tr th:only-of-type {\n",
       "        vertical-align: middle;\n",
       "    }\n",
       "\n",
       "    .dataframe tbody tr th {\n",
       "        vertical-align: top;\n",
       "    }\n",
       "\n",
       "    .dataframe thead th {\n",
       "        text-align: right;\n",
       "    }\n",
       "</style>\n",
       "<table border=\"1\" class=\"dataframe\">\n",
       "  <thead>\n",
       "    <tr style=\"text-align: right;\">\n",
       "      <th></th>\n",
       "      <th>Unnamed: 0</th>\n",
       "      <th>SystolicBP</th>\n",
       "      <th>Smoke</th>\n",
       "      <th>Overwt</th>\n",
       "    </tr>\n",
       "  </thead>\n",
       "  <tbody>\n",
       "    <tr>\n",
       "      <th>0</th>\n",
       "      <td>1</td>\n",
       "      <td>133</td>\n",
       "      <td>0</td>\n",
       "      <td>2</td>\n",
       "    </tr>\n",
       "    <tr>\n",
       "      <th>1</th>\n",
       "      <td>2</td>\n",
       "      <td>115</td>\n",
       "      <td>1</td>\n",
       "      <td>0</td>\n",
       "    </tr>\n",
       "    <tr>\n",
       "      <th>2</th>\n",
       "      <td>3</td>\n",
       "      <td>140</td>\n",
       "      <td>1</td>\n",
       "      <td>1</td>\n",
       "    </tr>\n",
       "    <tr>\n",
       "      <th>3</th>\n",
       "      <td>4</td>\n",
       "      <td>132</td>\n",
       "      <td>0</td>\n",
       "      <td>2</td>\n",
       "    </tr>\n",
       "    <tr>\n",
       "      <th>4</th>\n",
       "      <td>5</td>\n",
       "      <td>133</td>\n",
       "      <td>0</td>\n",
       "      <td>1</td>\n",
       "    </tr>\n",
       "    <tr>\n",
       "      <th>...</th>\n",
       "      <td>...</td>\n",
       "      <td>...</td>\n",
       "      <td>...</td>\n",
       "      <td>...</td>\n",
       "    </tr>\n",
       "    <tr>\n",
       "      <th>495</th>\n",
       "      <td>496</td>\n",
       "      <td>146</td>\n",
       "      <td>0</td>\n",
       "      <td>0</td>\n",
       "    </tr>\n",
       "    <tr>\n",
       "      <th>496</th>\n",
       "      <td>497</td>\n",
       "      <td>181</td>\n",
       "      <td>1</td>\n",
       "      <td>1</td>\n",
       "    </tr>\n",
       "    <tr>\n",
       "      <th>497</th>\n",
       "      <td>498</td>\n",
       "      <td>145</td>\n",
       "      <td>1</td>\n",
       "      <td>2</td>\n",
       "    </tr>\n",
       "    <tr>\n",
       "      <th>498</th>\n",
       "      <td>499</td>\n",
       "      <td>180</td>\n",
       "      <td>1</td>\n",
       "      <td>2</td>\n",
       "    </tr>\n",
       "    <tr>\n",
       "      <th>499</th>\n",
       "      <td>500</td>\n",
       "      <td>174</td>\n",
       "      <td>1</td>\n",
       "      <td>2</td>\n",
       "    </tr>\n",
       "  </tbody>\n",
       "</table>\n",
       "<p>500 rows × 4 columns</p>\n",
       "</div>"
      ],
      "text/plain": [
       "     Unnamed: 0  SystolicBP  Smoke  Overwt\n",
       "0             1         133      0       2\n",
       "1             2         115      1       0\n",
       "2             3         140      1       1\n",
       "3             4         132      0       2\n",
       "4             5         133      0       1\n",
       "..          ...         ...    ...     ...\n",
       "495         496         146      0       0\n",
       "496         497         181      1       1\n",
       "497         498         145      1       2\n",
       "498         499         180      1       2\n",
       "499         500         174      1       2\n",
       "\n",
       "[500 rows x 4 columns]"
      ]
     },
     "execution_count": 2,
     "metadata": {},
     "output_type": "execute_result"
    }
   ],
   "source": [
    "df = pd.read_csv('https://vincentarelbundock.github.io/Rdatasets/csv/Stat2Data/Blood1.csv')\n",
    "df"
   ]
  },
  {
   "cell_type": "markdown",
   "metadata": {},
   "source": [
    "The package has successfully taken the URL and produced a tabular view of the information. Having reviewed the information in a text editor pior to uploading, the headings and data that we expected to see are in place. As you can see along the left hand side of the table, pandas has added in a row for indexing the data.  "
   ]
  },
  {
   "cell_type": "code",
   "execution_count": 3,
   "metadata": {
    "scrolled": false
   },
   "outputs": [
    {
     "data": {
      "text/html": [
       "<div>\n",
       "<style scoped>\n",
       "    .dataframe tbody tr th:only-of-type {\n",
       "        vertical-align: middle;\n",
       "    }\n",
       "\n",
       "    .dataframe tbody tr th {\n",
       "        vertical-align: top;\n",
       "    }\n",
       "\n",
       "    .dataframe thead th {\n",
       "        text-align: right;\n",
       "    }\n",
       "</style>\n",
       "<table border=\"1\" class=\"dataframe\">\n",
       "  <thead>\n",
       "    <tr style=\"text-align: right;\">\n",
       "      <th></th>\n",
       "      <th>Unnamed: 0</th>\n",
       "      <th>SystolicBP</th>\n",
       "      <th>Smoke</th>\n",
       "      <th>Overwt</th>\n",
       "    </tr>\n",
       "  </thead>\n",
       "  <tbody>\n",
       "    <tr>\n",
       "      <th>count</th>\n",
       "      <td>500.000000</td>\n",
       "      <td>500.000000</td>\n",
       "      <td>500.000000</td>\n",
       "      <td>500.000000</td>\n",
       "    </tr>\n",
       "    <tr>\n",
       "      <th>mean</th>\n",
       "      <td>250.500000</td>\n",
       "      <td>144.952000</td>\n",
       "      <td>0.532000</td>\n",
       "      <td>1.034000</td>\n",
       "    </tr>\n",
       "    <tr>\n",
       "      <th>std</th>\n",
       "      <td>144.481833</td>\n",
       "      <td>27.994948</td>\n",
       "      <td>0.499475</td>\n",
       "      <td>0.884539</td>\n",
       "    </tr>\n",
       "    <tr>\n",
       "      <th>min</th>\n",
       "      <td>1.000000</td>\n",
       "      <td>67.000000</td>\n",
       "      <td>0.000000</td>\n",
       "      <td>0.000000</td>\n",
       "    </tr>\n",
       "    <tr>\n",
       "      <th>25%</th>\n",
       "      <td>125.750000</td>\n",
       "      <td>130.000000</td>\n",
       "      <td>0.000000</td>\n",
       "      <td>0.000000</td>\n",
       "    </tr>\n",
       "    <tr>\n",
       "      <th>50%</th>\n",
       "      <td>250.500000</td>\n",
       "      <td>140.500000</td>\n",
       "      <td>1.000000</td>\n",
       "      <td>1.000000</td>\n",
       "    </tr>\n",
       "    <tr>\n",
       "      <th>75%</th>\n",
       "      <td>375.250000</td>\n",
       "      <td>162.250000</td>\n",
       "      <td>1.000000</td>\n",
       "      <td>2.000000</td>\n",
       "    </tr>\n",
       "    <tr>\n",
       "      <th>max</th>\n",
       "      <td>500.000000</td>\n",
       "      <td>224.000000</td>\n",
       "      <td>1.000000</td>\n",
       "      <td>2.000000</td>\n",
       "    </tr>\n",
       "  </tbody>\n",
       "</table>\n",
       "</div>"
      ],
      "text/plain": [
       "       Unnamed: 0  SystolicBP       Smoke      Overwt\n",
       "count  500.000000  500.000000  500.000000  500.000000\n",
       "mean   250.500000  144.952000    0.532000    1.034000\n",
       "std    144.481833   27.994948    0.499475    0.884539\n",
       "min      1.000000   67.000000    0.000000    0.000000\n",
       "25%    125.750000  130.000000    0.000000    0.000000\n",
       "50%    250.500000  140.500000    1.000000    1.000000\n",
       "75%    375.250000  162.250000    1.000000    2.000000\n",
       "max    500.000000  224.000000    1.000000    2.000000"
      ]
     },
     "execution_count": 3,
     "metadata": {},
     "output_type": "execute_result"
    }
   ],
   "source": [
    "# this will allow us to view some high-level information from the set, such as mean and the standard deviation.\n",
    "df.describe()"
   ]
  },
  {
   "cell_type": "code",
   "execution_count": 4,
   "metadata": {},
   "outputs": [
    {
     "data": {
      "text/html": [
       "<div>\n",
       "<style scoped>\n",
       "    .dataframe tbody tr th:only-of-type {\n",
       "        vertical-align: middle;\n",
       "    }\n",
       "\n",
       "    .dataframe tbody tr th {\n",
       "        vertical-align: top;\n",
       "    }\n",
       "\n",
       "    .dataframe thead th {\n",
       "        text-align: right;\n",
       "    }\n",
       "</style>\n",
       "<table border=\"1\" class=\"dataframe\">\n",
       "  <thead>\n",
       "    <tr style=\"text-align: right;\">\n",
       "      <th></th>\n",
       "      <th>Unnamed: 0</th>\n",
       "      <th>SystolicBP</th>\n",
       "      <th>Smoke</th>\n",
       "      <th>Overwt</th>\n",
       "    </tr>\n",
       "  </thead>\n",
       "  <tbody>\n",
       "    <tr>\n",
       "      <th>1</th>\n",
       "      <td>2</td>\n",
       "      <td>115</td>\n",
       "      <td>1</td>\n",
       "      <td>0</td>\n",
       "    </tr>\n",
       "    <tr>\n",
       "      <th>2</th>\n",
       "      <td>3</td>\n",
       "      <td>140</td>\n",
       "      <td>1</td>\n",
       "      <td>1</td>\n",
       "    </tr>\n",
       "    <tr>\n",
       "      <th>9</th>\n",
       "      <td>10</td>\n",
       "      <td>130</td>\n",
       "      <td>1</td>\n",
       "      <td>0</td>\n",
       "    </tr>\n",
       "    <tr>\n",
       "      <th>10</th>\n",
       "      <td>11</td>\n",
       "      <td>103</td>\n",
       "      <td>1</td>\n",
       "      <td>2</td>\n",
       "    </tr>\n",
       "    <tr>\n",
       "      <th>11</th>\n",
       "      <td>12</td>\n",
       "      <td>137</td>\n",
       "      <td>1</td>\n",
       "      <td>2</td>\n",
       "    </tr>\n",
       "    <tr>\n",
       "      <th>...</th>\n",
       "      <td>...</td>\n",
       "      <td>...</td>\n",
       "      <td>...</td>\n",
       "      <td>...</td>\n",
       "    </tr>\n",
       "    <tr>\n",
       "      <th>493</th>\n",
       "      <td>494</td>\n",
       "      <td>181</td>\n",
       "      <td>1</td>\n",
       "      <td>2</td>\n",
       "    </tr>\n",
       "    <tr>\n",
       "      <th>496</th>\n",
       "      <td>497</td>\n",
       "      <td>181</td>\n",
       "      <td>1</td>\n",
       "      <td>1</td>\n",
       "    </tr>\n",
       "    <tr>\n",
       "      <th>497</th>\n",
       "      <td>498</td>\n",
       "      <td>145</td>\n",
       "      <td>1</td>\n",
       "      <td>2</td>\n",
       "    </tr>\n",
       "    <tr>\n",
       "      <th>498</th>\n",
       "      <td>499</td>\n",
       "      <td>180</td>\n",
       "      <td>1</td>\n",
       "      <td>2</td>\n",
       "    </tr>\n",
       "    <tr>\n",
       "      <th>499</th>\n",
       "      <td>500</td>\n",
       "      <td>174</td>\n",
       "      <td>1</td>\n",
       "      <td>2</td>\n",
       "    </tr>\n",
       "  </tbody>\n",
       "</table>\n",
       "<p>266 rows × 4 columns</p>\n",
       "</div>"
      ],
      "text/plain": [
       "     Unnamed: 0  SystolicBP  Smoke  Overwt\n",
       "1             2         115      1       0\n",
       "2             3         140      1       1\n",
       "9            10         130      1       0\n",
       "10           11         103      1       2\n",
       "11           12         137      1       2\n",
       "..          ...         ...    ...     ...\n",
       "493         494         181      1       2\n",
       "496         497         181      1       1\n",
       "497         498         145      1       2\n",
       "498         499         180      1       2\n",
       "499         500         174      1       2\n",
       "\n",
       "[266 rows x 4 columns]"
      ]
     },
     "execution_count": 4,
     "metadata": {},
     "output_type": "execute_result"
    }
   ],
   "source": [
    "# This block of code will return the amount of individuals who have described themselves as smokers.\n",
    "df.loc[df.loc[:, 'Smoke'] == 1]"
   ]
  },
  {
   "cell_type": "code",
   "execution_count": 5,
   "metadata": {},
   "outputs": [
    {
     "data": {
      "text/html": [
       "<div>\n",
       "<style scoped>\n",
       "    .dataframe tbody tr th:only-of-type {\n",
       "        vertical-align: middle;\n",
       "    }\n",
       "\n",
       "    .dataframe tbody tr th {\n",
       "        vertical-align: top;\n",
       "    }\n",
       "\n",
       "    .dataframe thead th {\n",
       "        text-align: right;\n",
       "    }\n",
       "</style>\n",
       "<table border=\"1\" class=\"dataframe\">\n",
       "  <thead>\n",
       "    <tr style=\"text-align: right;\">\n",
       "      <th></th>\n",
       "      <th>Unnamed: 0</th>\n",
       "      <th>SystolicBP</th>\n",
       "      <th>Smoke</th>\n",
       "      <th>Overwt</th>\n",
       "    </tr>\n",
       "  </thead>\n",
       "  <tbody>\n",
       "    <tr>\n",
       "      <th>0</th>\n",
       "      <td>1</td>\n",
       "      <td>133</td>\n",
       "      <td>0</td>\n",
       "      <td>2</td>\n",
       "    </tr>\n",
       "    <tr>\n",
       "      <th>3</th>\n",
       "      <td>4</td>\n",
       "      <td>132</td>\n",
       "      <td>0</td>\n",
       "      <td>2</td>\n",
       "    </tr>\n",
       "    <tr>\n",
       "      <th>6</th>\n",
       "      <td>7</td>\n",
       "      <td>133</td>\n",
       "      <td>0</td>\n",
       "      <td>2</td>\n",
       "    </tr>\n",
       "    <tr>\n",
       "      <th>10</th>\n",
       "      <td>11</td>\n",
       "      <td>103</td>\n",
       "      <td>1</td>\n",
       "      <td>2</td>\n",
       "    </tr>\n",
       "    <tr>\n",
       "      <th>11</th>\n",
       "      <td>12</td>\n",
       "      <td>137</td>\n",
       "      <td>1</td>\n",
       "      <td>2</td>\n",
       "    </tr>\n",
       "    <tr>\n",
       "      <th>...</th>\n",
       "      <td>...</td>\n",
       "      <td>...</td>\n",
       "      <td>...</td>\n",
       "      <td>...</td>\n",
       "    </tr>\n",
       "    <tr>\n",
       "      <th>491</th>\n",
       "      <td>492</td>\n",
       "      <td>162</td>\n",
       "      <td>1</td>\n",
       "      <td>2</td>\n",
       "    </tr>\n",
       "    <tr>\n",
       "      <th>493</th>\n",
       "      <td>494</td>\n",
       "      <td>181</td>\n",
       "      <td>1</td>\n",
       "      <td>2</td>\n",
       "    </tr>\n",
       "    <tr>\n",
       "      <th>497</th>\n",
       "      <td>498</td>\n",
       "      <td>145</td>\n",
       "      <td>1</td>\n",
       "      <td>2</td>\n",
       "    </tr>\n",
       "    <tr>\n",
       "      <th>498</th>\n",
       "      <td>499</td>\n",
       "      <td>180</td>\n",
       "      <td>1</td>\n",
       "      <td>2</td>\n",
       "    </tr>\n",
       "    <tr>\n",
       "      <th>499</th>\n",
       "      <td>500</td>\n",
       "      <td>174</td>\n",
       "      <td>1</td>\n",
       "      <td>2</td>\n",
       "    </tr>\n",
       "  </tbody>\n",
       "</table>\n",
       "<p>204 rows × 4 columns</p>\n",
       "</div>"
      ],
      "text/plain": [
       "     Unnamed: 0  SystolicBP  Smoke  Overwt\n",
       "0             1         133      0       2\n",
       "3             4         132      0       2\n",
       "6             7         133      0       2\n",
       "10           11         103      1       2\n",
       "11           12         137      1       2\n",
       "..          ...         ...    ...     ...\n",
       "491         492         162      1       2\n",
       "493         494         181      1       2\n",
       "497         498         145      1       2\n",
       "498         499         180      1       2\n",
       "499         500         174      1       2\n",
       "\n",
       "[204 rows x 4 columns]"
      ]
     },
     "execution_count": 5,
     "metadata": {},
     "output_type": "execute_result"
    }
   ],
   "source": [
    "# How many people in hte survey can be categorised as obese?\n",
    "df.loc[df.loc[:, 'Overwt'] == 2 ]"
   ]
  },
  {
   "cell_type": "code",
   "execution_count": 6,
   "metadata": {},
   "outputs": [
    {
     "data": {
      "text/html": [
       "<div>\n",
       "<style scoped>\n",
       "    .dataframe tbody tr th:only-of-type {\n",
       "        vertical-align: middle;\n",
       "    }\n",
       "\n",
       "    .dataframe tbody tr th {\n",
       "        vertical-align: top;\n",
       "    }\n",
       "\n",
       "    .dataframe thead th {\n",
       "        text-align: right;\n",
       "    }\n",
       "</style>\n",
       "<table border=\"1\" class=\"dataframe\">\n",
       "  <thead>\n",
       "    <tr style=\"text-align: right;\">\n",
       "      <th></th>\n",
       "      <th>Unnamed: 0</th>\n",
       "      <th>SystolicBP</th>\n",
       "      <th>Smoke</th>\n",
       "      <th>Overwt</th>\n",
       "    </tr>\n",
       "  </thead>\n",
       "  <tbody>\n",
       "    <tr>\n",
       "      <th>2</th>\n",
       "      <td>3</td>\n",
       "      <td>140</td>\n",
       "      <td>1</td>\n",
       "      <td>1</td>\n",
       "    </tr>\n",
       "    <tr>\n",
       "      <th>4</th>\n",
       "      <td>5</td>\n",
       "      <td>133</td>\n",
       "      <td>0</td>\n",
       "      <td>1</td>\n",
       "    </tr>\n",
       "    <tr>\n",
       "      <th>5</th>\n",
       "      <td>6</td>\n",
       "      <td>138</td>\n",
       "      <td>0</td>\n",
       "      <td>1</td>\n",
       "    </tr>\n",
       "    <tr>\n",
       "      <th>12</th>\n",
       "      <td>13</td>\n",
       "      <td>140</td>\n",
       "      <td>0</td>\n",
       "      <td>1</td>\n",
       "    </tr>\n",
       "    <tr>\n",
       "      <th>16</th>\n",
       "      <td>17</td>\n",
       "      <td>131</td>\n",
       "      <td>0</td>\n",
       "      <td>1</td>\n",
       "    </tr>\n",
       "    <tr>\n",
       "      <th>...</th>\n",
       "      <td>...</td>\n",
       "      <td>...</td>\n",
       "      <td>...</td>\n",
       "      <td>...</td>\n",
       "    </tr>\n",
       "    <tr>\n",
       "      <th>456</th>\n",
       "      <td>457</td>\n",
       "      <td>143</td>\n",
       "      <td>1</td>\n",
       "      <td>1</td>\n",
       "    </tr>\n",
       "    <tr>\n",
       "      <th>479</th>\n",
       "      <td>480</td>\n",
       "      <td>144</td>\n",
       "      <td>1</td>\n",
       "      <td>1</td>\n",
       "    </tr>\n",
       "    <tr>\n",
       "      <th>483</th>\n",
       "      <td>484</td>\n",
       "      <td>142</td>\n",
       "      <td>0</td>\n",
       "      <td>1</td>\n",
       "    </tr>\n",
       "    <tr>\n",
       "      <th>494</th>\n",
       "      <td>495</td>\n",
       "      <td>142</td>\n",
       "      <td>0</td>\n",
       "      <td>1</td>\n",
       "    </tr>\n",
       "    <tr>\n",
       "      <th>496</th>\n",
       "      <td>497</td>\n",
       "      <td>181</td>\n",
       "      <td>1</td>\n",
       "      <td>1</td>\n",
       "    </tr>\n",
       "  </tbody>\n",
       "</table>\n",
       "<p>109 rows × 4 columns</p>\n",
       "</div>"
      ],
      "text/plain": [
       "     Unnamed: 0  SystolicBP  Smoke  Overwt\n",
       "2             3         140      1       1\n",
       "4             5         133      0       1\n",
       "5             6         138      0       1\n",
       "12           13         140      0       1\n",
       "16           17         131      0       1\n",
       "..          ...         ...    ...     ...\n",
       "456         457         143      1       1\n",
       "479         480         144      1       1\n",
       "483         484         142      0       1\n",
       "494         495         142      0       1\n",
       "496         497         181      1       1\n",
       "\n",
       "[109 rows x 4 columns]"
      ]
     },
     "execution_count": 6,
     "metadata": {},
     "output_type": "execute_result"
    }
   ],
   "source": [
    "# How many people can be categorised as overweight?\n",
    "df.loc[df.loc[:, 'Overwt'] == 1 ]"
   ]
  },
  {
   "cell_type": "markdown",
   "metadata": {},
   "source": [
    "From an initial view of the dataset, we can see that there is a number of people, 266 in fact, who would describe themselves as smokers. In terms of it's impact and relationship on the other two factors, we can see from information posted by hte [HSE.ie](https://www.hse.ie/eng/about/who/tobaccocontrol/kf/) that there is adverse findings. According to the [HSE.ie](https://www.hse.ie/eng/about/who/tobaccocontrol/kf/) will leave the individual with a higher blood pressure, which in turn could lead to heart attack and stroke if it goes unmanaged.  \n",
    "\n",
    "Whilst it is acknowledged in academia, that smoking will increase the matebaolic rate in an individual, according to [NCBI.nlm.nih.gov](https://www.ncbi.nlm.nih.gov/pmc/articles/PMC4401671/#), it is also true that this prolonged exposure to a heightened heart rate will adversely affect the individual. The effect too, is felt in the lungs, which are of critical importance to the likelihood of exercise being undertaken. There is, at appears to be, a link between smoking and being overweight if not obese.\n",
    "\n",
    "To effectively review the data, given that there are so few variables and the relationship is transparent at first sight, we import the Seaborn package."
   ]
  },
  {
   "cell_type": "code",
   "execution_count": 39,
   "metadata": {},
   "outputs": [],
   "source": [
    "import seaborn as sns"
   ]
  },
  {
   "cell_type": "code",
   "execution_count": 40,
   "metadata": {},
   "outputs": [],
   "source": [
    "import matplotlib.pyplot as plt"
   ]
  },
  {
   "cell_type": "markdown",
   "metadata": {},
   "source": [
    "#### DisPlot "
   ]
  },
  {
   "cell_type": "code",
   "execution_count": 41,
   "metadata": {},
   "outputs": [
    {
     "data": {
      "image/png": "[encoded data removed]",
      "text/plain": [
       "<Figure size 402.375x360 with 1 Axes>"
      ]
     },
     "metadata": {
      "needs_background": "light"
     },
     "output_type": "display_data"
    }
   ],
   "source": [
    "sns.displot(data=df, x=\"SystolicBP\", y=\"Overwt\", hue=\"Smoke\").set(title=\"Blood Pressure versus Weight\");"
   ]
  },
  {
   "cell_type": "markdown",
   "metadata": {},
   "source": [
    "Given the information that we have to hand in this set, we can review the relationship with one consistent paramater on the X-axis i.e. Blood Pressure, and then overlay either smoking or weight as a hue, when the other is the variable on the Y-axis.   \n",
    "\n",
    "From the graph above, we can see that were someone has declared that they do not smoke, they are far more likley to have a healthy Blood Pressure rate, as well as weigh a normal amount. In fact, a person who does not smoke, has no chance of being overweight or likely to suffer from higher blood presuure, which seems unlikely.\n",
    "\n",
    "    For more information inrelation to Blood Pressure, please review hte following site:\n",
    "    https://irishheart.ie/your-health/ways-to-live-better/blood-pressure/\n",
    "    \n",
    "The important thing to note with this information is:\n",
    " - The normal level of blood pressure is usually about 120 (systolic) over 80 (diastolic)\n",
    "\n",
    "Inversely, we can deduce that those who smoke, are far more likely to be obese or overweight, and in-turn are at risk of having an increased and unhealthy Blood Pressure. There is a correlation between having unhealthy bloood pressure and being overweight as well as smoking. That is to say, higher blood presssure is the net effect of having an unhealthy lifestyle according to this graph. \n",
    "\n",
    "However, there is a concern that there are no non-smokers who are in the overweight or obese column, which upon first viewing, doesn't seem right.  "
   ]
  },
  {
   "cell_type": "markdown",
   "metadata": {},
   "source": [
    "___"
   ]
  },
  {
   "cell_type": "markdown",
   "metadata": {},
   "source": [
    "#### CatPlot"
   ]
  },
  {
   "cell_type": "markdown",
   "metadata": {},
   "source": [
    "In order to introduce greater depth of understanding, I have chosen to introduce the catplot function. The catplot function allows for better visualisation given the type of data on display.  \n",
    "\n",
    "Having replicated and adapted the code above, we were given a warning by the package, that the SystolicBP trait could not be displayed to the screen, so we have had to adjust our output. We will noe measure the SystolicBP along the Y-axis.\n",
    "\n",
    "As we work our way up the Y-axis, we can see again that we have SystolicBP which represents Blood Pressure. We are introducing this graph in order to better represent all 500 samples taken, as there is uncertainty about where the smokers of the sample lie in the set. \n",
    "\n",
    "The important thing to note with this information is:\n",
    " - The normal level of blood pressure is usually about 120 (systolic) over 80 (diastolic)\n",
    "\n",
    "The expected outcome from this function is to acquire better determination for the relationship between blood pressure and being overweight and smoking."
   ]
  },
  {
   "cell_type": "code",
   "execution_count": 42,
   "metadata": {},
   "outputs": [
    {
     "data": {
      "image/png": "[encoded data removed]",
      "text/plain": [
       "<Figure size 402.375x360 with 1 Axes>"
      ]
     },
     "metadata": {
      "needs_background": "light"
     },
     "output_type": "display_data"
    }
   ],
   "source": [
    "sns.catplot(data=df, x=\"Overwt\", y=\"SystolicBP\", hue=\"Smoke\", kind=\"swarm\").set(title=\"Weight Categories\");"
   ]
  },
  {
   "cell_type": "markdown",
   "metadata": {},
   "source": [
    "We can now see that there is a greater spread of the respondents who do not smoke, who are both either overweight or obese. These respondents also suffer from having higher blood pressure of greater than 100 as we were led to believe in the first graph.   \n",
    "\n",
    "Although there is still a higher concentration of non-smokers in the normal weight category, there is a wider spread in the other two weight categories.  \n",
    "\n",
    "Being a non-smoker won't always mean that you are of a normal weight, but combining the two will allow us to see that there is a high proportion of the responses are in 120 systilic range or lower. "
   ]
  },
  {
   "cell_type": "markdown",
   "metadata": {},
   "source": [
    "#### Violin Plot"
   ]
  },
  {
   "cell_type": "code",
   "execution_count": 43,
   "metadata": {},
   "outputs": [
    {
     "data": {
      "image/png": "[encoded data removed]",
      "text/plain": [
       "<Figure size 432x288 with 1 Axes>"
      ]
     },
     "metadata": {
      "needs_background": "light"
     },
     "output_type": "display_data"
    }
   ],
   "source": [
    "sns.violinplot(data=df, x=\"Smoke\", y=\"SystolicBP\", hue=\"Overwt\", kind=\"violin\").set(title=\"Non-Smoking Versus Smoking\");"
   ]
  },
  {
   "cell_type": "markdown",
   "metadata": {},
   "source": [
    "Developing on from the graph above, holding Blood Pressure constant on the Y-axis, we can create an alternate view of those who smoke, seperated from those who do not.  \n",
    "\n",
    "If we view the data from a new viewpoint, the [Violin Plot](https://seaborn.pydata.org/generated/seaborn.violinplot.html), where our X-axis is based around the smoking response, and we overlay on that, the catgeories for weight, we get the graph above.  \n",
    "\n",
    "We can clearly see that not smoking will lead to lower blood pressure, but also that there will be less likely to be categorised as overweight. The tail of the first violin on the left hand side of the graph, is in contrast to the head of the obese smoker on the right hand side of the plot. We can also see, that if we look through the centre of the graph, we have created an impression of the Blood Pressure from the sample. There is a wider body of each violin plot from the smoker side of the divide. the wider the body, alludes to the fact that there is a greater amount of respondents who are categorised in that range.\n",
    "\n",
    "___"
   ]
  },
  {
   "cell_type": "markdown",
   "metadata": {},
   "source": [
    "#### Conclusion on DataSet\n",
    "\n",
    "We can see from the graphs above that have been created that there is in fact a correlation between making healhty choices and having a healthy outcome. Although choosing not to smoke will not guarantee that you are of a healthy weight, being of a healthy weight and choosing not to smoke will increase the likelihood of having a healthy blood presssure. \n",
    "\n",
    "Conversly, choosing the opposite of this will leave you more likely to have higher blood presure. This will in-turn likely lead to a higher chance of suffering from heart disease, heart attack, stroke as well as as kidney disease according to the [NHS](https://www.nhs.uk/conditions/high-blood-pressure-hypertension/)\n",
    "\n",
    "Although limited in its scope and detail that can be extracted, there is still a lot of value in the information that is contained in the dataset. "
   ]
  },
  {
   "cell_type": "markdown",
   "metadata": {},
   "source": [
    "___"
   ]
  },
  {
   "cell_type": "markdown",
   "metadata": {},
   "source": [
    "### Simulation of Data using Numpy\n",
    "#### Overview of Numpy.Random\n",
    "\n",
    "In order to effectively simulate the data required to emulate the information as it is provided above, as a template for further testing, we must first understand the operational overview of the numpy.random package. \n",
    "\n",
    "Comprising of a generator and a bitgenerator, there is a melding of sequence creation and different statistical distributions applied against to effectively generate random numbers, as per [Numpy](https://numpy.org/doc/stable/reference/random/index.html?highlight=numpy%20random#module-numpy.random). While the remit of this exercise is not to walk tnrough all components of the package, a high-level understanding will be displayed in code blocks and implementaion to better understand the material.   \n",
    "\n",
    "If you are interested in the Permuted Congrunetila Generator-64bit (PCG), please click the following link:[pcg-random.org](https://www.pcg-random.org/)  \n",
    "\n",
    "Once we have stood up our PCG, and we are looking to create some data, it is important to note that the Numpy.random package has three core areas that can be leveraged against. \n",
    "\n",
    "- Simple Random Data \n",
    "- Permutations\n",
    "- Distributions\n",
    "\n",
    "At a high-level, there are four sub-components that are part of Simple Random Data layer:\n",
    "- Integer, Random, Choice, Bytes   \n",
    "\n",
    "Permutations, as the name suggests, to those that are familiar to it, has a narrower scope, facilitating:\n",
    "- Shuffle & Permutation  \n",
    "\n",
    "Distributions, on the other hand, has a much wider span, with more than 35 distributions that can be accessed, such as \n",
    "- Power, Multinomial, Triangular & Wald  "
   ]
  },
  {
   "cell_type": "markdown",
   "metadata": {},
   "source": [
    "___"
   ]
  },
  {
   "cell_type": "markdown",
   "metadata": {},
   "source": [
    "#### Starting the Numpy.Random Package"
   ]
  },
  {
   "cell_type": "code",
   "execution_count": 44,
   "metadata": {},
   "outputs": [
    {
     "data": {
      "text/plain": [
       "Generator(PCG64) at 0x1D976219310"
      ]
     },
     "execution_count": 44,
     "metadata": {},
     "output_type": "execute_result"
    }
   ],
   "source": [
    "import numpy as np\n",
    "from numpy.random import default_rng\n",
    "rng = default_rng()\n",
    "\n",
    "rng"
   ]
  },
  {
   "cell_type": "code",
   "execution_count": 45,
   "metadata": {},
   "outputs": [],
   "source": [
    "# In the output above we have the generator that numpy.random operates from. "
   ]
  },
  {
   "cell_type": "code",
   "execution_count": 46,
   "metadata": {},
   "outputs": [
    {
     "data": {
      "text/plain": [
       "154144927356285532541998192302268129453"
      ]
     },
     "execution_count": 46,
     "metadata": {},
     "output_type": "execute_result"
    }
   ],
   "source": [
    "sq1 = np.random.SeedSequence()\n",
    "sq1.entropy"
   ]
  },
  {
   "cell_type": "code",
   "execution_count": 47,
   "metadata": {},
   "outputs": [
    {
     "data": {
      "text/plain": [
       "-1.4238250364546312"
      ]
     },
     "execution_count": 47,
     "metadata": {},
     "output_type": "execute_result"
    }
   ],
   "source": [
    "from numpy.random import Generator, PCG64\n",
    "rg = Generator(PCG64(12345))\n",
    "rg.standard_normal()"
   ]
  },
  {
   "cell_type": "code",
   "execution_count": 48,
   "metadata": {},
   "outputs": [],
   "source": [
    "# The information in the code blocks above were created from the offical numpy.org documentation\n",
    "# https://numpy.org/doc/stable/reference/random/index.html?highlight=numpy%20random#module-numpy.random"
   ]
  },
  {
   "cell_type": "markdown",
   "metadata": {},
   "source": [
    "___"
   ]
  },
  {
   "cell_type": "markdown",
   "metadata": {},
   "source": [
    "### Simulating a DataSet\n",
    "\n",
    "Before we can produce a set of data, we need to know what information should be collected. Based on the information that we have already viewed in the previous dataset, there are some factors that we can seek to simulate, namely smoking. \n",
    "\n",
    "From reading other reports, such as the one published by [change4health.org](https://www.change4health.org/technologies/consumer-e-health-and-health-metrics/tools/health-metrics/), we can also see that exercise is a key factor for determining health of an individual.\n",
    "\n",
    "Age is also a factor that can be reviewed in a new light. According to information contained on a report, publiched by [OpenLearn.edu](https://www.open.edu/openlearn/health-sports-psychology/health/factors-influence-health-introduction/content-section-2.3), there is the consideration that age is only the accumulation of decisions, and not just \"a period of decrepitude and decline\" [OpenLearn.edu](https://www.open.edu/openlearn/health-sports-psychology/health/factors-influence-health-introduction/content-section-2.3)\n",
    "\n",
    "\n",
    "To make things more favourable to an Irish setting, there are going to be a number of restrictions placed on the data, so that we can reproduce in line with Irish information. These will be explained throughout the text in each individual section. \n",
    "\n",
    "There are a number of variables that can be pulled into this dataset, but the remit of this exercise is to create four. \n",
    "We could have also chosen to replicate the Blood Pressure, weight, height, race, alcohol intake, level od stress, income, level of education, but instead the following has been chosen.\n",
    "\n",
    "### Irish Health DataSet\n",
    "\n",
    "Questions that have been asked and the answers available.  \n",
    "#### Smoking: \n",
    "Do you condider yourself to be a smoker?  \n",
    "    - Yes  \n",
    "    - No  \n",
    "\n",
    "#### Gender: \n",
    "Do you identify as either Female or Male ?  \n",
    "    - Female (True / Yes)  \n",
    "    - Male   (False / No)  \n",
    "    \n",
    "#### Age: \n",
    "How old are you? \n",
    "\n",
    "#### Exercise:\n",
    "How frquently do you exercise, choosing one of the three categories below to determine your response?  \n",
    "    - Frequently    \n",
    "    - Moderate  \n",
    "    - None  \n",
    "\n",
    "#### Time Series:\n",
    "This will not be a response, but an automatically tracked datetime series tracking the responses over time.  "
   ]
  },
  {
   "cell_type": "markdown",
   "metadata": {},
   "source": [
    "___"
   ]
  },
  {
   "cell_type": "markdown",
   "metadata": {},
   "source": [
    "#### Creation of data for the area of Health"
   ]
  },
  {
   "cell_type": "markdown",
   "metadata": {},
   "source": [
    "If we take a factor such as smoking as being influential on the health of a person, we can replicate the scenario from above and develop on it with additional characteristics.\n",
    "\n",
    "Let's replicate the information on the selection for smoking, whereby if the person smokes we assign a value of 1 and if not a 0.  \n",
    "One of the minimum points of imnformation that we are seeking to create, is 100 points of data across four variables. Let's say that we want to create a larger array of information, to allow for better insight, as well as simulating it over a longer period of time. We allow the size of our arguement to be the following:"
   ]
  },
  {
   "cell_type": "code",
   "execution_count": 49,
   "metadata": {},
   "outputs": [],
   "source": [
    "size = 500"
   ]
  },
  {
   "cell_type": "markdown",
   "metadata": {},
   "source": [
    "#### Smoking\n",
    "\n",
    "One of the factors that we are going to take into account, is the number of smokers that are in the population. \n",
    "After years of advertising about the dangers of smoking, the latest figures put the number of smokers in Ireland at 17% according to the [Department of Health](https://www.gov.ie/en/press-release/7d9caf-level-of-smoking-drops-to-17-of-the-population-healthy-ireland-surve/#:~:text=The%20prevalence%20of%20smoking%20has,a%20good%20motivation%20to%20quit.). This represents a decrease of 6% on the previous entry in the series.    \n",
    "\n",
    "We can account for this statistic, by reducing the amount of people we designate as smoking in our simulation. We need to create a binomial distribution with a weighted percentage against smoking. Smoking is, as detiled above a negative characterisitc that will detract from the overall health of an individual.\n",
    "\n",
    "If we take the number of trials as n, and the probability as p.  "
   ]
  },
  {
   "cell_type": "code",
   "execution_count": 50,
   "metadata": {},
   "outputs": [],
   "source": [
    "n, p = 1, 0.17"
   ]
  },
  {
   "cell_type": "code",
   "execution_count": 51,
   "metadata": {
    "scrolled": true
   },
   "outputs": [],
   "source": [
    "Smoking = rng.binomial(n, p, size=size)\n",
    "TotalSmokers = sum(Smoking)"
   ]
  },
  {
   "cell_type": "code",
   "execution_count": 52,
   "metadata": {},
   "outputs": [
    {
     "data": {
      "text/plain": [
       "84"
      ]
     },
     "execution_count": 52,
     "metadata": {},
     "output_type": "execute_result"
    }
   ],
   "source": [
    "TotalSmokers"
   ]
  },
  {
   "cell_type": "markdown",
   "metadata": {},
   "source": [
    "There are a total of 84 smokers that have been simulated for this activity, which, as a percentage of the 500 samples that we have created is 17.4% of the sample, so a little higher, but still in the expected range. If we ran this simulation over and over we would create variance in this measure, which would average out to c.17%."
   ]
  },
  {
   "cell_type": "markdown",
   "metadata": {},
   "source": [
    "#### Gender\n",
    "\n",
    "we can also see that there is a second boolean expression that we can use to offer better insight into the dataset, Gender. \n",
    "Given the nature of the divide in Irish society, whereby there are 978 males for every 1,000 females, we can simulate some data to account for this. This information can be viewed in greater detail on the [Central Statistics Office](https://www.cso.ie/en/releasesandpublications/ep/p-cp3oy/cp3/assr/) site. \n",
    "\n",
    "In the same scenario as Smoking, we can allow for a biased weight in favour of females as they are more likely to be born."
   ]
  },
  {
   "cell_type": "code",
   "execution_count": 63,
   "metadata": {},
   "outputs": [],
   "source": [
    "a, b = 1, 0.51"
   ]
  },
  {
   "cell_type": "code",
   "execution_count": 64,
   "metadata": {},
   "outputs": [
    {
     "data": {
      "text/plain": [
       "254"
      ]
     },
     "execution_count": 64,
     "metadata": {},
     "output_type": "execute_result"
    }
   ],
   "source": [
    "Gender = rng.binomial(a, b, size=size)\n",
    "TotalFemales = sum(Gender)\n",
    "TotalFemales"
   ]
  },
  {
   "cell_type": "markdown",
   "metadata": {},
   "source": [
    "#### Age\n",
    "\n",
    "Another factor that is documented in the course of the research is that of age. The simulation has been created to capture those of the legal smoking age. For this reason, the lower end of the age spectrum will be 18. When accounting for the higher end of the spectrum, we can review the material that is made available from the [Central Statistics Office](https://www.cso.ie/en/releasesandpublications/ep/p-cp3oy/cp3/assr/) in relation to Age structure as well as the breakdown that gender can pplay in this cohort, to be reviewed on the [Central Statistics Office](https://www.cso.ie/en/releasesandpublications/ep/p-cp3oy/cp3/aad/). \n",
    "\n",
    "An image has been added to capure the spread of age grpups in Ireland, divided by gender. With this image, I intend to place the higher limit of the survey at 101, as the proportinate amount of individuals in this older cohort tapers off.  \n",
    "\n",
    "For further research into age as a factor that a nation has a dependence on, please review the [Worldometers.info](https://www.worldometers.info/demographics/ireland-demographics/) site. "
   ]
  },
  {
   "attachments": {
    "IrelandAge.PNG": {
     "image/png": "[encoded data removed]"
    }
   },
   "cell_type": "markdown",
   "metadata": {},
   "source": [
    "![IrelandAge.PNG](attachment:IrelandAge.PNG)"
   ]
  },
  {
   "cell_type": "markdown",
   "metadata": {},
   "source": [
    "###### Image has been taken from the cso.ie website, retrieved on 02-01-2021 at https://www.cso.ie/en/releasesandpublications/ep/p-cp3oy/cp3/assr/"
   ]
  },
  {
   "cell_type": "code",
   "execution_count": 22,
   "metadata": {
    "scrolled": true
   },
   "outputs": [],
   "source": [
    "Age = rng.integers(18,102, size=size)"
   ]
  },
  {
   "cell_type": "markdown",
   "metadata": {},
   "source": [
    "Now that we have created a range of numbers that our sample will read in as Age, we need to create a distribution of these ages. In order to create this Normal distribution, we need to create the following, as per the [Numpy.org](https://numpy.org/doc/stable/reference/random/generated/numpy.random.Generator.normal.html#numpy.random.Generator.normal) site.  "
   ]
  },
  {
   "cell_type": "code",
   "execution_count": 23,
   "metadata": {},
   "outputs": [
    {
     "data": {
      "text/plain": [
       "58.946"
      ]
     },
     "execution_count": 23,
     "metadata": {},
     "output_type": "execute_result"
    }
   ],
   "source": [
    "MeanAge = np.mean(Age)\n",
    "MeanAge"
   ]
  },
  {
   "cell_type": "code",
   "execution_count": 24,
   "metadata": {},
   "outputs": [
    {
     "data": {
      "text/plain": [
       "24.08474795384"
      ]
     },
     "execution_count": 24,
     "metadata": {},
     "output_type": "execute_result"
    }
   ],
   "source": [
    "StdAge = np.std(Age)\n",
    "StdAge"
   ]
  },
  {
   "cell_type": "code",
   "execution_count": 25,
   "metadata": {},
   "outputs": [],
   "source": [
    "AgeDist = rng.normal(MeanAge, StdAge, size)"
   ]
  },
  {
   "cell_type": "code",
   "execution_count": 26,
   "metadata": {},
   "outputs": [
    {
     "data": {
      "image/png": "[encoded data removed]",
      "text/plain": [
       "<Figure size 360x360 with 1 Axes>"
      ]
     },
     "metadata": {
      "needs_background": "light"
     },
     "output_type": "display_data"
    }
   ],
   "source": [
    "sns.displot(AgeDist).set(title=\"Age Distribution of Respondents\");"
   ]
  },
  {
   "cell_type": "markdown",
   "metadata": {},
   "source": [
    "#### Exercise\n",
    "\n",
    "In the same way that smoking can negatively affect the health of an individual, so too can the lack of regaular exercise. \n",
    "According to the [MedLine Plus](https://medlineplus.gov/benefitsofexercise.html) there are a multitude of benefits that can taken from eercise, such as control of your weight, as well as aiding in curbing your smoking habits.\n",
    "\n",
    "To those who would be in the more vulnerable age groups, older adults, exercise is even more important. According to the [CDC.gov](https://www.cdc.gov/nccdphp/sgr/olderad.htm#:~:text=regular%20physical%20activity.-,Benefits%20of%20Physical%20Activity,%2C%20colon%20cancer%2C%20and%20diabetes.), the importance is that it can prolong the options for living independently,as well as improving the overall chance of living for longer. "
   ]
  },
  {
   "cell_type": "code",
   "execution_count": 70,
   "metadata": {},
   "outputs": [
    {
     "data": {
      "image/png": "[encoded data removed]",
      "text/plain": [
       "<Figure size 432x288 with 1 Axes>"
      ]
     },
     "metadata": {
      "needs_background": "light"
     },
     "output_type": "display_data"
    }
   ],
   "source": [
    "Exercise = rng.integers(3, size=size)\n",
    "plt.bar(Exercise, size, label=\"Exercise Breakdown by Applicant\");"
   ]
  },
  {
   "cell_type": "markdown",
   "metadata": {},
   "source": [
    "Although not the most insightful of grpahs, we can see that there is a normal distrubtion of the three entries across the three seperate bar charts. \n",
    "\n",
    "The code for this was adpated from [tutprialspoint.com](https://www.tutorialspoint.com/matplotlib/matplotlib_bar_plot.htm)\n",
    "\n",
    "In the following exercise, in the same way we created a distributino for the age spread,we are going to apply teh same rationale for exercise. "
   ]
  },
  {
   "cell_type": "code",
   "execution_count": 71,
   "metadata": {},
   "outputs": [],
   "source": [
    "MeanEx = np.mean(Exercise)"
   ]
  },
  {
   "cell_type": "code",
   "execution_count": 72,
   "metadata": {},
   "outputs": [],
   "source": [
    "StdEx = np.std(Exercise)"
   ]
  },
  {
   "cell_type": "code",
   "execution_count": 73,
   "metadata": {},
   "outputs": [],
   "source": [
    "ExerciseDist = rng.normal(MeanEx, StdEx, size)"
   ]
  },
  {
   "cell_type": "code",
   "execution_count": 74,
   "metadata": {},
   "outputs": [
    {
     "data": {
      "image/png": "[encoded data removed]",
      "text/plain": [
       "<Figure size 360x360 with 1 Axes>"
      ]
     },
     "metadata": {
      "needs_background": "light"
     },
     "output_type": "display_data"
    }
   ],
   "source": [
    "sns.displot(ExerciseDist).set(title=\"Normal Distribution for Age given local restriction\");"
   ]
  },
  {
   "cell_type": "markdown",
   "metadata": {},
   "source": [
    "#### Time Series - Recording Entry\n",
    "\n",
    "Create a data range that will simulate 100 entries per year over a five year span.  \n",
    "\n",
    "There is within this code block a number of arguements that will help to align these entries to the expected outcome. \n",
    "In order for the calendar to be utilised, there was a start date of the first Monday in a year applied. \n",
    "\n",
    "In order for the eventual dataset to be created, we knew the output would be in an array format. This, however, meant ensuring that the size of the arguement would be the same as the arrays that have been created to date. An aaray can only be added to an array of the same size. \n",
    "\n",
    "Lastly, the frequency needed to align to the days that were considered to be working days. This was achived by reviewing the official [Pandas.org](https://pandas.pydata.org/pandas-docs/stable/user_guide/timeseries.html) documentation site, as well as reviewing examples of the implemntation of pandas on the [Stack Overflow](https://stackoverflow.com/questions/25597200/extract-business-days-in-time-series-using-python-pandas) forum. "
   ]
  },
  {
   "cell_type": "code",
   "execution_count": 75,
   "metadata": {},
   "outputs": [
    {
     "data": {
      "text/plain": [
       "DatetimeIndex(['2015-01-05', '2015-01-06', '2015-01-07', '2015-01-08',\n",
       "               '2015-01-09', '2015-01-12', '2015-01-13', '2015-01-14',\n",
       "               '2015-01-15', '2015-01-16',\n",
       "               ...\n",
       "               '2016-11-21', '2016-11-22', '2016-11-23', '2016-11-24',\n",
       "               '2016-11-25', '2016-11-28', '2016-11-29', '2016-11-30',\n",
       "               '2016-12-01', '2016-12-02'],\n",
       "              dtype='datetime64[ns]', length=500, freq='B')"
      ]
     },
     "execution_count": 75,
     "metadata": {},
     "output_type": "execute_result"
    }
   ],
   "source": [
    "DateRange = pd.date_range('01/05/2015', periods=size, freq='B')\n",
    "DateRange"
   ]
  },
  {
   "cell_type": "markdown",
   "metadata": {},
   "source": [
    "### Simulated Dataset"
   ]
  },
  {
   "cell_type": "markdown",
   "metadata": {},
   "source": [
    "In order to read in the information that we have created, I am going to create a variable, called Health, that will act as the dataset for all of the individual aspects that have been simulated to date. \n",
    "\n",
    "This datset will then be applied as an arguement to the pandas function, out of which will be a tabular view of the information."
   ]
  },
  {
   "cell_type": "code",
   "execution_count": 76,
   "metadata": {},
   "outputs": [],
   "source": [
    "Health = {'DateRange':DateRange, 'Smoking':Smoking, 'Gender':Gender, 'Age':Age, 'Exercise':Exercise}"
   ]
  },
  {
   "cell_type": "code",
   "execution_count": 77,
   "metadata": {},
   "outputs": [],
   "source": [
    "HealthDataFrame = pd.DataFrame(data=Health)"
   ]
  },
  {
   "cell_type": "code",
   "execution_count": 78,
   "metadata": {},
   "outputs": [
    {
     "data": {
      "text/html": [
       "<div>\n",
       "<style scoped>\n",
       "    .dataframe tbody tr th:only-of-type {\n",
       "        vertical-align: middle;\n",
       "    }\n",
       "\n",
       "    .dataframe tbody tr th {\n",
       "        vertical-align: top;\n",
       "    }\n",
       "\n",
       "    .dataframe thead th {\n",
       "        text-align: right;\n",
       "    }\n",
       "</style>\n",
       "<table border=\"1\" class=\"dataframe\">\n",
       "  <thead>\n",
       "    <tr style=\"text-align: right;\">\n",
       "      <th></th>\n",
       "      <th>DateRange</th>\n",
       "      <th>Smoking</th>\n",
       "      <th>Gender</th>\n",
       "      <th>Age</th>\n",
       "      <th>Exercise</th>\n",
       "    </tr>\n",
       "  </thead>\n",
       "  <tbody>\n",
       "    <tr>\n",
       "      <th>0</th>\n",
       "      <td>2015-01-05</td>\n",
       "      <td>0</td>\n",
       "      <td>0</td>\n",
       "      <td>35</td>\n",
       "      <td>2</td>\n",
       "    </tr>\n",
       "    <tr>\n",
       "      <th>1</th>\n",
       "      <td>2015-01-06</td>\n",
       "      <td>0</td>\n",
       "      <td>0</td>\n",
       "      <td>44</td>\n",
       "      <td>0</td>\n",
       "    </tr>\n",
       "    <tr>\n",
       "      <th>2</th>\n",
       "      <td>2015-01-07</td>\n",
       "      <td>0</td>\n",
       "      <td>1</td>\n",
       "      <td>33</td>\n",
       "      <td>1</td>\n",
       "    </tr>\n",
       "    <tr>\n",
       "      <th>3</th>\n",
       "      <td>2015-01-08</td>\n",
       "      <td>0</td>\n",
       "      <td>1</td>\n",
       "      <td>76</td>\n",
       "      <td>0</td>\n",
       "    </tr>\n",
       "    <tr>\n",
       "      <th>4</th>\n",
       "      <td>2015-01-09</td>\n",
       "      <td>0</td>\n",
       "      <td>1</td>\n",
       "      <td>90</td>\n",
       "      <td>2</td>\n",
       "    </tr>\n",
       "    <tr>\n",
       "      <th>...</th>\n",
       "      <td>...</td>\n",
       "      <td>...</td>\n",
       "      <td>...</td>\n",
       "      <td>...</td>\n",
       "      <td>...</td>\n",
       "    </tr>\n",
       "    <tr>\n",
       "      <th>495</th>\n",
       "      <td>2016-11-28</td>\n",
       "      <td>0</td>\n",
       "      <td>0</td>\n",
       "      <td>90</td>\n",
       "      <td>0</td>\n",
       "    </tr>\n",
       "    <tr>\n",
       "      <th>496</th>\n",
       "      <td>2016-11-29</td>\n",
       "      <td>1</td>\n",
       "      <td>0</td>\n",
       "      <td>72</td>\n",
       "      <td>0</td>\n",
       "    </tr>\n",
       "    <tr>\n",
       "      <th>497</th>\n",
       "      <td>2016-11-30</td>\n",
       "      <td>0</td>\n",
       "      <td>1</td>\n",
       "      <td>44</td>\n",
       "      <td>1</td>\n",
       "    </tr>\n",
       "    <tr>\n",
       "      <th>498</th>\n",
       "      <td>2016-12-01</td>\n",
       "      <td>0</td>\n",
       "      <td>1</td>\n",
       "      <td>97</td>\n",
       "      <td>0</td>\n",
       "    </tr>\n",
       "    <tr>\n",
       "      <th>499</th>\n",
       "      <td>2016-12-02</td>\n",
       "      <td>0</td>\n",
       "      <td>1</td>\n",
       "      <td>40</td>\n",
       "      <td>2</td>\n",
       "    </tr>\n",
       "  </tbody>\n",
       "</table>\n",
       "<p>500 rows × 5 columns</p>\n",
       "</div>"
      ],
      "text/plain": [
       "     DateRange  Smoking  Gender  Age  Exercise\n",
       "0   2015-01-05        0       0   35         2\n",
       "1   2015-01-06        0       0   44         0\n",
       "2   2015-01-07        0       1   33         1\n",
       "3   2015-01-08        0       1   76         0\n",
       "4   2015-01-09        0       1   90         2\n",
       "..         ...      ...     ...  ...       ...\n",
       "495 2016-11-28        0       0   90         0\n",
       "496 2016-11-29        1       0   72         0\n",
       "497 2016-11-30        0       1   44         1\n",
       "498 2016-12-01        0       1   97         0\n",
       "499 2016-12-02        0       1   40         2\n",
       "\n",
       "[500 rows x 5 columns]"
      ]
     },
     "execution_count": 78,
     "metadata": {},
     "output_type": "execute_result"
    }
   ],
   "source": [
    "HealthDataFrame"
   ]
  },
  {
   "cell_type": "code",
   "execution_count": 81,
   "metadata": {},
   "outputs": [
    {
     "data": {
      "image/png": "[encoded data removed]",
      "text/plain": [
       "<Figure size 411.25x360 with 1 Axes>"
      ]
     },
     "metadata": {
      "needs_background": "light"
     },
     "output_type": "display_data"
    }
   ],
   "source": [
    "sns.catplot(data=HealthDataFrame, x=\"Exercise\", y=\"Age\", hue=\"Smoking\", kind=\"swarm\").set(title=\"Frequency of Exercise versus Age\");"
   ]
  },
  {
   "cell_type": "markdown",
   "metadata": {},
   "source": [
    "From our simulated information, we have been able to effectively create a picture that is accurate and reflective on society. \n",
    "We can see from the images above that there are a minority of cases where the respondent would have selcted that they are a smoker. There is, however, an even distribution of ages from the low to high ned that has been created.  \n",
    "\n",
    "So although we have simulated the information as per the instruction, there has been an inability to apply a weighted approach to the data. The ideal outcome, would have been to replicate the image, as per the CSO website. Despite consulting numerous other prohrects and articles, such as this article published by [Kite.com](https://www.kite.com/python/answers/how-to-get-a-weighted-random-choice-in-python), or this article by [PyNative.com](https://pynative.com/python-weighted-random-choices-with-probability/). Perhaps with the latest updates to the NUmpy package, there has been some loss in functionality on that particular numeric generator."
   ]
  },
  {
   "cell_type": "code",
   "execution_count": 37,
   "metadata": {},
   "outputs": [
    {
     "data": {
      "image/png": "[encoded data removed]",
      "text/plain": [
       "<Figure size 432x288 with 1 Axes>"
      ]
     },
     "metadata": {
      "needs_background": "light"
     },
     "output_type": "display_data"
    }
   ],
   "source": [
    "sns.violinplot(data=HealthDataFrame, x=\"Smoking\", y=\"Age\", hue=\"Exercise\", kind=\"violin\").set(title=\"Non-Smoking Versus Smoking\");"
   ]
  },
  {
   "cell_type": "code",
   "execution_count": 38,
   "metadata": {},
   "outputs": [
    {
     "data": {
      "image/png": "[encoded data removed]",
      "text/plain": [
       "<Figure size 432x432 with 3 Axes>"
      ]
     },
     "metadata": {
      "needs_background": "light"
     },
     "output_type": "display_data"
    }
   ],
   "source": [
    "sns.jointplot(data=HealthDataFrame, x=\"Exercise\", y=\"Age\",  hue=\"Gender\");"
   ]
  },
  {
   "cell_type": "markdown",
   "metadata": {},
   "source": [
    "### Conclusion\n",
    "\n",
    "When we review the information that has been simulated and compare it to the dataset that was the basis for its' creation, there are some conclusions to be taken from it. \n",
    "\n",
    "There were a number of successfully simulated components within each variable.   \n",
    "\n",
    "Smoking  \n",
    "- Within the area of smoking, in an Irish context there has been a simulaiton, that is accurate of the population according to Government statistics.    \n",
    "\n",
    "Gender  \n",
    "- In a similar fashion to the smoking simulation, there has been a sample created that is reflective of the opulation of Ireland with a slight bias tending toward the female cohort, although very slight. However, the limitations of this research, do not account for trends in recent years, such as non-disclosure of gender, or a preference to state what Gender pronoun a person so chooses. Although this data has been created in a binomial environment, reality eould dictate that the scope be widened.    \n",
    "\n",
    "\n",
    "Age  \n",
    "- There has been an informed limitation placed on this variable that is in-line with the informaiton to hand. Having created a variable with an upper and lower bound, there was a need to try and create a variable that hung off of this one, win order to create a weighted variable. Unfortunately, either due to personal or technical constraints, there was an in-ability to create a satisfactory outcome. There should have been a wider spread from start to the third quarter of this data. Ireland has a life expectancy rate, according to the [Central Statistics Office](https://www.cso.ie/en/interactivezone/statisticsexplained/birthsdeathsandmarriages/lifeexpectancytables/) of 78.4 for men, whilst it is 82.8 for women. It would have been ideal to be able to influence this information directly onto the dataset, but unfortunately, technical knowledge impeded this being implemented successfully.   \n",
    "\n",
    "Exercise  \n",
    "- Despite successfully creating the disribution of information that I would have liked to collect, there was an inability to create a correlation with Age. There has been a plethora of information that shows, that there is a relationship, honing in on the importance of Exercise on the older population, as detailed in this report.  \n",
    "\n",
    "Time Series  \n",
    "- There was one area that I wanted to create information based on, and that was to place restrictions over a period, whereby the information was carried out over the course of 500 working days. The number 500 was relatively arbitrary, and linked to the dataset that was reviewed from the outset. Once this number has been selected, I knew that there would a long lasting impact on the shape of the array, as well as the information to be linked to the array going forward.  "
   ]
  },
  {
   "cell_type": "markdown",
   "metadata": {},
   "source": [
    "___"
   ]
  },
  {
   "cell_type": "markdown",
   "metadata": {},
   "source": [
    "### Bibliography\n",
    "\n",
    "\n",
    "Seaborn Official site, retrieved on 30-12-2020  \n",
    "https://seaborn.pydata.org/introduction.html  \n",
    "\n",
    "Pandas - Read a CSV File, retrieved on 30-12-2020  \n",
    "https://pandas.pydata.org/pandas-docs/stable/reference/api/pandas.read_csv.html  \n",
    "\n",
    "Vincent Arel-Bundock GitHub, retrieved on 30-12-2020    \n",
    "https://vincentarelbundock.github.io/Rdatasets/datasets.html  \n",
    "\n",
    "Vincent Arel-Bundock GitHub, retrieved on 30-12-2020  \n",
    "https://vincentarelbundock.github.io/Rdatasets/doc/Stat2Data/Blood1.html    \n",
    "\n",
    "Statistical Society of Canada, retrieved on 30-12-2020   \n",
    "https://ssc.ca/en/case-studies-2003-annual-meeting    \n",
    "\n",
    "Cambridge Dictionary, retrieved on 30-12-2020  \n",
    "https://dictionary.cambridge.org/dictionary/english/phenomenon\n",
    "\n",
    "Numpy.org, retrieved on 30-12-2020  \n",
    "https://numpy.org/doc/stable/reference/random/index.html?highlight=numpy%20random#module-numpy.random  \n",
    "\n",
    "PCG, A Family of Better Random Number Generators, retrieved on 30-12-2020   \n",
    "https://www.pcg-random.org/\n",
    "\n",
    "numpy.random.Generator.random, retrieved on 30-12-2020  \n",
    "https://numpy.org/doc/stable/reference/random/generated/numpy.random.Generator.random.html#numpy.random.Generator.random\n",
    "\n",
    "Permuted Congruential Generator (64-bit, PCG64), retrieved on 30-12-2020  \n",
    "https://numpy.org/doc/stable/reference/random/bit_generators/pcg64.html#numpy.random.PCG64\n",
    "\n",
    "numpy.random.SeedSequence, retrieved on 30-12-2020  \n",
    "https://numpy.org/doc/stable/reference/random/bit_generators/generated/numpy.random.SeedSequence.html#numpy.random.SeedSequence\n",
    "\n",
    "Setting a Title in Seaborn, retrieved on 01-01-2021  \n",
    "https://stackoverflow.com/questions/42406233/how-to-add-title-to-seaborn-boxplot\n",
    "\n",
    "NHS.co.uk - High Blood Pressure, retrieved on 01-01-2021  \n",
    "https://www.nhs.uk/conditions/high-blood-pressure-hypertension/\n",
    "\n",
    "Array into table in Python, retrieved on 01-01-2021  \n",
    "https://stackoverflow.com/questions/47611988/array-into-table-in-python/47612085\n",
    "\n",
    "numpy.org - Numpy Generated Integers, retrieved on 01-01-2021    \n",
    "https://numpy.org/doc/stable/reference/random/generated/numpy.random.Generator.integers.html#numpy.random.Generator.integers\n",
    "\n",
    "Pandas -Indexing and Selecting Data, retrieved on 30-12-2020  \n",
    "https://pandas.pydata.org/pandas-docs/stable/user_guide/indexing.html\n",
    "\n",
    "ShaneLynn.ie - Boolean / Logical indexing using .loc, retriecved on 30-12-2020  \n",
    "https://www.shanelynn.ie/select-pandas-dataframe-rows-and-columns-using-iloc-loc-and-ix/\n",
    "\n",
    "Geeksforgeeks.com - Mean and Standard deviation in Python, retrieved on 30-12-2020  \n",
    "https://www.geeksforgeeks.org/compute-the-mean-standard-deviation-and-variance-of-a-given-numpy-array/\n",
    "\n",
    "Seaborn.org- Scatterplot with categorical variables, retrieved on 30-12-2020   \n",
    "https://seaborn.pydata.org/examples/scatterplot_categorical.html\n",
    "\n",
    "Gov.ie - Level of smoking drops to 17% of the population - Healthy Ireland Survey, retrieved on 01-01-2021\n",
    "https://www.gov.ie/en/press-release/7d9caf-level-of-smoking-drops-to-17-of-the-population-healthy-ireland-surve/#:~:text=The%20prevalence%20of%20smoking%20has,a%20good%20motivation%20to%20quit.\n",
    "\n",
    "Numpy.org - Binomial distribution, retrieved on 30-12-2020  \n",
    "https://numpy.org/doc/stable/reference/random/generated/numpy.random.binomial.html\n",
    "\n",
    "GeeksforGeeks.org - sum total of an array, retrieved on 02-01-2021  \n",
    "https://www.geeksforgeeks.org/python-program-to-find-sum-of-array/\n",
    "\n",
    "MedlinePlus - Benefits of Exercise, retrieved on 02-01-2021  \n",
    "https://medlineplus.gov/benefitsofexercise.html\n",
    "\n",
    "Centres for Disease Control and Prevention - Older Adutls,  retrieved on 02-01-2021   \n",
    "https://www.cdc.gov/nccdphp/sgr/olderad.htm#:~:text=regular%20physical%20activity.-,Benefits%20of%20Physical%20Activity,%2C%20colon%20cancer%2C%20and%20diabetes.\n",
    "\n",
    "Central Statistics Office in Ireland - Age Distribution, retrieved on 02-01-2021  \n",
    "https://www.cso.ie/en/releasesandpublications/ep/p-cp3oy/cp3/assr/\n",
    "\n",
    "Central Statistics Office in Ireland - Age Dependence, retrieved on 02-01-2021 (Image)  \n",
    "https://www.cso.ie/en/releasesandpublications/ep/p-cp3oy/cp3/aad/\n",
    "\n",
    "Central Statistics Office in Ireland - Ireland Population Breakdown, retrieved on 02-01-2021  \n",
    "https://www.worldometers.info/demographics/ireland-demographics/\n",
    "\n",
    "Stack Overflow - How to generate a random normal distribution of integers, retrieved on 30-12-2020  \n",
    "https://stackoverflow.com/questions/37411633/how-to-generate-a-random-normal-distribution-of-integers\n",
    "\n",
    "Numpy.org - Random Generator, retrieved on 30-12-2020  \n",
    "https://numpy.org/doc/stable/reference/random/generator.html#numpy.random.Generator\n",
    "\n",
    "Numpy.org - Binomial Generator, retrieved on 30-12-2020  \n",
    "https://numpy.org/doc/stable/reference/random/generated/numpy.random.binomial.html\n",
    "\n",
    "HealthKnowledge.org - Standard Statistical Distributions, retrieved on 30-12-2020  \n",
    "https://www.healthknowledge.org.uk/public-health-textbook/research-methods/1b-statistical-methods/statistical-distributions\n",
    "\n",
    "Numpy.org - Chi-Square, retrieved on 30-12-2020  \n",
    "https://numpy.org/doc/stable/reference/random/generated/numpy.random.Generator.chisquare.html#numpy.random.Generator.chisquare\n",
    "\n",
    "makeareadme.com - ReadMe 101, retrieved on 02-02-2021  \n",
    "https://www.makeareadme.com/\n",
    "\n",
    "w3schools.com - Python Booleans, retrieved on 03-02-2021  \n",
    "https://www.w3schools.com/python/python_booleans.asp\n",
    "\n",
    "Dare S, Mackay DF, Pell JP. Relationship between smoking and obesity: a cross-sectional study of 499,504 middle-aged adults in the UK general population [published correction appears in PLoS One. 2017 Feb 8;12 (2):e0172076]. PLoS One. 2015;10(4):e0123579. Published 2015 Apr 17. doi:10.1371/journal.pone.0123579\n",
    "\n",
    "Seaborn.org - Violin Plot, retrieved on 30-12-2020  \n",
    "https://seaborn.pydata.org/generated/seaborn.violinplot.html\n",
    "\n",
    "www.change4health.org - Health Metrics, retroeved on 04-01-2021  \n",
    "https://www.change4health.org/technologies/consumer-e-health-and-health-metrics/tools/health-metrics/\n",
    "\n",
    "Open Learn - Age and the lifecourse: healthy ageing, retrieved on 04-01-2021  \n",
    "https://www.open.edu/openlearn/health-sports-psychology/health/factors-influence-health-introduction/content-section-2.3\n",
    "\n",
    "Numpy.org - Normal Distribution, retrieved on 30-12-2020  \n",
    "https://numpy.org/doc/stable/reference/random/generated/numpy.random.Generator.normal.html#numpy.random.Generator.normal\n",
    "\n",
    "Tutorialspoint.com - Matplotlib Bar Chart, retrieved on 03-01-2021  \n",
    "https://www.tutorialspoint.com/matplotlib/matplotlib_bar_plot.htm\n",
    "\n",
    "Pandas.pydata.org - Combining aliases, retrieved 04-01-2021  \n",
    "https://pandas.pydata.org/pandas-docs/stable/user_guide/timeseries.html\n",
    "\n",
    "Stack Overflow - Extract Business Days in Time Series using Python/Pandas, retrieved 04-01-2021  \n",
    "https://stackoverflow.com/questions/25597200/extract-business-days-in-time-series-using-python-pandas\n",
    "\n",
    "kite.com - How to get a weighted random choice in Python, retreived on 03-01-2021  \n",
    "https://www.kite.com/python/answers/how-to-get-a-weighted-random-choice-in-python\n",
    "\n",
    "pynative.com - Relative weights to choose elements from the list with different probability, retrieved on 03-01-2021  \n",
    "https://pynative.com/python-weighted-random-choices-with-probability/\n",
    "\n",
    "cso.ie - Life Expectancy, 04-01-2021  \n",
    "https://www.cso.ie/en/interactivezone/statisticsexplained/birthsdeathsandmarriages/lifeexpectancytables/\n",
    "\n",
    "Numpy.org - Getting Started, retrieved on 30-12-2020  \n",
    "https://numpy.org/doc/stable/reference/random/index.html?highlight=numpy%20random#module-numpy.random"
   ]
  },
  {
   "cell_type": "markdown",
   "metadata": {},
   "source": [
    "___"
   ]
  },
  {
   "cell_type": "markdown",
   "metadata": {},
   "source": [
    "### End"
   ]
  }
 ],
 "metadata": {
  "kernelspec": {
   "display_name": "Python 3",
   "language": "python",
   "name": "python3"
  },
  "language_info": {
   "codemirror_mode": {
    "name": "ipython",
    "version": 3
   },
   "file_extension": ".py",
   "mimetype": "text/x-python",
   "name": "python",
   "nbconvert_exporter": "python",
   "pygments_lexer": "ipython3",
   "version": "3.8.5"
  }
 },
 "nbformat": 4,
 "nbformat_minor": 4
}
