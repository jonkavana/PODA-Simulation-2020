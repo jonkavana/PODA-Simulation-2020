{
 "cells": [
  {
   "cell_type": "markdown",
   "metadata": {},
   "source": [
    "##  Programming for Data Analytics Simulation Project 2020 \n",
    "#### Module: Programming for Data Analytics\n",
    "#### Student Name: John Kavanagh\n",
    "#### Lecturer: Brian McGinley "
   ]
  },
  {
   "cell_type": "markdown",
   "metadata": {},
   "source": [
    "___"
   ]
  },
  {
   "cell_type": "markdown",
   "metadata": {},
   "source": [
    "### Problem Statement \n",
    "\n",
    "For this project you must create a data set by simulating a real-world phenomenon of your choosing. You may pick any phenomenon you wish – you might pick one that is of interest to you in your personal or professional life. Then, rather than collect data\n",
    "related to the phenomenon, you should model and synthesise such data using Python. We suggest you use the numpy.random package for this purpose.\n",
    "\n",
    "Specifically, in this project you should:  \n",
    "• Choose a real-world phenomenon that can be measured and for which you could collect at least one-hundred data points across at least four different variables.  \n",
    "• Investigate the types of variables involved, their likely distributions, and their relationships with each other.  \n",
    "• Synthesise/simulate a data set as closely matching their properties as possible.  \n",
    "• Detail your research and implement the simulation in a Jupyter notebook – the data set itself can simply be displayed in an output cell within the notebook.  \n",
    "\n",
    "\n",
    "Note that this project is about simulation – you must synthesise a data set. Some students may already have some real-world data sets in their own files. It is okay to base your synthesised data set on these should you wish (please reference it if you do), but the main task in this project is to create a synthesised data set."
   ]
  },
  {
   "cell_type": "markdown",
   "metadata": {},
   "source": [
    "### Example Guidance - can this be deleted??\n",
    "\n",
    "As a lecturer I might pick the real-world phenomenon of the performance of students studying a ten-credit module. After some research, I decide that the most interesting variable related to this is the mark a student receives in the module - this is going to be one of my variables (grade).  \n",
    "Upon investigation of the problem, I find that the number of hours on average a student studies per week (hours), the number of times they log onto Moodle in the first three weeks of term (logins), and their previous level of degree qualification (qual) are closely related to grade. The hours and grade variables will be non-negative real number with two decimal places, logins will be a non-zero integer and qual will be a categorical variable with four possible values: \n",
    "- none\n",
    "- bachelors\n",
    "- masters, or\n",
    "- phd  \n",
    "\n",
    "After some online research, I find that full-time post-graduate students study on average four hours per week with a standard deviation of a quarter of an hour and that a normal distribution is an acceptable model of such a variable. Likewise, I investigate the other four variables, and I also look at the relationships between the variables. I devise an algorithm (or method) to generate such a data set, simulating values of the four variables for two-hundred students. I detail all this work in my notebook, and then I add some code in to generate a data set with those properties. "
   ]
  },
  {
   "cell_type": "markdown",
   "metadata": {},
   "source": [
    "___"
   ]
  },
  {
   "cell_type": "markdown",
   "metadata": {},
   "source": [
    "#### Software Requirements\n",
    "\n",
    "There are a number of software packages htat will need to be installed throughout this exercise. \n",
    "Such as: \n",
    "\n",
    "- Anaconda\n",
    "- Jupyter Notebook\n",
    "- Pandas\n",
    "- MatPlotLib\n",
    "- Numpy\n",
    "- Seaborn"
   ]
  },
  {
   "cell_type": "markdown",
   "metadata": {},
   "source": [
    "___"
   ]
  },
  {
   "cell_type": "markdown",
   "metadata": {},
   "source": [
    "### Project Overview    \n",
    "#### Introduction  \n",
    "#### Source of DataSet  \n",
    "##### Analysis of Documentation\n",
    "##### Analysis of DataSet  \n",
    "###### DisPlot  \n",
    "###### CatPlot  \n",
    "\n",
    "#### Introduction to Numpy.Random  \n",
    "##### Data Creation  \n",
    "#####  \n",
    "#####  \n",
    "#####  \n"
   ]
  },
  {
   "cell_type": "markdown",
   "metadata": {},
   "source": [
    "#### Introduction - Complete rewrite required\n",
    " \n",
    "As part of the ressearch into this exercise, I thoughtn it best that we started off with an exisitng data set that was relevant to the information that i wanted to simulate, in order to provide some structure, guidance as well as some fallback information on the topic. \n",
    "The area that I wanted to cover is in relation to health. Obviously, one of the unavoidable aspects to life in 2020 hasm been COVID-19, as everyone is painfully aware. \n",
    "HOweverm, one of the aspects that appears to be examined is that of the relationshipn between hte NPHET committee and hte Government of Ireland. \n",
    "\n",
    "From the outset, there was a direct line of communication between the two boides, but as time went on, and the perview of the governments view fo teh world expeanded, there were layers of control put in place to provide distance. \n",
    "\n",
    "Instead of just public health, there were another numbers of factors to be catered for, such as The economy, mental health etc..\n",
    "\n",
    "However, if we take the view of what the remit ofthe delivery of NPHET is for, in the strictest sense of the world, they are responsible for the public health. In Ireland public health has been a contenitious topic over decades. \n",
    "There has been a continuous rise in the amount of money required to work the system, with a lot of high profile costs being reported on. \n",
    "\n",
    "\n",
    "If we review the concept of advise and what becomes the recommended advise and or lae fro teh point of view of the governemnt, we are left to believe that there is no way we can have both. that we can't have a full lockdown, duw to the cpacity of hospitals as well as levels of training of ICU staff and nurses to cater for the re-assigned workload that OCVID has caused. \n",
    "\n",
    "Ireladn has suffered from a fundamental issue of how to manage it's health system for a long time. \n",
    "\n",
    "\n",
    "On a societal level, there are a number of changes that can be reviewed to reduce the level of activity that is burdened our system. One of the simple steps to ne taken, is to potentially review the general health of hte nation. \n",
    "\n",
    "\n",
    "A phenomenon, according to [Cambridge Dictionary](https://dictionary.cambridge.org/dictionary/english/phenomenon) is \"something that exists and that can be seen, felt, tested etc.\". "
   ]
  },
  {
   "cell_type": "markdown",
   "metadata": {},
   "source": [
    "___"
   ]
  },
  {
   "cell_type": "markdown",
   "metadata": {},
   "source": [
    "### Statistical Society of Canada Dataset Overview\n",
    "Given that we are looking to simulate infromation on the general area of health, it's import to be familiar with the structure of the information, as well as the headings that are reported upon. \n",
    "\n",
    "The first step in demonstrating this research was to review a site that held a large number of datasets across a number of disciplines. Having reviewed some initial datasets on [Vincent Arel-Bundock](https://vincentarelbundock.github.io/Rdatasets/datasets.html), there was a simple dataset with a small number of attributes that could be used as the basis for examination.   \n",
    "\n",
    "This dataset, containing samples from 500 adults, as detailed in the documentation on [Vincent Ares-Bundock](https://vincentarelbundock.github.io/Rdatasets/doc/Stat2Data/Blood1.html) holds information on the Blood Pressure recorded as well as other factors such as smoking and whether the individual is classified as overweight. \n",
    "\n",
    "As part of the review, we are going to examine the data set for a relationship between blood pressure, smoking and a persons weight. \n",
    "\n",
    "Subsequent to this report, there was additional research required, in order to effectively ensure the report was being interpreted correctly, the extended report, as published on [Statistical Society of Canada](https://ssc.ca/en/case-studies-2003-annual-meeting) "
   ]
  },
  {
   "cell_type": "markdown",
   "metadata": {},
   "source": [
    "#### Analysis of Documentation\n",
    "\n",
    "Although limited, there are a number of pieces of information on the [Vincent Arel-Bundock](https://vincentarelbundock.github.io/Rdatasets/doc/Stat2Data/Blood1.html) site that convey greater breadth of information on the data.\n",
    "\n",
    "Smoking, for instance is captured in the affirmative of Yes. As per the Boolean expression, where there are two outcomes, categorised as either Zero or One, smokers are recorded as One.  \n",
    "\n",
    "In relation to the other factor, the weight of an individual, there are three categories that have been created:  \n",
    "1. Normal \n",
    "2. Overweight \n",
    "3. Obese  \n",
    "\n",
    "Lastly, we have the recorded values of each individuals SystolicBP, or Blood Pressure as it is known. In order to ahve a more informed opinion on the range of what a healthy recording for blood pressure is, please review the following site, [IrishHeart.ie](https://irishheart.ie/your-health/ways-to-live-better/blood-pressure/)"
   ]
  },
  {
   "cell_type": "markdown",
   "metadata": {},
   "source": [
    "#### Analysis on DataSet"
   ]
  },
  {
   "cell_type": "code",
   "execution_count": 1,
   "metadata": {},
   "outputs": [],
   "source": [
    "import pandas as pd"
   ]
  },
  {
   "cell_type": "code",
   "execution_count": 3,
   "metadata": {},
   "outputs": [
    {
     "data": {
      "text/html": [
       "<div>\n",
       "<style scoped>\n",
       "    .dataframe tbody tr th:only-of-type {\n",
       "        vertical-align: middle;\n",
       "    }\n",
       "\n",
       "    .dataframe tbody tr th {\n",
       "        vertical-align: top;\n",
       "    }\n",
       "\n",
       "    .dataframe thead th {\n",
       "        text-align: right;\n",
       "    }\n",
       "</style>\n",
       "<table border=\"1\" class=\"dataframe\">\n",
       "  <thead>\n",
       "    <tr style=\"text-align: right;\">\n",
       "      <th></th>\n",
       "      <th>Unnamed: 0</th>\n",
       "      <th>SystolicBP</th>\n",
       "      <th>Smoke</th>\n",
       "      <th>Overwt</th>\n",
       "    </tr>\n",
       "  </thead>\n",
       "  <tbody>\n",
       "    <tr>\n",
       "      <th>0</th>\n",
       "      <td>1</td>\n",
       "      <td>133</td>\n",
       "      <td>0</td>\n",
       "      <td>2</td>\n",
       "    </tr>\n",
       "    <tr>\n",
       "      <th>1</th>\n",
       "      <td>2</td>\n",
       "      <td>115</td>\n",
       "      <td>1</td>\n",
       "      <td>0</td>\n",
       "    </tr>\n",
       "    <tr>\n",
       "      <th>2</th>\n",
       "      <td>3</td>\n",
       "      <td>140</td>\n",
       "      <td>1</td>\n",
       "      <td>1</td>\n",
       "    </tr>\n",
       "    <tr>\n",
       "      <th>3</th>\n",
       "      <td>4</td>\n",
       "      <td>132</td>\n",
       "      <td>0</td>\n",
       "      <td>2</td>\n",
       "    </tr>\n",
       "    <tr>\n",
       "      <th>4</th>\n",
       "      <td>5</td>\n",
       "      <td>133</td>\n",
       "      <td>0</td>\n",
       "      <td>1</td>\n",
       "    </tr>\n",
       "    <tr>\n",
       "      <th>...</th>\n",
       "      <td>...</td>\n",
       "      <td>...</td>\n",
       "      <td>...</td>\n",
       "      <td>...</td>\n",
       "    </tr>\n",
       "    <tr>\n",
       "      <th>495</th>\n",
       "      <td>496</td>\n",
       "      <td>146</td>\n",
       "      <td>0</td>\n",
       "      <td>0</td>\n",
       "    </tr>\n",
       "    <tr>\n",
       "      <th>496</th>\n",
       "      <td>497</td>\n",
       "      <td>181</td>\n",
       "      <td>1</td>\n",
       "      <td>1</td>\n",
       "    </tr>\n",
       "    <tr>\n",
       "      <th>497</th>\n",
       "      <td>498</td>\n",
       "      <td>145</td>\n",
       "      <td>1</td>\n",
       "      <td>2</td>\n",
       "    </tr>\n",
       "    <tr>\n",
       "      <th>498</th>\n",
       "      <td>499</td>\n",
       "      <td>180</td>\n",
       "      <td>1</td>\n",
       "      <td>2</td>\n",
       "    </tr>\n",
       "    <tr>\n",
       "      <th>499</th>\n",
       "      <td>500</td>\n",
       "      <td>174</td>\n",
       "      <td>1</td>\n",
       "      <td>2</td>\n",
       "    </tr>\n",
       "  </tbody>\n",
       "</table>\n",
       "<p>500 rows × 4 columns</p>\n",
       "</div>"
      ],
      "text/plain": [
       "     Unnamed: 0  SystolicBP  Smoke  Overwt\n",
       "0             1         133      0       2\n",
       "1             2         115      1       0\n",
       "2             3         140      1       1\n",
       "3             4         132      0       2\n",
       "4             5         133      0       1\n",
       "..          ...         ...    ...     ...\n",
       "495         496         146      0       0\n",
       "496         497         181      1       1\n",
       "497         498         145      1       2\n",
       "498         499         180      1       2\n",
       "499         500         174      1       2\n",
       "\n",
       "[500 rows x 4 columns]"
      ]
     },
     "execution_count": 3,
     "metadata": {},
     "output_type": "execute_result"
    }
   ],
   "source": [
    "df = pd.read_csv('https://vincentarelbundock.github.io/Rdatasets/csv/Stat2Data/Blood1.csv')\n",
    "df"
   ]
  },
  {
   "cell_type": "markdown",
   "metadata": {},
   "source": [
    "The package has successfully taken the URL and produced a tabular view of the information, with the headings that we expected to see. As you can see along the left hand side of teh table, pandas has added in a row for indexing the data.  "
   ]
  },
  {
   "cell_type": "code",
   "execution_count": 9,
   "metadata": {},
   "outputs": [
    {
     "ename": "ValueError",
     "evalue": "No axis named Smoke for object type DataFrame",
     "output_type": "error",
     "traceback": [
      "\u001b[1;31m---------------------------------------------------------------------------\u001b[0m",
      "\u001b[1;31mKeyError\u001b[0m                                  Traceback (most recent call last)",
      "\u001b[1;32m~\\GMITAnaconda\\lib\\site-packages\\pandas\\core\\generic.py\u001b[0m in \u001b[0;36m_get_axis_number\u001b[1;34m(cls, axis)\u001b[0m\n\u001b[0;32m    367\u001b[0m         \u001b[1;32mtry\u001b[0m\u001b[1;33m:\u001b[0m\u001b[1;33m\u001b[0m\u001b[1;33m\u001b[0m\u001b[0m\n\u001b[1;32m--> 368\u001b[1;33m             \u001b[1;32mreturn\u001b[0m \u001b[0mcls\u001b[0m\u001b[1;33m.\u001b[0m\u001b[0m_AXIS_TO_AXIS_NUMBER\u001b[0m\u001b[1;33m[\u001b[0m\u001b[0maxis\u001b[0m\u001b[1;33m]\u001b[0m\u001b[1;33m\u001b[0m\u001b[1;33m\u001b[0m\u001b[0m\n\u001b[0m\u001b[0;32m    369\u001b[0m         \u001b[1;32mexcept\u001b[0m \u001b[0mKeyError\u001b[0m\u001b[1;33m:\u001b[0m\u001b[1;33m\u001b[0m\u001b[1;33m\u001b[0m\u001b[0m\n",
      "\u001b[1;31mKeyError\u001b[0m: 'Smoke'",
      "\nDuring handling of the above exception, another exception occurred:\n",
      "\u001b[1;31mValueError\u001b[0m                                Traceback (most recent call last)",
      "\u001b[1;32m<ipython-input-9-9e44e7286a40>\u001b[0m in \u001b[0;36m<module>\u001b[1;34m\u001b[0m\n\u001b[1;32m----> 1\u001b[1;33m \u001b[0mdf\u001b[0m\u001b[1;33m.\u001b[0m\u001b[0mloc\u001b[0m\u001b[1;33m(\u001b[0m\u001b[1;34m'Smoke'\u001b[0m\u001b[1;33m)\u001b[0m\u001b[1;33m\u001b[0m\u001b[1;33m\u001b[0m\u001b[0m\n\u001b[0m",
      "\u001b[1;32m~\\GMITAnaconda\\lib\\site-packages\\pandas\\core\\indexing.py\u001b[0m in \u001b[0;36m__call__\u001b[1;34m(self, axis)\u001b[0m\n\u001b[0;32m    582\u001b[0m \u001b[1;33m\u001b[0m\u001b[0m\n\u001b[0;32m    583\u001b[0m         \u001b[1;32mif\u001b[0m \u001b[0maxis\u001b[0m \u001b[1;32mis\u001b[0m \u001b[1;32mnot\u001b[0m \u001b[1;32mNone\u001b[0m\u001b[1;33m:\u001b[0m\u001b[1;33m\u001b[0m\u001b[1;33m\u001b[0m\u001b[0m\n\u001b[1;32m--> 584\u001b[1;33m             \u001b[0maxis\u001b[0m \u001b[1;33m=\u001b[0m \u001b[0mself\u001b[0m\u001b[1;33m.\u001b[0m\u001b[0mobj\u001b[0m\u001b[1;33m.\u001b[0m\u001b[0m_get_axis_number\u001b[0m\u001b[1;33m(\u001b[0m\u001b[0maxis\u001b[0m\u001b[1;33m)\u001b[0m\u001b[1;33m\u001b[0m\u001b[1;33m\u001b[0m\u001b[0m\n\u001b[0m\u001b[0;32m    585\u001b[0m         \u001b[0mnew_self\u001b[0m\u001b[1;33m.\u001b[0m\u001b[0maxis\u001b[0m \u001b[1;33m=\u001b[0m \u001b[0maxis\u001b[0m\u001b[1;33m\u001b[0m\u001b[1;33m\u001b[0m\u001b[0m\n\u001b[0;32m    586\u001b[0m         \u001b[1;32mreturn\u001b[0m \u001b[0mnew_self\u001b[0m\u001b[1;33m\u001b[0m\u001b[1;33m\u001b[0m\u001b[0m\n",
      "\u001b[1;32m~\\GMITAnaconda\\lib\\site-packages\\pandas\\core\\generic.py\u001b[0m in \u001b[0;36m_get_axis_number\u001b[1;34m(cls, axis)\u001b[0m\n\u001b[0;32m    368\u001b[0m             \u001b[1;32mreturn\u001b[0m \u001b[0mcls\u001b[0m\u001b[1;33m.\u001b[0m\u001b[0m_AXIS_TO_AXIS_NUMBER\u001b[0m\u001b[1;33m[\u001b[0m\u001b[0maxis\u001b[0m\u001b[1;33m]\u001b[0m\u001b[1;33m\u001b[0m\u001b[1;33m\u001b[0m\u001b[0m\n\u001b[0;32m    369\u001b[0m         \u001b[1;32mexcept\u001b[0m \u001b[0mKeyError\u001b[0m\u001b[1;33m:\u001b[0m\u001b[1;33m\u001b[0m\u001b[1;33m\u001b[0m\u001b[0m\n\u001b[1;32m--> 370\u001b[1;33m             \u001b[1;32mraise\u001b[0m \u001b[0mValueError\u001b[0m\u001b[1;33m(\u001b[0m\u001b[1;34mf\"No axis named {axis} for object type {cls.__name__}\"\u001b[0m\u001b[1;33m)\u001b[0m\u001b[1;33m\u001b[0m\u001b[1;33m\u001b[0m\u001b[0m\n\u001b[0m\u001b[0;32m    371\u001b[0m \u001b[1;33m\u001b[0m\u001b[0m\n\u001b[0;32m    372\u001b[0m     \u001b[1;33m@\u001b[0m\u001b[0mclassmethod\u001b[0m\u001b[1;33m\u001b[0m\u001b[1;33m\u001b[0m\u001b[0m\n",
      "\u001b[1;31mValueError\u001b[0m: No axis named Smoke for object type DataFrame"
     ]
    }
   ],
   "source": [
    "df.loc('Smoke')"
   ]
  },
  {
   "cell_type": "code",
   "execution_count": 4,
   "metadata": {},
   "outputs": [
    {
     "data": {
      "text/html": [
       "<div>\n",
       "<style scoped>\n",
       "    .dataframe tbody tr th:only-of-type {\n",
       "        vertical-align: middle;\n",
       "    }\n",
       "\n",
       "    .dataframe tbody tr th {\n",
       "        vertical-align: top;\n",
       "    }\n",
       "\n",
       "    .dataframe thead th {\n",
       "        text-align: right;\n",
       "    }\n",
       "</style>\n",
       "<table border=\"1\" class=\"dataframe\">\n",
       "  <thead>\n",
       "    <tr style=\"text-align: right;\">\n",
       "      <th></th>\n",
       "      <th>Unnamed: 0</th>\n",
       "      <th>SystolicBP</th>\n",
       "      <th>Smoke</th>\n",
       "      <th>Overwt</th>\n",
       "    </tr>\n",
       "  </thead>\n",
       "  <tbody>\n",
       "    <tr>\n",
       "      <th>count</th>\n",
       "      <td>500.000000</td>\n",
       "      <td>500.000000</td>\n",
       "      <td>500.000000</td>\n",
       "      <td>500.000000</td>\n",
       "    </tr>\n",
       "    <tr>\n",
       "      <th>mean</th>\n",
       "      <td>250.500000</td>\n",
       "      <td>144.952000</td>\n",
       "      <td>0.532000</td>\n",
       "      <td>1.034000</td>\n",
       "    </tr>\n",
       "    <tr>\n",
       "      <th>std</th>\n",
       "      <td>144.481833</td>\n",
       "      <td>27.994948</td>\n",
       "      <td>0.499475</td>\n",
       "      <td>0.884539</td>\n",
       "    </tr>\n",
       "    <tr>\n",
       "      <th>min</th>\n",
       "      <td>1.000000</td>\n",
       "      <td>67.000000</td>\n",
       "      <td>0.000000</td>\n",
       "      <td>0.000000</td>\n",
       "    </tr>\n",
       "    <tr>\n",
       "      <th>25%</th>\n",
       "      <td>125.750000</td>\n",
       "      <td>130.000000</td>\n",
       "      <td>0.000000</td>\n",
       "      <td>0.000000</td>\n",
       "    </tr>\n",
       "    <tr>\n",
       "      <th>50%</th>\n",
       "      <td>250.500000</td>\n",
       "      <td>140.500000</td>\n",
       "      <td>1.000000</td>\n",
       "      <td>1.000000</td>\n",
       "    </tr>\n",
       "    <tr>\n",
       "      <th>75%</th>\n",
       "      <td>375.250000</td>\n",
       "      <td>162.250000</td>\n",
       "      <td>1.000000</td>\n",
       "      <td>2.000000</td>\n",
       "    </tr>\n",
       "    <tr>\n",
       "      <th>max</th>\n",
       "      <td>500.000000</td>\n",
       "      <td>224.000000</td>\n",
       "      <td>1.000000</td>\n",
       "      <td>2.000000</td>\n",
       "    </tr>\n",
       "  </tbody>\n",
       "</table>\n",
       "</div>"
      ],
      "text/plain": [
       "       Unnamed: 0  SystolicBP       Smoke      Overwt\n",
       "count  500.000000  500.000000  500.000000  500.000000\n",
       "mean   250.500000  144.952000    0.532000    1.034000\n",
       "std    144.481833   27.994948    0.499475    0.884539\n",
       "min      1.000000   67.000000    0.000000    0.000000\n",
       "25%    125.750000  130.000000    0.000000    0.000000\n",
       "50%    250.500000  140.500000    1.000000    1.000000\n",
       "75%    375.250000  162.250000    1.000000    2.000000\n",
       "max    500.000000  224.000000    1.000000    2.000000"
      ]
     },
     "execution_count": 4,
     "metadata": {},
     "output_type": "execute_result"
    }
   ],
   "source": [
    "df.describe()\n",
    "# this will allow us to view some high-level information from the set, such as mean and the standard deviation."
   ]
  },
  {
   "cell_type": "code",
   "execution_count": 5,
   "metadata": {},
   "outputs": [],
   "source": [
    "# To effectively review the data, given that there are so few variables and the relationship is transparent at first sight,\n",
    "# we import the Seaborn package."
   ]
  },
  {
   "cell_type": "code",
   "execution_count": null,
   "metadata": {},
   "outputs": [],
   "source": [
    "import seaborn as sns"
   ]
  },
  {
   "cell_type": "markdown",
   "metadata": {},
   "source": [
    "#### DisPlot"
   ]
  },
  {
   "cell_type": "code",
   "execution_count": null,
   "metadata": {},
   "outputs": [],
   "source": [
    "sns.displot(data=df, x=\"Overwt\", y=\"SystolicBP\", hue=\"Smoke\")"
   ]
  },
  {
   "cell_type": "markdown",
   "metadata": {},
   "source": [
    "Given that we know that three of the headings can create a view of the information (Unnamed not being an informative ingredient), we can create a plot that maps weight against blood pressure, and overlay on this information, those who have indicated that they smoke. \n",
    "\n",
    "We can see from the plot that: \n",
    "- If you do not smoke, you will not be categorised as overweight\n",
    "- You're not going to siffer from a higher than normal blood pressure. \n",
    "\n",
    "Some of the information displayed isn't instantly readable, so we can try manipulate the information with a different variable.\n",
    "\n",
    "Outstandings Questions for Review:  \n",
    "- Identification of smoker: Does 0 mean they smoke  \n",
    "- Overweight classification: we appear to have three bins that the participants have been categorised into  \n",
    "\n",
    "  "
   ]
  },
  {
   "cell_type": "markdown",
   "metadata": {},
   "source": [
    "___"
   ]
  },
  {
   "cell_type": "markdown",
   "metadata": {},
   "source": [
    "IN oredr to introduce greater depth of understanding, I have chosen to introduce the catplot function. The catploty funciton allows for better visualisation given the type of data on display. As we work our way up the Y Axes, we can seee again that we have SystolicBP which represents Blood Pressure. \n",
    "\n",
    "    For more information inrelation to Blood Pressure, please review hte following site:\n",
    "    https://irishheart.ie/your-health/ways-to-live-better/blood-pressure/\n",
    "    \n",
    "The important thing to note with this information is:\n",
    " - The normal level of blood pressure is usually about 120 (systolic) over 80 (diastolic)\n",
    " - If your blood pressure is 140 over 90 or higher (or 140 over 80 if you have diabetes) you should discuss this reading with your doctor.\n",
    " \n",
    "We can now determine those who are unhealthy"
   ]
  },
  {
   "cell_type": "markdown",
   "metadata": {},
   "source": [
    "#### CatPlot"
   ]
  },
  {
   "cell_type": "code",
   "execution_count": null,
   "metadata": {},
   "outputs": [],
   "source": [
    "sns.catplot(data=df, x=\"Overwt\", y=\"SystolicBP\", hue=\"Smoke\", kind=\"swarm\")"
   ]
  },
  {
   "cell_type": "markdown",
   "metadata": {},
   "source": [
    "We can also run a view that allows us to split the axis based on the values of the axis.  \n",
    "In order to demonstrate this, I have chosen the smoker quesiton, as it has a Yes/No response. "
   ]
  },
  {
   "cell_type": "code",
   "execution_count": null,
   "metadata": {},
   "outputs": [],
   "source": [
    "sns.catplot(data=df, x=\"Smoke\", y=\"SystolicBP\", hue=\"Overwt\", kind=\"violin\")"
   ]
  },
  {
   "cell_type": "markdown",
   "metadata": {},
   "source": [
    "Despite reviewing the data from a numbe rof different variable within the package, we can not definitively determine whether what the information relates to on the outstanding questions. Having reviewed the material that was supplementary to the dataset, there appears to be a larger dataset from which this was created. \n",
    "\n",
    "\n",
    "From reviewing this wider dataset, we can determine that: \n",
    "\n",
    "Smoking has been code to align to  1 as it is a Boolean expression.\n",
    "Overwt = This classifcation has been stratified into 3 chunks, normal, overweight, obese."
   ]
  },
  {
   "cell_type": "code",
   "execution_count": null,
   "metadata": {},
   "outputs": [],
   "source": [
    "import matplotlib as plt"
   ]
  },
  {
   "cell_type": "code",
   "execution_count": null,
   "metadata": {},
   "outputs": [],
   "source": [
    "fd = pd.read_csv(\"https://ssc.ca/sites/default/files/archive/documents/case_studies/2003/documents/datafile.dat\")"
   ]
  },
  {
   "cell_type": "code",
   "execution_count": null,
   "metadata": {
    "scrolled": false
   },
   "outputs": [],
   "source": [
    "sns.jointplot(data=fd, x=\"age\", y=\"weight\",  hue=\"gender\")"
   ]
  },
  {
   "cell_type": "markdown",
   "metadata": {},
   "source": [
    "in order to form a wider relationship "
   ]
  },
  {
   "cell_type": "code",
   "execution_count": null,
   "metadata": {},
   "outputs": [],
   "source": [
    "sns.catplot(data=fd, x=\"smoke\", y=\"sbp\", hue=\"overwt\", kind=\"violin\")"
   ]
  },
  {
   "cell_type": "markdown",
   "metadata": {},
   "source": [
    "____"
   ]
  },
  {
   "cell_type": "markdown",
   "metadata": {},
   "source": [
    "#### Overview of Numpy.Random\n",
    "\n",
    "\n",
    "In order to effectively simulate the data required to emulate the information as it is provided above, as a template for further testing, we must first understand the operational overview of the numpy.random package. \n",
    "\n",
    "Comprising of a generator and a bitgenerator, there is a melding of sequence creation and different statistical distributuions applied against to effectively generate random numbers, as per [Numpy](https://numpy.org/doc/stable/reference/random/index.html?highlight=numpy%20random#module-numpy.random). While the remit of this exercise is not to walk tnrough all components of the package, a high-level understanding will be displayed in code blocks and implementaion to better understand the material.  \n",
    "\n"
   ]
  },
  {
   "cell_type": "code",
   "execution_count": 21,
   "metadata": {},
   "outputs": [],
   "source": [
    "import numpy as np\n",
    "from numpy.random import default_rng\n",
    "rng = default_rng()\n",
    "\n",
    "rng"
   ]
  },
  {
   "cell_type": "code",
   "execution_count": 7,
   "metadata": {},
   "outputs": [],
   "source": [
    "# In the output above we have the generator that numpy.random operates from. "
   ]
  },
  {
   "cell_type": "code",
   "execution_count": 10,
   "metadata": {},
   "outputs": [
    {
     "data": {
      "text/plain": [
       "319345192536006037530720654921075243083"
      ]
     },
     "execution_count": 10,
     "metadata": {},
     "output_type": "execute_result"
    }
   ],
   "source": [
    "sq1 = np.random.SeedSequence()\n",
    "sq1.entropy"
   ]
  },
  {
   "cell_type": "code",
   "execution_count": 12,
   "metadata": {},
   "outputs": [
    {
     "data": {
      "text/plain": [
       "-1.4238250364546312"
      ]
     },
     "execution_count": 12,
     "metadata": {},
     "output_type": "execute_result"
    }
   ],
   "source": [
    "from numpy.random import Generator, PCG64\n",
    "rg = Generator(PCG64(12345))\n",
    "rg.standard_normal()"
   ]
  },
  {
   "cell_type": "code",
   "execution_count": 15,
   "metadata": {},
   "outputs": [
    {
     "data": {
      "text/plain": [
       "-1.4238250364546312"
      ]
     },
     "execution_count": 15,
     "metadata": {},
     "output_type": "execute_result"
    }
   ],
   "source": [
    "from numpy.random import Generator, PCG64\n",
    "rg = Generator(PCG64(12345))\n",
    "rg.standard_normal()"
   ]
  },
  {
   "cell_type": "markdown",
   "metadata": {},
   "source": [
    "If you are interested in the PCG (Permuted Congrunetila Generator-64bit), please click the following link:[pcg-random.org](https://www.pcg-random.org/)"
   ]
  },
  {
   "cell_type": "markdown",
   "metadata": {},
   "source": [
    "Once we have stood up our PCG, and we are looking to create some data, it is important to note that the Numpy.raandom package has three core areas that can be leveraged against. \n",
    "\n",
    "\n",
    "- Simple Random Data \n",
    "- Permutations\n",
    "- Distributions\n",
    "\n",
    "At a high-level, ther are four sub-components that are part of Simple Random Data layer. \n",
    "They are: \n",
    "- Integer, Random, Choice, Bytes   \n",
    "\n",
    "Permutations, as the name may suggesto those that are familiar to it, has a narrower scope, facilitating:\n",
    "- Shuffle & Permutation  \n",
    "\n",
    "Distributions, on the other hand, has a much wider span, with more than 35 distributions that can be accessed, such as \n",
    "- Power, Multinomial, Triangular & Wald  \n",
    "\n"
   ]
  },
  {
   "cell_type": "markdown",
   "metadata": {},
   "source": [
    "#### Random Data Creation"
   ]
  },
  {
   "cell_type": "code",
   "execution_count": 33,
   "metadata": {},
   "outputs": [
    {
     "data": {
      "text/plain": [
       "0.0523101535315329"
      ]
     },
     "execution_count": 33,
     "metadata": {},
     "output_type": "execute_result"
    }
   ],
   "source": [
    "rng.random()"
   ]
  },
  {
   "cell_type": "markdown",
   "metadata": {},
   "source": [
    "___"
   ]
  },
  {
   "cell_type": "markdown",
   "metadata": {},
   "source": [
    "___\n",
    "Bibliography\n",
    "\n",
    "\n",
    "Seaborn Official site, retrieved on 30-12-2020\n",
    "https://seaborn.pydata.org/introduction.html  \n",
    "\n",
    "Pandas - Read a CSV File, retrieved on 30-12-2020\n",
    "https://pandas.pydata.org/pandas-docs/stable/reference/api/pandas.read_csv.html  \n",
    "\n",
    "Vincent Arel-Bundock GitHub, retrieved on 30-12-2020 \n",
    "https://vincentarelbundock.github.io/Rdatasets/datasets.html  \n",
    "\n",
    "Vincent Arel-Bundock GitHub, retrieved on 30-12-2020\n",
    "https://vincentarelbundock.github.io/Rdatasets/doc/Stat2Data/Blood1.html    \n",
    "\n",
    "Statistical Society of Canada, retrieved on 30-12-2020 \n",
    "https://ssc.ca/en/case-studies-2003-annual-meeting    \n",
    "\n",
    "Cambridge Dictionary, retrieved on 30-12-2020\n",
    "https://dictionary.cambridge.org/dictionary/english/phenomenon\n",
    "\n",
    "Numpy.org, retrieved on 30-12-2020 \n",
    "https://numpy.org/doc/stable/reference/random/index.html?highlight=numpy%20random#module-numpy.random  \n",
    "\n",
    "PCG, A Family of Better Random Number Generators, retrieved on 30-12-2020 \n",
    "https://www.pcg-random.org/\n",
    "\n",
    "numpy.random.Generator.random, retrieved on 30-12-2020\n",
    "https://numpy.org/doc/stable/reference/random/generated/numpy.random.Generator.random.html#numpy.random.Generator.random\n",
    "\n",
    "Permuted Congruential Generator (64-bit, PCG64), retrieved on 30-12-2020\n",
    "https://numpy.org/doc/stable/reference/random/bit_generators/pcg64.html#numpy.random.PCG64\n",
    "\n",
    "\n",
    "numpy.random.SeedSequence, retrieved on 30-12-2020\n",
    "https://numpy.org/doc/stable/reference/random/bit_generators/generated/numpy.random.SeedSequence.html#numpy.random.SeedSequence"
   ]
  }
 ],
 "metadata": {
  "kernelspec": {
   "display_name": "Python 3",
   "language": "python",
   "name": "python3"
  },
  "language_info": {
   "codemirror_mode": {
    "name": "ipython",
    "version": 3
   },
   "file_extension": ".py",
   "mimetype": "text/x-python",
   "name": "python",
   "nbconvert_exporter": "python",
   "pygments_lexer": "ipython3",
   "version": "3.8.5"
  }
 },
 "nbformat": 4,
 "nbformat_minor": 4
}
