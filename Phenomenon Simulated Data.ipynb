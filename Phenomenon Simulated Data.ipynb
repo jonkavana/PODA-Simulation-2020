{
 "cells": [
  {
   "cell_type": "markdown",
   "metadata": {},
   "source": [
    "##  Programming for Data Analytics Simulation Project 2020 \n",
    "#### Module: Programming for Data Analytics\n",
    "#### Student Name: John Kavanagh\n",
    "#### Lecturer: Brian McGinley "
   ]
  },
  {
   "cell_type": "markdown",
   "metadata": {},
   "source": [
    "___"
   ]
  },
  {
   "cell_type": "markdown",
   "metadata": {},
   "source": [
    "### Problem Statement \n",
    "\n",
    "For this project you must create a data set by simulating a real-world phenomenon of your choosing. You may pick any phenomenon you wish – you might pick one that is of interest to you in your personal or professional life. Then, rather than collect data\n",
    "related to the phenomenon, you should model and synthesise such data using Python. We suggest you use the numpy.random package for this purpose.\n",
    "\n",
    "Specifically, in this project you should:  \n",
    "• Choose a real-world phenomenon that can be measured and for which you could collect at least one-hundred data points across at least four different variables.  \n",
    "• Investigate the types of variables involved, their likely distributions, and their relationships with each other.  \n",
    "• Synthesise/simulate a data set as closely matching their properties as possible.  \n",
    "• Detail your research and implement the simulation in a Jupyter notebook – the data set itself can simply be displayed in an output cell within the notebook.  \n",
    "\n",
    "\n",
    "Note that this project is about simulation – you must synthesise a data set. Some students may already have some real-world data sets in their own files. It is okay to base your synthesised data set on these should you wish (please reference it if you do),\n",
    "but the main task in this project is to create a synthesised data set."
   ]
  },
  {
   "cell_type": "markdown",
   "metadata": {},
   "source": [
    "___"
   ]
  },
  {
   "cell_type": "markdown",
   "metadata": {},
   "source": [
    "### Example Guidance\n",
    "\n",
    "As a lecturer I might pick the real-world phenomenon of the performance of students studying a ten-credit module. After some research, I decide that the most interesting variable related to this is the mark a student receives in the module - this is going to be one of my variables (grade).  \n",
    "Upon investigation of the problem, I find that the number of hours on average a student studies per week (hours), the number of times they log onto Moodle in the first three weeks of term (logins), and their previous level of degree qualification (qual) are closely related to grade. The hours and grade variables will be non-negative real number with two decimal places, logins will be a non-zero integer and qual will be a categorical variable with four possible values: \n",
    "- none\n",
    "- bachelors\n",
    "- masters, or\n",
    "- phd  \n",
    "\n",
    "After some online research, I find that full-time post-graduate students study on average four hours per week with a standard deviation of a quarter of an hour and that a normal distribution is an acceptable model of such a variable. Likewise, I investigate the other four variables, and I also look at the relationships between the variables. I devise an algorithm (or method) to generate such a data set, simulating values of the four variables for two-hundred students. I detail all this work in my notebook, and then I add some code in to generate a data set with those properties. "
   ]
  },
  {
   "cell_type": "markdown",
   "metadata": {},
   "source": [
    "#### Software Requirements\n",
    "\n",
    "There are a number of software packages htat will need to be installed throughout this exercise. \n",
    "Such as: \n",
    "\n",
    "- Anaconda\n",
    "- Jupyter Notebook\n",
    "- Pandas\n",
    "- MatPlotLib\n",
    "- Numpy\n",
    "- Seaborn"
   ]
  },
  {
   "cell_type": "markdown",
   "metadata": {},
   "source": [
    "___"
   ]
  },
  {
   "cell_type": "markdown",
   "metadata": {},
   "source": [
    "#### Introduction\n",
    "\n",
    "As part of the ressearch into this exercise, I thoughtn it best that we started off with an exisitng data set that was relevant to the information that i wanted to simulate, in order to provide some structure, guidance as well as some fallback information on the topic. \n",
    "The area that I wanted to cover is in relation to health. Obviously, one of the unavoidable aspects to life in 2020 hasm been COVID-19, as everyone is painfully aware. \n",
    "HOweverm, one of the aspects that appears to be examined is that of the relationshipn between hte NPHET committee and hte Government of Ireland. \n",
    "\n",
    "From the outset, there was a direct line of communication between the two boides, but as time went on, and the perview of the governments view fo teh world expeanded, there were layers of control put in place to provide distance. \n",
    "\n",
    "Instead of just public health, there were another numbers of factors to be catered for, such as The economy, mental health etc..\n",
    "\n",
    "However, if we take the view of what the remit ofthe delivery of NPHET is for, in the strictest sense of the world, they are responsible for the public health. In Ireland public health has been a contenitious topic over decades. \n",
    "There has been a continuous rise in the amount of money required to work the system, with a lot of high profile costs being reported on. \n",
    "\n",
    "\n",
    "If we review the concept of advise and what becomes the recommended advise and or lae fro teh point of view of the governemnt, we are left to believe that there is no way we can have both. that we can't have a full lockdown, duw to the cpacity of hospitals as well as levels of training of ICU staff and nurses to cater for the re-assigned workload that OCVID has caused. \n",
    "\n",
    "Ireladn has suffered from a fundamental issue of how to manage it's health system for a long time. \n",
    "\n",
    "\n",
    "On a societal level, there are a number of changes that can be reviewed to reduce the level of activity that is burdened our system. One of the simple steps to ne taken, is to potentially review the general health of hte nation. \n",
    "\n",
    "\n",
    "A phenomenon, according to [Cambridge Dictionary](https://dictionary.cambridge.org/dictionary/english/phenomenon) is \"something that exists and that can be seen, felt, tested etc.\". "
   ]
  },
  {
   "cell_type": "markdown",
   "metadata": {},
   "source": [
    "___"
   ]
  },
  {
   "cell_type": "markdown",
   "metadata": {},
   "source": [
    "#### Information on Source\n",
    "As part of the review, we are going to examine a data set that reviews whether there is a relationship between, blood pressure, smoking and a persons weight. \n",
    "\n",
    "The following dataset was sourced from: \n",
    "https://vincentarelbundock.github.io/Rdatasets/datasets.html  \n",
    "The documentaiton for this dataset can/ be reviewed here: https://vincentarelbundock.github.io/Rdatasets/doc/Stat2Data/Blood1.html  \n",
    "The full deatiled report can vbe reviewed, here: \n",
    "https://ssc.ca/en/case-studies-2003-annual-meeting  "
   ]
  },
  {
   "cell_type": "markdown",
   "metadata": {},
   "source": [
    "#### Analysis"
   ]
  },
  {
   "cell_type": "code",
   "execution_count": null,
   "metadata": {},
   "outputs": [],
   "source": [
    "import pandas as pd"
   ]
  },
  {
   "cell_type": "code",
   "execution_count": null,
   "metadata": {},
   "outputs": [],
   "source": [
    "# Having reviewed the file on my local terminal, we are now going to run this through the pandas package."
   ]
  },
  {
   "cell_type": "code",
   "execution_count": null,
   "metadata": {},
   "outputs": [],
   "source": [
    "df = pd.read_csv('https://vincentarelbundock.github.io/Rdatasets/csv/Stat2Data/Blood1.csv')\n",
    "df"
   ]
  },
  {
   "cell_type": "markdown",
   "metadata": {},
   "source": [
    "The package has successfully taken the URL and produced a tabular view of the information. "
   ]
  },
  {
   "cell_type": "code",
   "execution_count": null,
   "metadata": {},
   "outputs": [],
   "source": [
    "df.describe()\n",
    "# this will allow us to view some high-level information from the set, such as mean and the standard deviation."
   ]
  },
  {
   "cell_type": "code",
   "execution_count": null,
   "metadata": {},
   "outputs": [],
   "source": [
    "# To effectively review the data, given that there are so few variables and the relationship is transparent at first sight,\n",
    "# we import the Seaborn package."
   ]
  },
  {
   "cell_type": "code",
   "execution_count": null,
   "metadata": {},
   "outputs": [],
   "source": [
    "import seaborn as sns"
   ]
  },
  {
   "cell_type": "markdown",
   "metadata": {},
   "source": [
    "#### DisPlot"
   ]
  },
  {
   "cell_type": "code",
   "execution_count": null,
   "metadata": {},
   "outputs": [],
   "source": [
    "sns.displot(data=df, x=\"Overwt\", y=\"SystolicBP\", hue=\"Smoke\")"
   ]
  },
  {
   "cell_type": "markdown",
   "metadata": {},
   "source": [
    "Given that we know that three of the headings can create a view of the information (Unnamed not being an informative ingredient), we can create a plot that maps weight against blood pressure, and overlay on this information, those who have indicated that they smoke. \n",
    "\n",
    "We can see from the plot that: \n",
    "- If you do not smoke, you will not be categorised as overweight\n",
    "- You're not going to siffer from a higher than normal blood pressure. \n",
    "\n",
    "Some of the information displayed isn't instantly readable, so we can try manipulate the information with a different variable.\n",
    "\n",
    "Outstandings Questions for Review:  \n",
    "- Identification of smoker: Does 0 mean they smoke  \n",
    "- Overweight classification: we appear to have three bins that the participants have been categorised into  \n",
    "\n",
    "  "
   ]
  },
  {
   "cell_type": "markdown",
   "metadata": {},
   "source": [
    "___"
   ]
  },
  {
   "cell_type": "markdown",
   "metadata": {},
   "source": [
    "IN oredr to introduce greater depth of understanding, I have chosen to introduce the catplot function. The catploty funciton allows for better visualisation given the type of data on display. As we work our way up the Y Axes, we can seee again that we have SystolicBP which represents Blood Pressure. \n",
    "\n",
    "    For more information inrelation to Blood Pressure, please review hte following site:\n",
    "    https://irishheart.ie/your-health/ways-to-live-better/blood-pressure/\n",
    "    \n",
    "The important thing to note with this information is:\n",
    " - The normal level of blood pressure is usually about 120 (systolic) over 80 (diastolic)\n",
    " - If your blood pressure is 140 over 90 or higher (or 140 over 80 if you have diabetes) you should discuss this reading with your doctor.\n",
    " \n",
    "We can now determine those who are unhealthy"
   ]
  },
  {
   "cell_type": "markdown",
   "metadata": {},
   "source": [
    "#### CatPlot"
   ]
  },
  {
   "cell_type": "code",
   "execution_count": null,
   "metadata": {},
   "outputs": [],
   "source": [
    "sns.catplot(data=df, x=\"Overwt\", y=\"SystolicBP\", hue=\"Smoke\", kind=\"swarm\")"
   ]
  },
  {
   "cell_type": "markdown",
   "metadata": {},
   "source": [
    "We can also run a view that allows us to split the axis based on the values of the axis.  \n",
    "In order to demonstrate this, I have chosen the smoker quesiton, as it has a Yes/No response. "
   ]
  },
  {
   "cell_type": "code",
   "execution_count": null,
   "metadata": {},
   "outputs": [],
   "source": [
    "sns.catplot(data=df, x=\"Smoke\", y=\"SystolicBP\", hue=\"Overwt\", kind=\"violin\")"
   ]
  },
  {
   "cell_type": "markdown",
   "metadata": {},
   "source": [
    "Despite reviewing the data from a numbe rof different variable within the package, we can not definitively determine whether what the information relates to on the outstanding questions. Having reviewed the material that was supplementary to the dataset, there appears to be a larger dataset from which this was created. \n",
    "\n",
    "\n",
    "From reviewing this wider dataset, we can determine that: \n",
    "\n",
    "Smoking has been code to align to  1 as it is a Boolean expression.\n",
    "Overwt = This classifcation has been stratified into 3 chunks, normal, overweight, obese."
   ]
  },
  {
   "cell_type": "code",
   "execution_count": null,
   "metadata": {},
   "outputs": [],
   "source": [
    "import matplotlib as plt"
   ]
  },
  {
   "cell_type": "code",
   "execution_count": null,
   "metadata": {},
   "outputs": [],
   "source": [
    "fd = pd.read_csv(\"https://ssc.ca/sites/default/files/archive/documents/case_studies/2003/documents/datafile.dat\")"
   ]
  },
  {
   "cell_type": "code",
   "execution_count": null,
   "metadata": {
    "scrolled": false
   },
   "outputs": [],
   "source": [
    "sns.jointplot(data=fd, x=\"age\", y=\"weight\",  hue=\"gender\")"
   ]
  },
  {
   "cell_type": "markdown",
   "metadata": {},
   "source": [
    "in order to form a wider relationship "
   ]
  },
  {
   "cell_type": "code",
   "execution_count": null,
   "metadata": {},
   "outputs": [],
   "source": [
    "sns.catplot(data=fd, x=\"smoke\", y=\"sbp\", hue=\"overwt\", kind=\"violin\")"
   ]
  },
  {
   "cell_type": "markdown",
   "metadata": {},
   "source": [
    "#### Overview of the Numpy.Random Package\n",
    "\n",
    "\n",
    "In order to effectively simulate the data required to emulate the information as it is provided above, as a template for further testing, we must first understand the operational overview of the numpy.random package. \n",
    "\n",
    "Comprising of a generator and a bitgenerator, there is a melding of sequence creation and different statistical distributuions applied against to effectively generate random numbers, as per [Numpy](https://numpy.org/doc/stable/reference/random/index.html?highlight=numpy%20random#module-numpy.random). While the remit of this exercise is not to walk tnrough all components of the package, a high-level understanding will be displayed in code blocks and implementaion to better understand the material.  \n",
    "\n"
   ]
  },
  {
   "cell_type": "code",
   "execution_count": 21,
   "metadata": {},
   "outputs": [],
   "source": [
    "import numpy as np\n",
    "from numpy.random import default_rng\n",
    "rng = default_rng()\n",
    "\n",
    "rng"
   ]
  },
  {
   "cell_type": "code",
   "execution_count": 7,
   "metadata": {},
   "outputs": [],
   "source": [
    "# In the output above we have the generator that numpy.random operates from. "
   ]
  },
  {
   "cell_type": "code",
   "execution_count": 10,
   "metadata": {},
   "outputs": [
    {
     "data": {
      "text/plain": [
       "319345192536006037530720654921075243083"
      ]
     },
     "execution_count": 10,
     "metadata": {},
     "output_type": "execute_result"
    }
   ],
   "source": [
    "sq1 = np.random.SeedSequence()\n",
    "sq1.entropy"
   ]
  },
  {
   "cell_type": "code",
   "execution_count": 12,
   "metadata": {},
   "outputs": [
    {
     "data": {
      "text/plain": [
       "-1.4238250364546312"
      ]
     },
     "execution_count": 12,
     "metadata": {},
     "output_type": "execute_result"
    }
   ],
   "source": [
    "from numpy.random import Generator, PCG64\n",
    "rg = Generator(PCG64(12345))\n",
    "rg.standard_normal()"
   ]
  },
  {
   "cell_type": "code",
   "execution_count": 15,
   "metadata": {},
   "outputs": [
    {
     "data": {
      "text/plain": [
       "-1.4238250364546312"
      ]
     },
     "execution_count": 15,
     "metadata": {},
     "output_type": "execute_result"
    }
   ],
   "source": [
    "from numpy.random import Generator, PCG64\n",
    "rg = Generator(PCG64(12345))\n",
    "rg.standard_normal()"
   ]
  },
  {
   "cell_type": "markdown",
   "metadata": {},
   "source": [
    "If you are interested in the PCG (Permuted Congrunetila Generator-64bit), please click the following link:[pcg-random.org](https://www.pcg-random.org/)"
   ]
  },
  {
   "cell_type": "markdown",
   "metadata": {},
   "source": [
    "Once we have stood up our PCG, and we are looking to create some data, it is important to note that the Numpy.raandom package has three core areas that can be leveraged against. \n",
    "\n",
    "\n",
    "- Simple Random Data \n",
    "- Permutations\n",
    "- Distributions\n",
    "\n",
    "At a high-level, ther are four sub-components that are part of Simple Random Data layer. \n",
    "They are: \n",
    "- Integer, Random, Choice, Bytes   \n",
    "\n",
    "Permutations, as the name may suggesto those that are familiar to it, has a narrower scope, facilitating:\n",
    "- Shuffle & Permutation  \n",
    "\n",
    "Distributions, on the other hand, has a much wider span, with more than 35 distributions that can be accessed, such as \n",
    "- Power, Multinomial, Triangular & Wald  \n",
    "\n"
   ]
  },
  {
   "cell_type": "markdown",
   "metadata": {},
   "source": [
    "#### Random Data Creation"
   ]
  },
  {
   "cell_type": "code",
   "execution_count": 33,
   "metadata": {},
   "outputs": [
    {
     "data": {
      "text/plain": [
       "0.0523101535315329"
      ]
     },
     "execution_count": 33,
     "metadata": {},
     "output_type": "execute_result"
    }
   ],
   "source": [
    "rng.random()"
   ]
  },
  {
   "cell_type": "markdown",
   "metadata": {},
   "source": [
    "___"
   ]
  },
  {
   "cell_type": "markdown",
   "metadata": {},
   "source": [
    "___\n",
    "Bibliography\n",
    "\n",
    "\n",
    "Seaborn Official site, retrieved on 30-12-2020\n",
    "https://seaborn.pydata.org/introduction.html  \n",
    "\n",
    "Pandas - Read a CSV File, retrieved on 30-12-2020\n",
    "https://pandas.pydata.org/pandas-docs/stable/reference/api/pandas.read_csv.html  \n",
    "\n",
    "Vincent Arel-Bundock GitHub, retrieved on 30-12-2020 \n",
    "https://vincentarelbundock.github.io/Rdatasets/datasets.html  \n",
    "\n",
    "Vincent Arel-Bundock GitHub, retrieved on 30-12-2020\n",
    "https://vincentarelbundock.github.io/Rdatasets/doc/Stat2Data/Blood1.html    \n",
    "\n",
    "Statistical Society of Canada, retrieved on 30-12-2020 \n",
    "https://ssc.ca/en/case-studies-2003-annual-meeting    \n",
    "\n",
    "Cambridge Dictionary, retrieved on 30-12-2020\n",
    "https://dictionary.cambridge.org/dictionary/english/phenomenon\n",
    "\n",
    "Numpy.org, retrieved on 30-12-2020 \n",
    "https://numpy.org/doc/stable/reference/random/index.html?highlight=numpy%20random#module-numpy.random  \n",
    "\n",
    "PCG, A Family of Better Random Number Generators, retrieved on 30-12-2020 \n",
    "https://www.pcg-random.org/\n",
    "\n",
    "numpy.random.Generator.random, retrieved on 30-12-2020\n",
    "https://numpy.org/doc/stable/reference/random/generated/numpy.random.Generator.random.html#numpy.random.Generator.random\n",
    "\n",
    "Permuted Congruential Generator (64-bit, PCG64), retrieved on 30-12-2020\n",
    "https://numpy.org/doc/stable/reference/random/bit_generators/pcg64.html#numpy.random.PCG64\n",
    "\n",
    "\n",
    "numpy.random.SeedSequence, retrieved on 30-12-2020\n",
    "https://numpy.org/doc/stable/reference/random/bit_generators/generated/numpy.random.SeedSequence.html#numpy.random.SeedSequence"
   ]
  }
 ],
 "metadata": {
  "kernelspec": {
   "display_name": "Python 3",
   "language": "python",
   "name": "python3"
  },
  "language_info": {
   "codemirror_mode": {
    "name": "ipython",
    "version": 3
   },
   "file_extension": ".py",
   "mimetype": "text/x-python",
   "name": "python",
   "nbconvert_exporter": "python",
   "pygments_lexer": "ipython3",
   "version": "3.8.5"
  }
 },
 "nbformat": 4,
 "nbformat_minor": 4
}
