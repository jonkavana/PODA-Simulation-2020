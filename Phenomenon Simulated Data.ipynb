{
 "cells": [
  {
   "cell_type": "markdown",
   "metadata": {},
   "source": [
    "##  Programming for Data Analytics Simulation Project 2020 \n",
    "#### Module: Programming for Data Analytics\n",
    "#### Student Name: John Kavanagh\n",
    "#### Lecturer: Brian McGinley "
   ]
  },
  {
   "cell_type": "markdown",
   "metadata": {},
   "source": [
    "___"
   ]
  },
  {
   "cell_type": "markdown",
   "metadata": {},
   "source": [
    "### Problem Statement \n",
    "\n",
    "For this project you must create a data set by simulating a real-world phenomenon of your choosing. You may pick any phenomenon you wish – you might pick one that is of interest to you in your personal or professional life. Then, rather than collect data\n",
    "related to the phenomenon, you should model and synthesise such data using Python. We suggest you use the numpy.random package for this purpose.\n",
    "\n",
    "Specifically, in this project you should:  \n",
    "• Choose a real-world phenomenon that can be measured and for which you could collect at least one-hundred data points across at least four different variables.  \n",
    "• Investigate the types of variables involved, their likely distributions, and their relationships with each other.  \n",
    "• Synthesise/simulate a data set as closely matching their properties as possible.  \n",
    "• Detail your research and implement the simulation in a Jupyter notebook – the data set itself can simply be displayed in an output cell within the notebook.  \n",
    "\n",
    "\n",
    "Note that this project is about simulation – you must synthesise a data set. Some students may already have some real-world data sets in their own files. It is okay to base your synthesised data set on these should you wish (please reference it if you do), but the main task in this project is to create a synthesised data set."
   ]
  },
  {
   "cell_type": "markdown",
   "metadata": {},
   "source": [
    "### Example Guidance - can this be deleted??\n",
    "\n",
    "As a lecturer I might pick the real-world phenomenon of the performance of students studying a ten-credit module. After some research, I decide that the most interesting variable related to this is the mark a student receives in the module - this is going to be one of my variables (grade).  \n",
    "Upon investigation of the problem, I find that the number of hours on average a student studies per week (hours), the number of times they log onto Moodle in the first three weeks of term (logins), and their previous level of degree qualification (qual) are closely related to grade. The hours and grade variables will be non-negative real number with two decimal places, logins will be a non-zero integer and qual will be a categorical variable with four possible values: \n",
    "- none\n",
    "- bachelors\n",
    "- masters, or\n",
    "- phd  \n",
    "\n",
    "After some online research, I find that full-time post-graduate students study on average four hours per week with a standard deviation of a quarter of an hour and that a normal distribution is an acceptable model of such a variable. Likewise, I investigate the other four variables, and I also look at the relationships between the variables. I devise an algorithm (or method) to generate such a data set, simulating values of the four variables for two-hundred students. I detail all this work in my notebook, and then I add some code in to generate a data set with those properties. "
   ]
  },
  {
   "cell_type": "markdown",
   "metadata": {},
   "source": [
    "___"
   ]
  },
  {
   "cell_type": "markdown",
   "metadata": {},
   "source": [
    "#### Software Requirements\n",
    "\n",
    "There are a number of software packages htat will need to be installed throughout this exercise. \n",
    "Such as: \n",
    "\n",
    "- Anaconda\n",
    "- Jupyter Notebook\n",
    "- Pandas\n",
    "- MatPlotLib\n",
    "- Numpy\n",
    "- Seaborn"
   ]
  },
  {
   "cell_type": "markdown",
   "metadata": {},
   "source": [
    "___"
   ]
  },
  {
   "cell_type": "markdown",
   "metadata": {},
   "source": [
    "### Project Overview    \n",
    "#### Introduction  \n",
    "#### Source of DataSet  \n",
    "##### Analysis of Documentation\n",
    "##### Analysis of DataSet  \n",
    "###### DisPlot  \n",
    "###### CatPlot  \n",
    "\n",
    "#### Introduction to Numpy.Random  \n",
    "##### Data Creation  \n",
    "#####  \n",
    "#####  \n",
    "#####  \n"
   ]
  },
  {
   "cell_type": "markdown",
   "metadata": {},
   "source": [
    "#### Introduction - Complete rewrite required\n",
    " \n",
    "As part of the ressearch into this exercise, I thoughtn it best that we started off with an exisitng data set that was relevant to the information that i wanted to simulate, in order to provide some structure, guidance as well as some fallback information on the topic. \n",
    "The area that I wanted to cover is in relation to health. Obviously, one of the unavoidable aspects to life in 2020 hasm been COVID-19, as everyone is painfully aware. \n",
    "HOweverm, one of the aspects that appears to be examined is that of the relationshipn between hte NPHET committee and hte Government of Ireland. \n",
    "\n",
    "From the outset, there was a direct line of communication between the two boides, but as time went on, and the perview of the governments view fo teh world expeanded, there were layers of control put in place to provide distance. \n",
    "\n",
    "Instead of just public health, there were another numbers of factors to be catered for, such as The economy, mental health etc..\n",
    "\n",
    "However, if we take the view of what the remit ofthe delivery of NPHET is for, in the strictest sense of the world, they are responsible for the public health. In Ireland public health has been a contenitious topic over decades. \n",
    "There has been a continuous rise in the amount of money required to work the system, with a lot of high profile costs being reported on. \n",
    "\n",
    "\n",
    "If we review the concept of advise and what becomes the recommended advise and or lae fro teh point of view of the governemnt, we are left to believe that there is no way we can have both. that we can't have a full lockdown, duw to the cpacity of hospitals as well as levels of training of ICU staff and nurses to cater for the re-assigned workload that OCVID has caused. \n",
    "\n",
    "Ireladn has suffered from a fundamental issue of how to manage it's health system for a long time. \n",
    "\n",
    "\n",
    "On a societal level, there are a number of changes that can be reviewed to reduce the level of activity that is burdened our system. One of the simple steps to ne taken, is to potentially review the general health of hte nation. \n",
    "\n",
    "\n",
    "A phenomenon, according to [Cambridge Dictionary](https://dictionary.cambridge.org/dictionary/english/phenomenon) is \"something that exists and that can be seen, felt, tested etc.\". "
   ]
  },
  {
   "cell_type": "markdown",
   "metadata": {},
   "source": [
    "___"
   ]
  },
  {
   "cell_type": "markdown",
   "metadata": {},
   "source": [
    "### Statistical Society of Canada Dataset Overview\n",
    "Given that we are looking to simulate infromation on the general area of health, it's import to be familiar with the structure of the information, as well as the headings that are reported upon. \n",
    "\n",
    "The first step in demonstrating this research was to review a site that held a large number of datasets across a number of disciplines. Having reviewed some initial datasets on [Vincent Arel-Bundock](https://vincentarelbundock.github.io/Rdatasets/datasets.html), there was a simple dataset with a small number of attributes that could be used as the basis for examination.   \n",
    "\n",
    "This dataset, containing samples from 500 adults, as detailed in the documentation on [Vincent Ares-Bundock](https://vincentarelbundock.github.io/Rdatasets/doc/Stat2Data/Blood1.html) holds information on the Blood Pressure recorded as well as other factors such as smoking and whether the individual is classified as overweight. \n",
    "\n",
    "As part of the review, we are going to examine the data set for a relationship between blood pressure, smoking and a persons weight. \n",
    "\n",
    "Subsequent to this report, there was additional research required, in order to effectively ensure the report was being interpreted correctly, the extended report, as published on [Statistical Society of Canada](https://ssc.ca/en/case-studies-2003-annual-meeting) "
   ]
  },
  {
   "cell_type": "markdown",
   "metadata": {},
   "source": [
    "#### Analysis of Documentation\n",
    "\n",
    "Although limited, there are a number of pieces of information on the [Vincent Arel-Bundock](https://vincentarelbundock.github.io/Rdatasets/doc/Stat2Data/Blood1.html) site that convey greater breadth of information on the data.\n",
    "\n",
    "Smoking, for instance is captured in the affirmative of Yes. As per the Boolean expression, where there are two outcomes, categorised as either Zero or One, smokers are recorded as One.  \n",
    "\n",
    "In relation to the other factor, the weight of an individual, there are three categories that have been created:  \n",
    "1. Normal \n",
    "2. Overweight \n",
    "3. Obese  \n",
    "\n",
    "Lastly, we have the recorded values of each individuals SystolicBP, or Blood Pressure as it is known. In order to ahve a more informed opinion on the range of what a healthy recording for blood pressure is, please review the following site, [IrishHeart.ie](https://irishheart.ie/your-health/ways-to-live-better/blood-pressure/)"
   ]
  },
  {
   "cell_type": "markdown",
   "metadata": {},
   "source": [
    "#### Analysis on DataSet"
   ]
  },
  {
   "cell_type": "code",
   "execution_count": 28,
   "metadata": {},
   "outputs": [],
   "source": [
    "import pandas as pd"
   ]
  },
  {
   "cell_type": "code",
   "execution_count": 29,
   "metadata": {},
   "outputs": [
    {
     "data": {
      "text/html": [
       "<div>\n",
       "<style scoped>\n",
       "    .dataframe tbody tr th:only-of-type {\n",
       "        vertical-align: middle;\n",
       "    }\n",
       "\n",
       "    .dataframe tbody tr th {\n",
       "        vertical-align: top;\n",
       "    }\n",
       "\n",
       "    .dataframe thead th {\n",
       "        text-align: right;\n",
       "    }\n",
       "</style>\n",
       "<table border=\"1\" class=\"dataframe\">\n",
       "  <thead>\n",
       "    <tr style=\"text-align: right;\">\n",
       "      <th></th>\n",
       "      <th>Unnamed: 0</th>\n",
       "      <th>SystolicBP</th>\n",
       "      <th>Smoke</th>\n",
       "      <th>Overwt</th>\n",
       "    </tr>\n",
       "  </thead>\n",
       "  <tbody>\n",
       "    <tr>\n",
       "      <th>0</th>\n",
       "      <td>1</td>\n",
       "      <td>133</td>\n",
       "      <td>0</td>\n",
       "      <td>2</td>\n",
       "    </tr>\n",
       "    <tr>\n",
       "      <th>1</th>\n",
       "      <td>2</td>\n",
       "      <td>115</td>\n",
       "      <td>1</td>\n",
       "      <td>0</td>\n",
       "    </tr>\n",
       "    <tr>\n",
       "      <th>2</th>\n",
       "      <td>3</td>\n",
       "      <td>140</td>\n",
       "      <td>1</td>\n",
       "      <td>1</td>\n",
       "    </tr>\n",
       "    <tr>\n",
       "      <th>3</th>\n",
       "      <td>4</td>\n",
       "      <td>132</td>\n",
       "      <td>0</td>\n",
       "      <td>2</td>\n",
       "    </tr>\n",
       "    <tr>\n",
       "      <th>4</th>\n",
       "      <td>5</td>\n",
       "      <td>133</td>\n",
       "      <td>0</td>\n",
       "      <td>1</td>\n",
       "    </tr>\n",
       "    <tr>\n",
       "      <th>...</th>\n",
       "      <td>...</td>\n",
       "      <td>...</td>\n",
       "      <td>...</td>\n",
       "      <td>...</td>\n",
       "    </tr>\n",
       "    <tr>\n",
       "      <th>495</th>\n",
       "      <td>496</td>\n",
       "      <td>146</td>\n",
       "      <td>0</td>\n",
       "      <td>0</td>\n",
       "    </tr>\n",
       "    <tr>\n",
       "      <th>496</th>\n",
       "      <td>497</td>\n",
       "      <td>181</td>\n",
       "      <td>1</td>\n",
       "      <td>1</td>\n",
       "    </tr>\n",
       "    <tr>\n",
       "      <th>497</th>\n",
       "      <td>498</td>\n",
       "      <td>145</td>\n",
       "      <td>1</td>\n",
       "      <td>2</td>\n",
       "    </tr>\n",
       "    <tr>\n",
       "      <th>498</th>\n",
       "      <td>499</td>\n",
       "      <td>180</td>\n",
       "      <td>1</td>\n",
       "      <td>2</td>\n",
       "    </tr>\n",
       "    <tr>\n",
       "      <th>499</th>\n",
       "      <td>500</td>\n",
       "      <td>174</td>\n",
       "      <td>1</td>\n",
       "      <td>2</td>\n",
       "    </tr>\n",
       "  </tbody>\n",
       "</table>\n",
       "<p>500 rows × 4 columns</p>\n",
       "</div>"
      ],
      "text/plain": [
       "     Unnamed: 0  SystolicBP  Smoke  Overwt\n",
       "0             1         133      0       2\n",
       "1             2         115      1       0\n",
       "2             3         140      1       1\n",
       "3             4         132      0       2\n",
       "4             5         133      0       1\n",
       "..          ...         ...    ...     ...\n",
       "495         496         146      0       0\n",
       "496         497         181      1       1\n",
       "497         498         145      1       2\n",
       "498         499         180      1       2\n",
       "499         500         174      1       2\n",
       "\n",
       "[500 rows x 4 columns]"
      ]
     },
     "execution_count": 29,
     "metadata": {},
     "output_type": "execute_result"
    }
   ],
   "source": [
    "df = pd.read_csv('https://vincentarelbundock.github.io/Rdatasets/csv/Stat2Data/Blood1.csv')\n",
    "df"
   ]
  },
  {
   "cell_type": "markdown",
   "metadata": {},
   "source": [
    "The package has successfully taken the URL and produced a tabular view of the information, with the headings that we expected to see. As you can see along the left hand side of teh table, pandas has added in a row for indexing the data.  "
   ]
  },
  {
   "cell_type": "code",
   "execution_count": 30,
   "metadata": {},
   "outputs": [],
   "source": [
    "#df.set_index(\"Smoke\", inplace=True)\n",
    "#df.head()"
   ]
  },
  {
   "cell_type": "code",
   "execution_count": 31,
   "metadata": {},
   "outputs": [
    {
     "data": {
      "text/html": [
       "<div>\n",
       "<style scoped>\n",
       "    .dataframe tbody tr th:only-of-type {\n",
       "        vertical-align: middle;\n",
       "    }\n",
       "\n",
       "    .dataframe tbody tr th {\n",
       "        vertical-align: top;\n",
       "    }\n",
       "\n",
       "    .dataframe thead th {\n",
       "        text-align: right;\n",
       "    }\n",
       "</style>\n",
       "<table border=\"1\" class=\"dataframe\">\n",
       "  <thead>\n",
       "    <tr style=\"text-align: right;\">\n",
       "      <th></th>\n",
       "      <th>Unnamed: 0</th>\n",
       "      <th>SystolicBP</th>\n",
       "      <th>Smoke</th>\n",
       "      <th>Overwt</th>\n",
       "    </tr>\n",
       "  </thead>\n",
       "  <tbody>\n",
       "    <tr>\n",
       "      <th>count</th>\n",
       "      <td>500.000000</td>\n",
       "      <td>500.000000</td>\n",
       "      <td>500.000000</td>\n",
       "      <td>500.000000</td>\n",
       "    </tr>\n",
       "    <tr>\n",
       "      <th>mean</th>\n",
       "      <td>250.500000</td>\n",
       "      <td>144.952000</td>\n",
       "      <td>0.532000</td>\n",
       "      <td>1.034000</td>\n",
       "    </tr>\n",
       "    <tr>\n",
       "      <th>std</th>\n",
       "      <td>144.481833</td>\n",
       "      <td>27.994948</td>\n",
       "      <td>0.499475</td>\n",
       "      <td>0.884539</td>\n",
       "    </tr>\n",
       "    <tr>\n",
       "      <th>min</th>\n",
       "      <td>1.000000</td>\n",
       "      <td>67.000000</td>\n",
       "      <td>0.000000</td>\n",
       "      <td>0.000000</td>\n",
       "    </tr>\n",
       "    <tr>\n",
       "      <th>25%</th>\n",
       "      <td>125.750000</td>\n",
       "      <td>130.000000</td>\n",
       "      <td>0.000000</td>\n",
       "      <td>0.000000</td>\n",
       "    </tr>\n",
       "    <tr>\n",
       "      <th>50%</th>\n",
       "      <td>250.500000</td>\n",
       "      <td>140.500000</td>\n",
       "      <td>1.000000</td>\n",
       "      <td>1.000000</td>\n",
       "    </tr>\n",
       "    <tr>\n",
       "      <th>75%</th>\n",
       "      <td>375.250000</td>\n",
       "      <td>162.250000</td>\n",
       "      <td>1.000000</td>\n",
       "      <td>2.000000</td>\n",
       "    </tr>\n",
       "    <tr>\n",
       "      <th>max</th>\n",
       "      <td>500.000000</td>\n",
       "      <td>224.000000</td>\n",
       "      <td>1.000000</td>\n",
       "      <td>2.000000</td>\n",
       "    </tr>\n",
       "  </tbody>\n",
       "</table>\n",
       "</div>"
      ],
      "text/plain": [
       "       Unnamed: 0  SystolicBP       Smoke      Overwt\n",
       "count  500.000000  500.000000  500.000000  500.000000\n",
       "mean   250.500000  144.952000    0.532000    1.034000\n",
       "std    144.481833   27.994948    0.499475    0.884539\n",
       "min      1.000000   67.000000    0.000000    0.000000\n",
       "25%    125.750000  130.000000    0.000000    0.000000\n",
       "50%    250.500000  140.500000    1.000000    1.000000\n",
       "75%    375.250000  162.250000    1.000000    2.000000\n",
       "max    500.000000  224.000000    1.000000    2.000000"
      ]
     },
     "execution_count": 31,
     "metadata": {},
     "output_type": "execute_result"
    }
   ],
   "source": [
    "df.describe()\n",
    "# this will allow us to view some high-level information from the set, such as mean and the standard deviation."
   ]
  },
  {
   "cell_type": "code",
   "execution_count": 32,
   "metadata": {},
   "outputs": [],
   "source": [
    "# To effectively review the data, given that there are so few variables and the relationship is transparent at first sight,\n",
    "# we import the Seaborn package."
   ]
  },
  {
   "cell_type": "code",
   "execution_count": 33,
   "metadata": {},
   "outputs": [],
   "source": [
    "import seaborn as sns"
   ]
  },
  {
   "cell_type": "markdown",
   "metadata": {},
   "source": [
    "#### DisPlot "
   ]
  },
  {
   "cell_type": "code",
   "execution_count": 53,
   "metadata": {},
   "outputs": [
    {
     "data": {
      "image/png": "[encoded data removed]",
      "text/plain": [
       "<Figure size 402.375x360 with 1 Axes>"
      ]
     },
     "metadata": {
      "needs_background": "light"
     },
     "output_type": "display_data"
    }
   ],
   "source": [
    "sns.displot(data=df, x=\"Overwt\", y=\"SystolicBP\", hue=\"Smoke\").set(title=\"Blood Pressure versus Weight\");"
   ]
  },
  {
   "cell_type": "markdown",
   "metadata": {},
   "source": [
    "Given the information that we have to hand in this set, we can review the relationship with one consistent paramater on the Y Axis - Blood Pressure, and then overlay either smoking or weight as a hue, when the other is the variable on the X axis.   \n",
    "\n",
    "From the graph above, we can see that were someone has declared that they do not smoke, they are far more likley to have a healthy Blood Pressure rate, as well as weigh a normal amount.  \n",
    "\n",
    "    For more information inrelation to Blood Pressure, please review hte following site:\n",
    "    https://irishheart.ie/your-health/ways-to-live-better/blood-pressure/\n",
    "\n",
    "Inversly, we can deduce that those who smoke, are far more likely to be obese or overweight, and in-turn are at risk of having an increased and unhealthy Blood Pressure rate. There is a correlation between having unhealthy bloood pressure and being overweight as well as smoking.  \n",
    "\n",
    "However, there is a concern that there are no non-smokers who are in the overweight or obeses column, which upon first viewing, doesn't seem right.  "
   ]
  },
  {
   "cell_type": "markdown",
   "metadata": {},
   "source": [
    "___"
   ]
  },
  {
   "cell_type": "markdown",
   "metadata": {},
   "source": [
    "#### CatPlot"
   ]
  },
  {
   "cell_type": "markdown",
   "metadata": {},
   "source": [
    "In order to introduce greater depth of understanding, I have chosen to introduce the catplot function. The catplot function allows for better visualisation given the type of data on display. As we work our way up the Y Axes, we can seee again that we have SystolicBP which represents Blood Pressure. We are introducing this graph in order to better represent all 500 samples taken.\n",
    "\n",
    "The important thing to note with this information is:\n",
    " - The normal level of blood pressure is usually about 120 (systolic) over 80 (diastolic)\n",
    "\n",
    "We can now have a better determination for the relationship between being overweight and blood pressure."
   ]
  },
  {
   "cell_type": "code",
   "execution_count": 52,
   "metadata": {},
   "outputs": [
    {
     "data": {
      "image/png": "[encoded data removed]",
      "text/plain": [
       "<Figure size 402.375x360 with 1 Axes>"
      ]
     },
     "metadata": {
      "needs_background": "light"
     },
     "output_type": "display_data"
    }
   ],
   "source": [
    "sns.catplot(data=df, x=\"Overwt\", y=\"SystolicBP\", hue=\"Smoke\", kind=\"swarm\").set(title=\"Weight Categories\");"
   ]
  },
  {
   "cell_type": "markdown",
   "metadata": {},
   "source": [
    "We can see that there is a greater spread of the respondents who do not smoke, who are both either overweight or obese, as well as have a higher blood pressure of 100 as we were led to believe in the first graph. \n",
    "Although there is still a higher concentration of non-smokers in the normal weight category, there is a wider spread in the other tow eight categories.  \n",
    "Being a non-smoker won't always mean that you are of a normal weight, but combining the two will allow us to see that there is a high proportion of the responses are in 120 systilic range or lower. "
   ]
  },
  {
   "cell_type": "code",
   "execution_count": 51,
   "metadata": {},
   "outputs": [
    {
     "data": {
      "image/png": "[encoded data removed]",
      "text/plain": [
       "<Figure size 403.875x360 with 1 Axes>"
      ]
     },
     "metadata": {
      "needs_background": "light"
     },
     "output_type": "display_data"
    }
   ],
   "source": [
    "sns.catplot(data=df, x=\"Smoke\", y=\"SystolicBP\", hue=\"Overwt\", kind=\"violin\").set(title=\"Non-Smoking Versus Smoking\");"
   ]
  },
  {
   "cell_type": "markdown",
   "metadata": {},
   "source": [
    "If we view the data from a new viewpoint, where our X axis is based around the smoking response, and we overlay on that, the catgeories for weight, we get the view above. We can claerly see that not smoking will lead to lower blood pressure, but also that there will be less likely to be categorised as overweight.  \n",
    "\n",
    "___"
   ]
  },
  {
   "cell_type": "markdown",
   "metadata": {},
   "source": [
    "#### Conclusion\n",
    "\n",
    "We can see from the graphs above that have been created off of the data set that there is in fact a correlation between naking healhty choices and having a healthy outcome. Although choosing not to smoke will not guarantee that you are of a healthy weight, being of a healthy weight and choosing not to smoke will increase the likelihood of having a healthy blood presssure rate. \n",
    "\n",
    "Conversly, choosing the opposite of this will leave you more likely to have higher blood presure. This will in-turn likely lead to a higher chance of suffering from heart disease, heart attack, stroke as well as as kidney disease according to the [NHS](https://www.nhs.uk/conditions/high-blood-pressure-hypertension/)"
   ]
  },
  {
   "cell_type": "code",
   "execution_count": 97,
   "metadata": {},
   "outputs": [],
   "source": [
    "import matplotlib.pyplot as plt"
   ]
  },
  {
   "cell_type": "code",
   "execution_count": 98,
   "metadata": {},
   "outputs": [],
   "source": [
    "#fd = pd.read_csv(\"https://ssc.ca/sites/default/files/archive/documents/case_studies/2003/documents/datafile.dat\")\n",
    "#fd"
   ]
  },
  {
   "cell_type": "code",
   "execution_count": 99,
   "metadata": {
    "scrolled": false
   },
   "outputs": [],
   "source": [
    "#sns.jointplot(data=fd, x=\"age\", y=\"weight\",  hue=\"income\");"
   ]
  },
  {
   "cell_type": "markdown",
   "metadata": {},
   "source": [
    "____"
   ]
  },
  {
   "cell_type": "markdown",
   "metadata": {},
   "source": [
    "### Simulation of Data using Numpy\n",
    "#### Overview of Numpy.Random\n",
    "\n",
    "\n",
    "In order to effectively simulate the data required to emulate the information as it is provided above, as a template for further testing, we must first understand the operational overview of the numpy.random package. \n",
    "\n",
    "Comprising of a generator and a bitgenerator, there is a melding of sequence creation and different statistical distributuions applied against to effectively generate random numbers, as per [Numpy](https://numpy.org/doc/stable/reference/random/index.html?highlight=numpy%20random#module-numpy.random). While the remit of this exercise is not to walk tnrough all components of the package, a high-level understanding will be displayed in code blocks and implementaion to better understand the material.  \n",
    "\n"
   ]
  },
  {
   "cell_type": "code",
   "execution_count": 41,
   "metadata": {},
   "outputs": [
    {
     "data": {
      "text/plain": [
       "Generator(PCG64) at 0x23CAD332400"
      ]
     },
     "execution_count": 41,
     "metadata": {},
     "output_type": "execute_result"
    }
   ],
   "source": [
    "import numpy as np\n",
    "from numpy.random import default_rng\n",
    "rng = default_rng()\n",
    "\n",
    "rng"
   ]
  },
  {
   "cell_type": "code",
   "execution_count": 42,
   "metadata": {},
   "outputs": [],
   "source": [
    "# In the output above we have the generator that numpy.random operates from. "
   ]
  },
  {
   "cell_type": "code",
   "execution_count": 43,
   "metadata": {},
   "outputs": [
    {
     "data": {
      "text/plain": [
       "203558045292365927988806956057941348392"
      ]
     },
     "execution_count": 43,
     "metadata": {},
     "output_type": "execute_result"
    }
   ],
   "source": [
    "sq1 = np.random.SeedSequence()\n",
    "sq1.entropy"
   ]
  },
  {
   "cell_type": "code",
   "execution_count": 44,
   "metadata": {},
   "outputs": [
    {
     "data": {
      "text/plain": [
       "-1.4238250364546312"
      ]
     },
     "execution_count": 44,
     "metadata": {},
     "output_type": "execute_result"
    }
   ],
   "source": [
    "from numpy.random import Generator, PCG64\n",
    "rg = Generator(PCG64(12345))\n",
    "rg.standard_normal()"
   ]
  },
  {
   "cell_type": "code",
   "execution_count": 45,
   "metadata": {},
   "outputs": [
    {
     "data": {
      "text/plain": [
       "-1.4238250364546312"
      ]
     },
     "execution_count": 45,
     "metadata": {},
     "output_type": "execute_result"
    }
   ],
   "source": [
    "from numpy.random import Generator, PCG64\n",
    "rg = Generator(PCG64(12345))\n",
    "rg.standard_normal()"
   ]
  },
  {
   "cell_type": "markdown",
   "metadata": {},
   "source": [
    "If you are interested in the PCG (Permuted Congrunetila Generator-64bit), please click the following link:[pcg-random.org](https://www.pcg-random.org/)\n",
    "\n",
    "Once we have stood up our PCG, and we are looking to create some data, it is important to note that the Numpy.raandom package has three core areas that can be leveraged against. \n",
    "\n",
    "\n",
    "- Simple Random Data \n",
    "- Permutations\n",
    "- Distributions\n",
    "\n",
    "At a high-level, ther are four sub-components that are part of Simple Random Data layer. \n",
    "They are: \n",
    "- Integer, Random, Choice, Bytes   \n",
    "\n",
    "Permutations, as the name may suggesto those that are familiar to it, has a narrower scope, facilitating:\n",
    "- Shuffle & Permutation  \n",
    "\n",
    "Distributions, on the other hand, has a much wider span, with more than 35 distributions that can be accessed, such as \n",
    "- Power, Multinomial, Triangular & Wald  "
   ]
  },
  {
   "cell_type": "markdown",
   "metadata": {},
   "source": [
    "So, before we can produce a set of data, we need to know what headings we are trying to simulate. \n",
    "\n",
    "Health\n",
    "- Smoking\n",
    "- Height (cms)\n",
    "- Age\n",
    "- Exercise\n",
    "    - Frequent\n",
    "    - Moderate\n",
    "    - None\n",
    "-"
   ]
  },
  {
   "cell_type": "markdown",
   "metadata": {},
   "source": [
    "#### Random Data Creation"
   ]
  },
  {
   "cell_type": "code",
   "execution_count": 46,
   "metadata": {},
   "outputs": [
    {
     "data": {
      "text/plain": [
       "0.4516270951121104"
      ]
     },
     "execution_count": 46,
     "metadata": {},
     "output_type": "execute_result"
    }
   ],
   "source": [
    "rng.random()"
   ]
  },
  {
   "cell_type": "markdown",
   "metadata": {},
   "source": [
    "If we take a factor such as smoking as being of an influence on the health of a person, we can replicate the scenario from above using the following code sequence: \n",
    "\n",
    "Let's replicate the information on the selection for smoking, whereby if the person smokes we assigna value of 1 and if not a 0.  As we need to replicate at least 100 data points, we will allow the size arguement to be 100. "
   ]
  },
  {
   "cell_type": "code",
   "execution_count": 128,
   "metadata": {},
   "outputs": [],
   "source": [
    "size = 500"
   ]
  },
  {
   "cell_type": "code",
   "execution_count": 129,
   "metadata": {},
   "outputs": [],
   "source": [
    "Smoking = rng.integers(2, size=size)"
   ]
  },
  {
   "cell_type": "code",
   "execution_count": 132,
   "metadata": {
    "scrolled": true
   },
   "outputs": [
    {
     "data": {
      "text/plain": [
       "array([0, 0, 1, 1, 1, 0, 1, 0, 0, 1, 0, 0, 1, 0, 0, 1, 0, 1, 0, 0, 0, 1,\n",
       "       1, 0, 0, 0, 1, 0, 0, 1, 0, 1, 1, 0, 1, 1, 1, 1, 1, 1, 1, 1, 0, 0,\n",
       "       1, 0, 1, 0, 0, 0, 1, 1, 1, 0, 1, 1, 1, 1, 1, 0, 1, 1, 0, 1, 1, 1,\n",
       "       0, 1, 1, 0, 0, 0, 0, 1, 0, 0, 1, 1, 1, 0, 0, 0, 1, 0, 0, 1, 0, 1,\n",
       "       0, 1, 1, 0, 1, 0, 0, 0, 1, 0, 1, 1, 1, 0, 1, 1, 0, 1, 0, 0, 1, 1,\n",
       "       1, 0, 0, 1, 0, 1, 0, 1, 0, 0, 0, 0, 1, 0, 0, 1, 1, 1, 0, 1, 1, 0,\n",
       "       1, 1, 0, 0, 0, 0, 0, 0, 0, 1, 0, 0, 0, 1, 1, 1, 0, 0, 0, 1, 0, 1,\n",
       "       0, 1, 0, 1, 1, 0, 0, 1, 0, 1, 0, 0, 0, 0, 0, 0, 0, 1, 0, 1, 0, 0,\n",
       "       0, 1, 1, 0, 1, 1, 1, 1, 1, 1, 1, 1, 0, 1, 1, 1, 1, 0, 1, 1, 0, 1,\n",
       "       1, 0, 0, 1, 0, 0, 1, 1, 0, 0, 0, 0, 0, 0, 0, 1, 0, 1, 1, 0, 0, 1,\n",
       "       1, 0, 1, 0, 1, 0, 0, 1, 1, 0, 0, 0, 1, 0, 1, 1, 0, 1, 1, 1, 0, 0,\n",
       "       0, 0, 0, 1, 1, 1, 1, 0, 0, 1, 0, 1, 0, 0, 0, 1, 1, 0, 1, 0, 0, 1,\n",
       "       1, 0, 0, 1, 0, 1, 1, 1, 0, 0, 1, 1, 0, 1, 1, 1, 1, 0, 0, 0, 1, 0,\n",
       "       0, 0, 1, 1, 1, 1, 1, 0, 1, 1, 0, 0, 0, 0, 0, 0, 0, 0, 1, 1, 0, 0,\n",
       "       0, 0, 1, 1, 0, 1, 0, 1, 0, 1, 1, 0, 0, 0, 1, 0, 0, 0, 1, 1, 0, 1,\n",
       "       1, 0, 0, 0, 1, 1, 1, 0, 1, 1, 1, 1, 0, 1, 1, 1, 1, 0, 0, 1, 0, 1,\n",
       "       0, 1, 0, 1, 1, 0, 0, 0, 0, 0, 1, 1, 1, 1, 0, 0, 1, 0, 1, 1, 1, 1,\n",
       "       1, 1, 0, 1, 0, 0, 1, 1, 1, 1, 1, 1, 0, 0, 0, 1, 1, 1, 1, 0, 0, 0,\n",
       "       0, 0, 0, 1, 1, 1, 1, 0, 1, 0, 0, 0, 1, 0, 0, 1, 0, 0, 0, 0, 0, 0,\n",
       "       0, 1, 1, 1, 0, 0, 1, 0, 1, 0, 0, 0, 1, 0, 1, 0, 1, 1, 1, 1, 0, 0,\n",
       "       1, 0, 0, 1, 1, 0, 0, 0, 1, 0, 1, 1, 1, 0, 0, 0, 0, 0, 0, 1, 0, 0,\n",
       "       1, 0, 0, 1, 1, 1, 1, 1, 1, 1, 0, 0, 1, 0, 0, 0, 1, 0, 1, 0, 1, 1,\n",
       "       1, 0, 0, 0, 0, 1, 0, 0, 1, 0, 0, 0, 0, 1, 1, 1], dtype=int64)"
      ]
     },
     "execution_count": 132,
     "metadata": {},
     "output_type": "execute_result"
    }
   ],
   "source": [
    "Smoking"
   ]
  },
  {
   "cell_type": "code",
   "execution_count": 133,
   "metadata": {},
   "outputs": [],
   "source": [
    "Age = rng.integers(18,101, size=size)"
   ]
  },
  {
   "cell_type": "code",
   "execution_count": 135,
   "metadata": {
    "scrolled": true
   },
   "outputs": [
    {
     "data": {
      "text/plain": [
       "array([ 24,  18,  88,  41,  71,  97,  18,  81,  68,  30,  49,  80,  35,\n",
       "        96,  35,  28,  30,  49,  19,  98,  86,  32,  54,  28,  86,  84,\n",
       "        33,  86,  92,  34,  71, 100,  88,  20,  99,  34,  52,  61,  59,\n",
       "        32,  79,  65,  91,  91,  77,  55,  60,  64,  60,  68,  42,  74,\n",
       "        87,  86,  55,  86,  75,  79,  20,  38,  44,  91,  56,  65,  90,\n",
       "        97,  85,  78,  27,  44,  49,  40,  50,  80,  84,  98,  98,  61,\n",
       "        22,  18, 100,  97,  66,  58,  52,  29,  94,  62, 100,  77,  45,\n",
       "        98,  87,  79,  18,  51,  42,  85,  55,  82,  98,  67,  38, 100,\n",
       "        67,  19,  59,  83,  28,  29,  53,  88,  55,  26,  38,  59,  43,\n",
       "        51,  75,  56,  55,  31,  38,  18,  74,  30,  52,  33,  41,  49,\n",
       "        73,  84,  93,  41,  19,  22,  39,  95,  22,  91,  56,  22,  55,\n",
       "        23,  75,  66,  80,  70,  34,  92,  48,  98,  25,  60,  99,  53,\n",
       "        87,  25,  39,  68,  34,  50,  19,  27,  18,  38,  67,  51,  39,\n",
       "        52,  54,  43,  40,  20,  45,  71,  71,  50,  70,  34,  36,  71,\n",
       "        48,  85,  64,  86,  96,  58,  63,  65,  68,  56,  50,  34,  77,\n",
       "        52,  31,  60,  46,  43,  64,  50,  74,  19,  92,  55,  83,  54,\n",
       "        43,  37,  57,  58,  65,  62,  32,  94,  86,  74,  29,  56,  75,\n",
       "        76,  37,  84,  35,  47,  90,  88,  90,  35,  63,  63,  43,  67,\n",
       "        90,  43,  83,  28,  92,  30,  52,  56,  39,  45,  95,  67,  88,\n",
       "        72,  30,  97,  53,  52,  76,  18,  54,  22,  78,  78,  37,  84,\n",
       "        80,  87,  85,  62,  94,  55,  50,  35,  26,  46,  37,  55,  35,\n",
       "        39,  84,  85,  34,  92,  73,  59,  63,  61,  70,  43,  33,  55,\n",
       "        73,  94,  61,  93,  34,  53,  98,  59,  69,  76,  27,  83,  78,\n",
       "        76,  60,  68,  55,  84,  70,  48,  73,  93,  94,  73,  35,  73,\n",
       "        47,  39,  18,  30,  28,  50,  42, 100,  66,  95,  33,  20,  18,\n",
       "        46,  81,  61,  86,  56,  48,  48,  54,  93,  67,  85,  56,  82,\n",
       "        29,  23,  94,  78,  75,  33,  90,  60,  61,  99,  32,  43,  40,\n",
       "        41,  20,  56,  54,  83,  57,  29,  37,  49,  80,  41,  31,  75,\n",
       "        74,  50,  94,  29,  67,  44,  60,  44,  32,  32,  89,  41,  35,\n",
       "        59,  73,  23,  97,  96,  96,  52,  28,  47,  83,  88,  90,  51,\n",
       "        84,  76,  49,  78,  88,  94,  79,  47,  43,  99,  42,  73,  47,\n",
       "        84,  27,  59,  80,  88,  61,  34,  48,  75,  68,  24,  69,  99,\n",
       "        35,  21,  94,  36,  94,  51,  52,  23,  99,  60,  83,  45,  81,\n",
       "        33,  56,  27,  63,  51,  85,  84,  61, 100,  73,  36,  22,  79,\n",
       "        29, 100,  20,  86,  83,  56,  25,  42,  62,  21, 100,  89,  43,\n",
       "        45,  62,  28,  47,  35,  66,  83,  66,  60,  19,  69,  34,  76,\n",
       "        35,  23,  36,  73,  93,  45,  73,  48,  23,  63,  21,  94,  55,\n",
       "        79,  39,  81,  51,  75,  98,  25,  69,  78,  64,  30,  98,  28,\n",
       "        72,  81,  58,  52,  95,  48], dtype=int64)"
      ]
     },
     "execution_count": 135,
     "metadata": {},
     "output_type": "execute_result"
    }
   ],
   "source": [
    "Age"
   ]
  },
  {
   "cell_type": "code",
   "execution_count": 137,
   "metadata": {},
   "outputs": [
    {
     "data": {
      "image/png": "[encoded data removed]",
      "text/plain": [
       "<Figure size 432x288 with 1 Axes>"
      ]
     },
     "metadata": {
      "needs_background": "light"
     },
     "output_type": "display_data"
    }
   ],
   "source": [
    "plt.hist(Age, 75);"
   ]
  },
  {
   "cell_type": "code",
   "execution_count": 138,
   "metadata": {},
   "outputs": [],
   "source": [
    "Mean = np.mean(Age)"
   ]
  },
  {
   "cell_type": "code",
   "execution_count": 139,
   "metadata": {},
   "outputs": [],
   "source": [
    "Std = np.std(Age)"
   ]
  },
  {
   "cell_type": "code",
   "execution_count": 140,
   "metadata": {},
   "outputs": [],
   "source": [
    "AgeDist = rng.normal(Mean, Std, size)"
   ]
  },
  {
   "cell_type": "code",
   "execution_count": 142,
   "metadata": {},
   "outputs": [
    {
     "data": {
      "text/plain": [
       "<seaborn.axisgrid.FacetGrid at 0x23cb1755850>"
      ]
     },
     "execution_count": 142,
     "metadata": {},
     "output_type": "execute_result"
    },
    {
     "data": {
      "image/png": "[encoded data removed]",
      "text/plain": [
       "<Figure size 360x360 with 1 Axes>"
      ]
     },
     "metadata": {
      "needs_background": "light"
     },
     "output_type": "display_data"
    }
   ],
   "source": [
    "sns.displot(AgeDist)"
   ]
  },
  {
   "cell_type": "code",
   "execution_count": 143,
   "metadata": {},
   "outputs": [],
   "source": [
    "Exercise = rng.integers(3, size=size)"
   ]
  },
  {
   "cell_type": "code",
   "execution_count": 144,
   "metadata": {
    "scrolled": true
   },
   "outputs": [
    {
     "data": {
      "text/plain": [
       "array([2, 0, 0, 0, 0, 1, 1, 1, 2, 0, 1, 2, 0, 2, 1, 2, 1, 2, 1, 2, 0, 1,\n",
       "       2, 2, 1, 0, 0, 1, 2, 0, 0, 2, 1, 1, 1, 1, 2, 2, 1, 2, 0, 2, 0, 0,\n",
       "       1, 2, 1, 2, 1, 0, 2, 2, 1, 1, 0, 1, 0, 1, 1, 1, 0, 1, 2, 2, 0, 1,\n",
       "       0, 1, 2, 0, 2, 2, 1, 2, 1, 2, 0, 1, 1, 1, 1, 0, 2, 0, 2, 0, 1, 1,\n",
       "       2, 0, 0, 0, 1, 0, 1, 0, 2, 0, 0, 0, 2, 0, 2, 1, 1, 1, 1, 2, 2, 1,\n",
       "       0, 2, 1, 2, 1, 2, 1, 2, 1, 2, 2, 1, 2, 2, 2, 1, 2, 0, 1, 1, 0, 0,\n",
       "       0, 2, 1, 1, 1, 2, 2, 1, 0, 2, 2, 1, 2, 1, 2, 2, 0, 2, 2, 0, 2, 0,\n",
       "       1, 0, 2, 1, 1, 2, 0, 1, 0, 2, 2, 1, 0, 2, 0, 2, 2, 0, 0, 0, 0, 1,\n",
       "       0, 1, 1, 2, 2, 0, 0, 0, 1, 2, 0, 2, 1, 0, 2, 0, 1, 1, 1, 0, 0, 1,\n",
       "       1, 0, 0, 0, 1, 0, 2, 1, 1, 0, 1, 0, 2, 1, 0, 1, 2, 0, 2, 1, 2, 0,\n",
       "       0, 2, 1, 0, 1, 1, 0, 1, 0, 2, 1, 2, 2, 1, 2, 1, 1, 2, 1, 0, 0, 2,\n",
       "       1, 1, 0, 0, 2, 1, 1, 1, 0, 2, 2, 1, 0, 0, 2, 2, 2, 0, 0, 1, 0, 1,\n",
       "       0, 0, 2, 0, 0, 0, 0, 0, 2, 2, 2, 0, 2, 1, 0, 0, 0, 1, 1, 1, 0, 1,\n",
       "       2, 2, 1, 2, 0, 0, 2, 0, 1, 2, 1, 2, 0, 0, 0, 0, 1, 1, 1, 2, 1, 0,\n",
       "       1, 1, 0, 2, 2, 0, 0, 1, 2, 2, 1, 2, 1, 0, 0, 0, 1, 0, 2, 2, 2, 0,\n",
       "       0, 0, 2, 2, 0, 2, 1, 0, 1, 1, 1, 0, 2, 0, 0, 2, 1, 2, 2, 2, 0, 2,\n",
       "       0, 2, 2, 1, 1, 1, 1, 1, 0, 2, 0, 2, 2, 1, 1, 1, 1, 1, 1, 2, 0, 1,\n",
       "       0, 0, 2, 1, 2, 0, 2, 1, 0, 2, 0, 0, 0, 2, 2, 1, 1, 1, 2, 0, 2, 2,\n",
       "       0, 1, 2, 0, 1, 2, 2, 0, 1, 2, 2, 2, 1, 2, 2, 1, 2, 0, 1, 1, 0, 2,\n",
       "       2, 1, 1, 2, 0, 1, 0, 1, 2, 1, 1, 1, 2, 2, 2, 2, 1, 1, 1, 0, 2, 1,\n",
       "       2, 0, 1, 2, 2, 1, 2, 1, 2, 2, 2, 1, 2, 2, 2, 0, 0, 0, 0, 0, 1, 1,\n",
       "       0, 0, 1, 2, 1, 2, 1, 0, 2, 1, 0, 1, 2, 1, 1, 2, 0, 1, 2, 0, 0, 1,\n",
       "       0, 2, 2, 0, 0, 1, 2, 2, 2, 0, 1, 0, 1, 2, 1, 2], dtype=int64)"
      ]
     },
     "execution_count": 144,
     "metadata": {},
     "output_type": "execute_result"
    }
   ],
   "source": [
    "Exercise"
   ]
  },
  {
   "cell_type": "code",
   "execution_count": 145,
   "metadata": {},
   "outputs": [],
   "source": [
    "Health = {'Smoking':Smoking, 'Age':Age, 'Exercise':Exercise}"
   ]
  },
  {
   "cell_type": "code",
   "execution_count": 146,
   "metadata": {},
   "outputs": [],
   "source": [
    "df = pd.DataFrame(data=Health)"
   ]
  },
  {
   "cell_type": "code",
   "execution_count": 147,
   "metadata": {},
   "outputs": [
    {
     "data": {
      "text/html": [
       "<div>\n",
       "<style scoped>\n",
       "    .dataframe tbody tr th:only-of-type {\n",
       "        vertical-align: middle;\n",
       "    }\n",
       "\n",
       "    .dataframe tbody tr th {\n",
       "        vertical-align: top;\n",
       "    }\n",
       "\n",
       "    .dataframe thead th {\n",
       "        text-align: right;\n",
       "    }\n",
       "</style>\n",
       "<table border=\"1\" class=\"dataframe\">\n",
       "  <thead>\n",
       "    <tr style=\"text-align: right;\">\n",
       "      <th></th>\n",
       "      <th>Smoking</th>\n",
       "      <th>Age</th>\n",
       "      <th>Exercise</th>\n",
       "    </tr>\n",
       "  </thead>\n",
       "  <tbody>\n",
       "    <tr>\n",
       "      <th>0</th>\n",
       "      <td>0</td>\n",
       "      <td>24</td>\n",
       "      <td>2</td>\n",
       "    </tr>\n",
       "    <tr>\n",
       "      <th>1</th>\n",
       "      <td>0</td>\n",
       "      <td>18</td>\n",
       "      <td>0</td>\n",
       "    </tr>\n",
       "    <tr>\n",
       "      <th>2</th>\n",
       "      <td>1</td>\n",
       "      <td>88</td>\n",
       "      <td>0</td>\n",
       "    </tr>\n",
       "    <tr>\n",
       "      <th>3</th>\n",
       "      <td>1</td>\n",
       "      <td>41</td>\n",
       "      <td>0</td>\n",
       "    </tr>\n",
       "    <tr>\n",
       "      <th>4</th>\n",
       "      <td>1</td>\n",
       "      <td>71</td>\n",
       "      <td>0</td>\n",
       "    </tr>\n",
       "    <tr>\n",
       "      <th>...</th>\n",
       "      <td>...</td>\n",
       "      <td>...</td>\n",
       "      <td>...</td>\n",
       "    </tr>\n",
       "    <tr>\n",
       "      <th>495</th>\n",
       "      <td>0</td>\n",
       "      <td>81</td>\n",
       "      <td>0</td>\n",
       "    </tr>\n",
       "    <tr>\n",
       "      <th>496</th>\n",
       "      <td>0</td>\n",
       "      <td>58</td>\n",
       "      <td>1</td>\n",
       "    </tr>\n",
       "    <tr>\n",
       "      <th>497</th>\n",
       "      <td>1</td>\n",
       "      <td>52</td>\n",
       "      <td>2</td>\n",
       "    </tr>\n",
       "    <tr>\n",
       "      <th>498</th>\n",
       "      <td>1</td>\n",
       "      <td>95</td>\n",
       "      <td>1</td>\n",
       "    </tr>\n",
       "    <tr>\n",
       "      <th>499</th>\n",
       "      <td>1</td>\n",
       "      <td>48</td>\n",
       "      <td>2</td>\n",
       "    </tr>\n",
       "  </tbody>\n",
       "</table>\n",
       "<p>500 rows × 3 columns</p>\n",
       "</div>"
      ],
      "text/plain": [
       "     Smoking  Age  Exercise\n",
       "0          0   24         2\n",
       "1          0   18         0\n",
       "2          1   88         0\n",
       "3          1   41         0\n",
       "4          1   71         0\n",
       "..       ...  ...       ...\n",
       "495        0   81         0\n",
       "496        0   58         1\n",
       "497        1   52         2\n",
       "498        1   95         1\n",
       "499        1   48         2\n",
       "\n",
       "[500 rows x 3 columns]"
      ]
     },
     "execution_count": 147,
     "metadata": {},
     "output_type": "execute_result"
    }
   ],
   "source": [
    "df"
   ]
  },
  {
   "cell_type": "markdown",
   "metadata": {},
   "source": [
    "___"
   ]
  },
  {
   "cell_type": "markdown",
   "metadata": {},
   "source": [
    "### Bibliography\n",
    "\n",
    "\n",
    "Seaborn Official site, retrieved on 30-12-2020  \n",
    "https://seaborn.pydata.org/introduction.html  \n",
    "\n",
    "Pandas - Read a CSV File, retrieved on 30-12-2020  \n",
    "https://pandas.pydata.org/pandas-docs/stable/reference/api/pandas.read_csv.html  \n",
    "\n",
    "Vincent Arel-Bundock GitHub, retrieved on 30-12-2020    \n",
    "https://vincentarelbundock.github.io/Rdatasets/datasets.html  \n",
    "\n",
    "Vincent Arel-Bundock GitHub, retrieved on 30-12-2020  \n",
    "https://vincentarelbundock.github.io/Rdatasets/doc/Stat2Data/Blood1.html    \n",
    "\n",
    "Statistical Society of Canada, retrieved on 30-12-2020   \n",
    "https://ssc.ca/en/case-studies-2003-annual-meeting    \n",
    "\n",
    "Cambridge Dictionary, retrieved on 30-12-2020  \n",
    "https://dictionary.cambridge.org/dictionary/english/phenomenon\n",
    "\n",
    "Numpy.org, retrieved on 30-12-2020  \n",
    "https://numpy.org/doc/stable/reference/random/index.html?highlight=numpy%20random#module-numpy.random  \n",
    "\n",
    "PCG, A Family of Better Random Number Generators, retrieved on 30-12-2020   \n",
    "https://www.pcg-random.org/\n",
    "\n",
    "numpy.random.Generator.random, retrieved on 30-12-2020  \n",
    "https://numpy.org/doc/stable/reference/random/generated/numpy.random.Generator.random.html#numpy.random.Generator.random\n",
    "\n",
    "Permuted Congruential Generator (64-bit, PCG64), retrieved on 30-12-2020  \n",
    "https://numpy.org/doc/stable/reference/random/bit_generators/pcg64.html#numpy.random.PCG64\n",
    "\n",
    "numpy.random.SeedSequence, retrieved on 30-12-2020  \n",
    "https://numpy.org/doc/stable/reference/random/bit_generators/generated/numpy.random.SeedSequence.html#numpy.random.SeedSequence\n",
    "\n",
    "Setting a Title in Seaborn, retrieved on 01-01-2021  \n",
    "https://stackoverflow.com/questions/42406233/how-to-add-title-to-seaborn-boxplot\n",
    "\n",
    "NHS.co.uk - High Blood Pressure, retrieved on 01-01-2021  \n",
    "https://www.nhs.uk/conditions/high-blood-pressure-hypertension/\n",
    "\n",
    "Array into table in Python, retrieved on 01-01-2021  \n",
    "https://stackoverflow.com/questions/47611988/array-into-table-in-python/47612085\n",
    "\n",
    "numpy.org - Numpy Generated Integers, retrieved on 01-01-2021  \n",
    "https://numpy.org/doc/stable/reference/random/generated/numpy.random.Generator.integers.html#numpy.random.Generator.integers"
   ]
  },
  {
   "cell_type": "markdown",
   "metadata": {},
   "source": [
    "___"
   ]
  },
  {
   "cell_type": "markdown",
   "metadata": {},
   "source": [
    "### End"
   ]
  }
 ],
 "metadata": {
  "kernelspec": {
   "display_name": "Python 3",
   "language": "python",
   "name": "python3"
  },
  "language_info": {
   "codemirror_mode": {
    "name": "ipython",
    "version": 3
   },
   "file_extension": ".py",
   "mimetype": "text/x-python",
   "name": "python",
   "nbconvert_exporter": "python",
   "pygments_lexer": "ipython3",
   "version": "3.8.5"
  }
 },
 "nbformat": 4,
 "nbformat_minor": 4
}
