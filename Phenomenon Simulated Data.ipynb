{
 "cells": [
  {
   "cell_type": "markdown",
   "metadata": {},
   "source": [
    "##  Programming for Data Analytics Simulation Project 2020 \n",
    "#### Module: Programming for Data Analytics\n",
    "#### Student Name: John Kavanagh\n",
    "#### Lecturer: Brian McGinley "
   ]
  },
  {
   "cell_type": "markdown",
   "metadata": {},
   "source": [
    "___"
   ]
  },
  {
   "cell_type": "markdown",
   "metadata": {},
   "source": [
    "### Problem Statement \n",
    "\n",
    "For this project you must create a data set by simulating a real-world phenomenon of your choosing. You may pick any phenomenon you wish – you might pick one that is of interest to you in your personal or professional life. Then, rather than collect data\n",
    "related to the phenomenon, you should model and synthesise such data using Python. We suggest you use the numpy.random package for this purpose.\n",
    "\n",
    "Specifically, in this project you should:  \n",
    "• Choose a real-world phenomenon that can be measured and for which you could collect at least one-hundred data points across at least four different variables.  \n",
    "• Investigate the types of variables involved, their likely distributions, and their relationships with each other.  \n",
    "• Synthesise/simulate a data set as closely matching their properties as possible.  \n",
    "• Detail your research and implement the simulation in a Jupyter notebook – the data set itself can simply be displayed in an output cell within the notebook.  \n",
    "\n",
    "\n",
    "Note that this project is about simulation – you must synthesise a data set. Some students may already have some real-world data sets in their own files. It is okay to base your synthesised data set on these should you wish (please reference it if you do), but the main task in this project is to create a synthesised data set."
   ]
  },
  {
   "cell_type": "markdown",
   "metadata": {},
   "source": [
    "___\n",
    "#### Software & Library Requirements\n",
    "\n",
    "There are a number of software packages htat will need to be installed throughout this exercise. \n",
    "Such as: \n",
    "\n",
    "- Anaconda\n",
    "- Jupyter Notebook\n",
    "- Pandas\n",
    "- MatPlotLib\n",
    "- Numpy\n",
    "- Seaborn\n",
    "___"
   ]
  },
  {
   "cell_type": "markdown",
   "metadata": {},
   "source": [
    "### Project Overview    - complete rewrite  \n",
    "\n",
    "#### Introduction  \n",
    "#### Statistical Society of Canada Dataset Overview\n",
    "##### Analysis of Documentation\n",
    "##### Analysis of DataSet  \n",
    "###### DisPlot  \n",
    "###### CatPlot\n",
    "###### Conclusion on DataSet\n",
    "___\n",
    "\n",
    "#### Introduction to Numpy.Random  \n",
    "##### Data Creation  \n",
    "#####  \n",
    "#####  \n",
    "#####  \n"
   ]
  },
  {
   "cell_type": "markdown",
   "metadata": {},
   "source": [
    "#### Introduction\n",
    " \n",
    "As part of the research into this exercise, I thought it best to start off with an exisitng data set that was relevant to the information that i wanted to simulate. This was going to facilitate a number of things that awere of importance, to provide some structure, guidance as well as framework information on the topic.   \n",
    "\n",
    "Having reviewed a number of datasets across a few different topics, I finally on the area that I wanted to cover - Health. More specifically the area of smoking and the implications it can have. The search for an area of review was influenced in a big way through the unavoidable aspect to life in 2020 - COVID-19, as everyone is painfully aware.    \n",
    "\n",
    "In order to properly undertake the exercise, we must also have a better understadning of the information that we are looking to ascertain. A phenomenon, according to [Cambridge Dictionary](https://dictionary.cambridge.org/dictionary/english/phenomenon) is \"something that exists and that can be seen, felt, tested etc.\".   \n",
    "\n",
    "Based off of this description of the word, researching a specific topic within the area of health can be used as the area that I intend to simulate information in. The variables that are going to be under examination will be developed on via the review of the data set, as well as from academic sources that will be referenced throughout the text."
   ]
  },
  {
   "cell_type": "markdown",
   "metadata": {},
   "source": [
    "___"
   ]
  },
  {
   "cell_type": "markdown",
   "metadata": {},
   "source": [
    "#### Statistical Society of Canada Dataset Overview\n",
    "Given that we are looking to simulate infromation on the general area of health, it's import to be familiar with the structure of the information, as well as the headings that are reported upon. \n",
    "\n",
    "The first step in demonstrating this research was to review a site that held a large number of datasets across a number of disciplines. Having reviewed some initial datasets on [Vincent Arel-Bundock](https://vincentarelbundock.github.io/Rdatasets/datasets.html), from Sports Stats to the Argentine Economy, there was a simple dataset with a small number of attributes, in the area of Health that could be used as the basis for examination.     \n",
    "\n",
    "This dataset, containing samples from 500 adults, as detailed in the documentation on [Vincent Ares-Bundock](https://vincentarelbundock.github.io/Rdatasets/doc/Stat2Data/Blood1.html) holds information on the Blood Pressure recorded as well as other factors such as smoking and whether the individual is classified as overweight. \n",
    "\n",
    "As part of the review, we are going to examine the data set for a relationship between blood pressure, smoking and a persons weight. \n",
    "\n",
    "Subsequent to this report, there was additional research required, in order to effectively ensure the report was being interpreted correctly, the extended report, as published on [Statistical Society of Canada](https://ssc.ca/en/case-studies-2003-annual-meeting) "
   ]
  },
  {
   "cell_type": "markdown",
   "metadata": {},
   "source": [
    "#### Analysis of Documentation\n",
    "\n",
    "Although limited, there are a number of pieces of information on the [Vincent Arel-Bundock](https://vincentarelbundock.github.io/Rdatasets/doc/Stat2Data/Blood1.html) site that convey greater breadth of information on the data.\n",
    "\n",
    "Smoking, as per the Boolean expression according to [w3Schools.com](https://www.w3schools.com/python/python_booleans.asp), where there are two outcomes, categorised as either True or False, can also be recorded as one or zero. \n",
    "We can only intrpret, based off of the material recorded that the question and potential answer put to the individuals in the survey were asked: \n",
    "\n",
    "Do you smoke?  \n",
    "- Yes  \n",
    "- No  \n",
    "\n",
    "In relation to the other factor, the weight of an individual, there are three categories that have been created:  \n",
    "1. Normal \n",
    "2. Overweight \n",
    "3. Obese  \n",
    "\n",
    "Lastly, we have the recorded values of each individuals SystolicBP, or Blood Pressure as it is known. In order to have a more informed opinion on the range of what a healthy recording for blood pressure is, please review the following site, [IrishHeart.ie](https://irishheart.ie/your-health/ways-to-live-better/blood-pressure/)"
   ]
  },
  {
   "cell_type": "markdown",
   "metadata": {},
   "source": [
    "#### Analysis on DataSet"
   ]
  },
  {
   "cell_type": "code",
   "execution_count": null,
   "metadata": {},
   "outputs": [],
   "source": [
    "import pandas as pd"
   ]
  },
  {
   "cell_type": "code",
   "execution_count": null,
   "metadata": {},
   "outputs": [],
   "source": [
    "df = pd.read_csv('https://vincentarelbundock.github.io/Rdatasets/csv/Stat2Data/Blood1.csv')\n",
    "df"
   ]
  },
  {
   "cell_type": "markdown",
   "metadata": {},
   "source": [
    "The package has successfully taken the URL and produced a tabular view of the information. Having reviewed the information in a text editor pior to uploading, the headings and data that we expected to see are in place. As you can see along the left hand side of the table, pandas has added in a row for indexing the data.  "
   ]
  },
  {
   "cell_type": "code",
   "execution_count": null,
   "metadata": {
    "scrolled": false
   },
   "outputs": [],
   "source": [
    "# this will allow us to view some high-level information from the set, such as mean and the standard deviation.\n",
    "df.describe()"
   ]
  },
  {
   "cell_type": "code",
   "execution_count": null,
   "metadata": {},
   "outputs": [],
   "source": [
    "# This block of code will return the amount of individuals who have described themselves as smokers.\n",
    "df.loc[df.loc[:, 'Smoke'] == 1]"
   ]
  },
  {
   "cell_type": "code",
   "execution_count": null,
   "metadata": {},
   "outputs": [],
   "source": [
    "# How many people in hte survey can be categorised as obese?\n",
    "df.loc[df.loc[:, 'Overwt'] == 2 ]"
   ]
  },
  {
   "cell_type": "code",
   "execution_count": null,
   "metadata": {},
   "outputs": [],
   "source": [
    "# How many people can be categorised as overweight?\n",
    "df.loc[df.loc[:, 'Overwt'] == 1 ]"
   ]
  },
  {
   "cell_type": "markdown",
   "metadata": {},
   "source": [
    "From an initial view of the dataset, we can see that there is a number of people, 266 in fact, who would describe themselves as smokers. In terms of it's impact and relationship on the other two factors, we can see from information posted by hte [HSE.ie](https://www.hse.ie/eng/about/who/tobaccocontrol/kf/) that there is adverse findings. According to the [HSE.ie](https://www.hse.ie/eng/about/who/tobaccocontrol/kf/) will leave the individual with a higher blood pressure, which in turn will lead to heart attack and stroke.  \n",
    "\n",
    "Whilst it is acknowledged in academia, that smoking will increase the matebaolic rate in an individual, according to [NCBI.nlm.nih.gov](https://www.ncbi.nlm.nih.gov/pmc/articles/PMC4401671/#), it is also true that this prolonged exposure to a ehightened heart rate will adversely affect the individual. The effect too, os felt in teh lungs, which are of critical importance to the likelihood of exercise being opted for. There is, at appears to be, a link between smoking and being verweight if not obese.\n",
    "\n",
    "To effectively review the data, given that there are so few variables and the relationship is transparent at first sight, we import the Seaborn package."
   ]
  },
  {
   "cell_type": "code",
   "execution_count": null,
   "metadata": {},
   "outputs": [],
   "source": [
    "import seaborn as sns"
   ]
  },
  {
   "cell_type": "code",
   "execution_count": null,
   "metadata": {},
   "outputs": [],
   "source": [
    "import matplotlib.pyplot as plt"
   ]
  },
  {
   "cell_type": "markdown",
   "metadata": {},
   "source": [
    "#### DisPlot "
   ]
  },
  {
   "cell_type": "code",
   "execution_count": null,
   "metadata": {},
   "outputs": [],
   "source": [
    "sns.displot(data=df, x=\"SystolicBP\", y=\"Overwt\", hue=\"Smoke\").set(title=\"Blood Pressure versus Weight\");"
   ]
  },
  {
   "cell_type": "markdown",
   "metadata": {},
   "source": [
    "Given the information that we have to hand in this set, we can review the relationship with one consistent paramater on the X-axis i.e. Blood Pressure, and then overlay either smoking or weight as a hue, when the other is the variable on the Y-axis.   \n",
    "\n",
    "From the graph above, we can see that were someone has declared that they do not smoke, they are far more likley to have a healthy Blood Pressure rate, as well as weigh a normal amount. In fact, a person who does not smoke, has no chance of being overweight or likely to suffer from higher blood presuure, which seems unlikely.\n",
    "\n",
    "    For more information inrelation to Blood Pressure, please review hte following site:\n",
    "    https://irishheart.ie/your-health/ways-to-live-better/blood-pressure/\n",
    "    \n",
    "The important thing to note with this information is:\n",
    " - The normal level of blood pressure is usually about 120 (systolic) over 80 (diastolic)\n",
    "\n",
    "Inversely, we can deduce that those who smoke, are far more likely to be obese or overweight, and in-turn are at risk of having an increased and unhealthy Blood Pressure. There is a correlation between having unhealthy bloood pressure and being overweight as well as smoking. That is to say, higher blood presssure is the net effect of having an unhealthy lifestyle according to this graph. \n",
    "\n",
    "However, there is a concern that there are no non-smokers who are in the overweight or obese column, which upon first viewing, doesn't seem right.  "
   ]
  },
  {
   "cell_type": "markdown",
   "metadata": {},
   "source": [
    "___"
   ]
  },
  {
   "cell_type": "markdown",
   "metadata": {},
   "source": [
    "#### CatPlot"
   ]
  },
  {
   "cell_type": "markdown",
   "metadata": {},
   "source": [
    "In order to introduce greater depth of understanding, I have chosen to introduce the catplot function. The catplot function allows for better visualisation given the type of data on display.  \n",
    "\n",
    "Having replicated and adapted the code above, we were given a warning by the package, that the SystolicBP trait could not be displayed to the screen, so we have had to adjust our output. We will noe measure the SystolicBP along the Y-axis.\n",
    "\n",
    "As we work our way up the Y-axis, we can see again that we have SystolicBP which represents Blood Pressure. We are introducing this graph in order to better represent all 500 samples taken, as there is uncertainty about where the smokers of the sample lie in the set. \n",
    "\n",
    "The important thing to note with this information is:\n",
    " - The normal level of blood pressure is usually about 120 (systolic) over 80 (diastolic)\n",
    "\n",
    "The expected outcome from this function is to acquire better determination for the relationship between blood pressure and being overweight and smoking."
   ]
  },
  {
   "cell_type": "code",
   "execution_count": null,
   "metadata": {},
   "outputs": [],
   "source": [
    "sns.catplot(data=df, x=\"Overwt\", y=\"SystolicBP\", hue=\"Smoke\", kind=\"swarm\").set(title=\"Weight Categories\");"
   ]
  },
  {
   "cell_type": "markdown",
   "metadata": {},
   "source": [
    "We can now see that there is a greater spread of the respondents who do not smoke, who are both either overweight or obese. These respondents also suffer from having higher blood pressure of greater than 100 as we were led to believe in the first graph.   \n",
    "\n",
    "Although there is still a higher concentration of non-smokers in the normal weight category, there is a wider spread in the other two weight categories.  \n",
    "\n",
    "Being a non-smoker won't always mean that you are of a normal weight, but combining the two will allow us to see that there is a high proportion of the responses are in 120 systilic range or lower. "
   ]
  },
  {
   "cell_type": "markdown",
   "metadata": {},
   "source": [
    "#### Violin Plot"
   ]
  },
  {
   "cell_type": "code",
   "execution_count": null,
   "metadata": {},
   "outputs": [],
   "source": [
    "sns.violinplot(data=df, x=\"Smoke\", y=\"SystolicBP\", hue=\"Overwt\", kind=\"violin\").set(title=\"Non-Smoking Versus Smoking\");"
   ]
  },
  {
   "cell_type": "markdown",
   "metadata": {},
   "source": [
    "Developing on from the graph above, holding Blood Pressure constant on the Y-axis, we can create an alternate view of those who smoke, seperated from those who do not.  \n",
    "\n",
    "If we view the data from a new viewpoint, the [Violin Plot](https://seaborn.pydata.org/generated/seaborn.violinplot.html), where our X-axis is based around the smoking response, and we overlay on that, the catgeories for weight, we get the following graph.  \n",
    "\n",
    "We can clearly see that not smoking will lead to lower blood pressure, but also that there will be less likely to be categorised as overweight. The tail of the first violin on the left hand side of the graph, is in contrast to the head of the obese smoker on the right hand side of the plot. We can also see, that if we look through the centre of the graph, we have created an impression of the Blood Pressure from the sample. There is a wider body of each violin plot from the smoker side of the divide. the wider the body, alludes to the fact that there is a greater amount of respondents who are categorised in that range.\n",
    "\n",
    "___"
   ]
  },
  {
   "cell_type": "markdown",
   "metadata": {},
   "source": [
    "#### Conclusion on DataSet\n",
    "\n",
    "We can see from the graphs above that have been created that there is in fact a correlation between making healhty choices and having a healthy outcome. Although choosing not to smoke will not guarantee that you are of a healthy weight, being of a healthy weight and choosing not to smoke will increase the likelihood of having a healthy blood presssure. \n",
    "\n",
    "Conversly, choosing the opposite of this will leave you more likely to have higher blood presure. This will in-turn likely lead to a higher chance of suffering from heart disease, heart attack, stroke as well as as kidney disease according to the [NHS](https://www.nhs.uk/conditions/high-blood-pressure-hypertension/)\n",
    "\n",
    "Although limited in its scope and detail that can be extracted, there is still a lot of value in the information that is contained in the dataset. "
   ]
  },
  {
   "cell_type": "markdown",
   "metadata": {},
   "source": [
    "___"
   ]
  },
  {
   "cell_type": "code",
   "execution_count": null,
   "metadata": {},
   "outputs": [],
   "source": [
    "fd = pd.read_csv(\"https://ssc.ca/sites/default/files/archive/documents/case_studies/2003/documents/datafile.dat\")"
   ]
  },
  {
   "cell_type": "code",
   "execution_count": null,
   "metadata": {
    "scrolled": false
   },
   "outputs": [],
   "source": [
    "sns.jointplot(data=fd, x=\"age\", y=\"weight\",  hue=\"exercise\");"
   ]
  },
  {
   "cell_type": "markdown",
   "metadata": {},
   "source": [
    "____"
   ]
  },
  {
   "cell_type": "markdown",
   "metadata": {},
   "source": [
    "### Simulation of Data using Numpy\n",
    "#### Overview of Numpy.Random\n",
    "\n",
    "In order to effectively simulate the data required to emulate the information as it is provided above, as a template for further testing, we must first understand the operational overview of the numpy.random package. \n",
    "\n",
    "Comprising of a generator and a bitgenerator, there is a melding of sequence creation and different statistical distributions applied against to effectively generate random numbers, as per [Numpy](https://numpy.org/doc/stable/reference/random/index.html?highlight=numpy%20random#module-numpy.random). While the remit of this exercise is not to walk tnrough all components of the package, a high-level understanding will be displayed in code blocks and implementaion to better understand the material.   \n",
    "\n",
    "If you are interested in the Permuted Congrunetila Generator-64bit (PCG), please click the following link:[pcg-random.org](https://www.pcg-random.org/)  \n",
    "\n",
    "Once we have stood up our PCG, and we are looking to create some data, it is important to note that the Numpy.random package has three core areas that can be leveraged against. \n",
    "\n",
    "- Simple Random Data \n",
    "- Permutations\n",
    "- Distributions\n",
    "\n",
    "At a high-level, there are four sub-components that are part of Simple Random Data layer:\n",
    "- Integer, Random, Choice, Bytes   \n",
    "\n",
    "Permutations, as the name suggests, to those that are familiar to it, has a narrower scope, facilitating:\n",
    "- Shuffle & Permutation  \n",
    "\n",
    "Distributions, on the other hand, has a much wider span, with more than 35 distributions that can be accessed, such as \n",
    "- Power, Multinomial, Triangular & Wald  "
   ]
  },
  {
   "cell_type": "markdown",
   "metadata": {},
   "source": [
    "___"
   ]
  },
  {
   "cell_type": "markdown",
   "metadata": {},
   "source": [
    "#### Starting the Numpy.Random Package"
   ]
  },
  {
   "cell_type": "code",
   "execution_count": null,
   "metadata": {},
   "outputs": [],
   "source": [
    "import numpy as np\n",
    "from numpy.random import default_rng\n",
    "rng = default_rng()\n",
    "\n",
    "rng"
   ]
  },
  {
   "cell_type": "code",
   "execution_count": null,
   "metadata": {},
   "outputs": [],
   "source": [
    "# In the output above we have the generator that numpy.random operates from. "
   ]
  },
  {
   "cell_type": "code",
   "execution_count": null,
   "metadata": {},
   "outputs": [],
   "source": [
    "sq1 = np.random.SeedSequence()\n",
    "sq1.entropy"
   ]
  },
  {
   "cell_type": "code",
   "execution_count": null,
   "metadata": {},
   "outputs": [],
   "source": [
    "from numpy.random import Generator, PCG64\n",
    "rg = Generator(PCG64(12345))\n",
    "rg.standard_normal()"
   ]
  },
  {
   "cell_type": "markdown",
   "metadata": {},
   "source": [
    "___"
   ]
  },
  {
   "cell_type": "markdown",
   "metadata": {},
   "source": [
    "### Sumulating a DataSet\n",
    "\n",
    "Before we can produce a set of data, we need to know what information should be collected. Based on the information that we have already viewed in the previous dataset, there are some factors that we can seek to simulate, namely smoking. \n",
    "\n",
    "From reading other reports, such as the one published by [change4health.org](https://www.change4health.org/technologies/consumer-e-health-and-health-metrics/tools/health-metrics/), we can also see that exercise is a key factor for determining health of an individual.\n",
    "\n",
    "Age is also a factor that can be reviewed in a new light. According to information contained on a report, publiched by [OpenLearn.edu](https://www.open.edu/openlearn/health-sports-psychology/health/factors-influence-health-introduction/content-section-2.3), there is the consideration that age is only the accumulation of decisions, and not just \"a period of decrepitude and decline\" [OpenLearn.edu](https://www.open.edu/openlearn/health-sports-psychology/health/factors-influence-health-introduction/content-section-2.3)\n",
    "\n",
    "\n",
    "To make things more favourable to an Irish setting, there are going to be a number of restrictions placed on the data, so that we can re-produce in line with Irish information. These will be explained throughout the text in each individual section. \n",
    "\n",
    "There are a number of variables that can e pulled into this dataset, but the remit of this exercise is to create four. \n",
    "We ci=ould have also chosen to replicate the Blood Pressure, weight, height, race, alcohol intake, level od stress, income, level of education, but instead the following has been chosen.\n",
    "\n",
    "### Irish Health DataSet\n",
    "\n",
    "\n",
    "Questions that have been asked and the answers available.  \n",
    "#### Smoking: \n",
    "Do you condider yourself to be a smoker?  \n",
    "    - Yes  \n",
    "    - No  \n",
    "#### Age: \n",
    "How old are you? \n",
    "\n",
    "#### Exercise:\n",
    "How frquently do you exercise, choosing one of the three categories below to determine your response?  \n",
    "    - Frequently    \n",
    "    - Moderate  \n",
    "    - None  \n",
    "\n",
    "#### Time Series:\n",
    "This will not be a response, but an automatically tracked datetime series tracking the responses over time.  "
   ]
  },
  {
   "cell_type": "markdown",
   "metadata": {},
   "source": [
    "___"
   ]
  },
  {
   "cell_type": "markdown",
   "metadata": {},
   "source": [
    "#### Creation of data for the area of Health"
   ]
  },
  {
   "cell_type": "markdown",
   "metadata": {},
   "source": [
    "If we take a factor such as smoking as being influential on the health of a person, we can replicate the scenario from above and develop on it with additional characteristics.\n",
    "\n",
    "Let's replicate the information on the selection for smoking, whereby if the person smokes we assign a value of 1 and if not a 0.  \n",
    "One of the minimum points of imnformation that we are seeking to create, is 100 points of data across four variables. Let's say that we want to create a larger array of information, to allow for better insight, as well as simulating it over a longer period of time. We allow the size of our arguement to be the following:"
   ]
  },
  {
   "cell_type": "code",
   "execution_count": null,
   "metadata": {},
   "outputs": [],
   "source": [
    "size = 500"
   ]
  },
  {
   "cell_type": "markdown",
   "metadata": {},
   "source": [
    "#### Smoking\n",
    "\n",
    "One of the factors that we are going to take into account, is the number of smokers that are in the population. \n",
    "After years of advertising about the dangers of smoking, the latest figures put the number of smokers in Ireland at 17% according to the [Department of Health](https://www.gov.ie/en/press-release/7d9caf-level-of-smoking-drops-to-17-of-the-population-healthy-ireland-surve/#:~:text=The%20prevalence%20of%20smoking%20has,a%20good%20motivation%20to%20quit.). This represents a decrease of 6% on the previous entry in the series.    \n",
    "\n",
    "We can account for this statistic, by reducing the amount of people we designate as smoking in our simulation. We need to create a binomial distribution with a weighted percentage against smoking. Smoking is, as detiled above a negative characterisitc that will detract from the overall health of an individual.\n",
    "\n",
    "If we take the number of trials as n, and the probability as p.  "
   ]
  },
  {
   "cell_type": "code",
   "execution_count": null,
   "metadata": {},
   "outputs": [],
   "source": [
    "n, p = 1, 0.17"
   ]
  },
  {
   "cell_type": "code",
   "execution_count": null,
   "metadata": {
    "scrolled": true
   },
   "outputs": [],
   "source": [
    "Smoking = rng.binomial(n, p, size=size)\n",
    "TotalSmokers = sum(Smoking)"
   ]
  },
  {
   "cell_type": "code",
   "execution_count": null,
   "metadata": {},
   "outputs": [],
   "source": [
    "TotalSmokers"
   ]
  },
  {
   "cell_type": "markdown",
   "metadata": {},
   "source": [
    "There are a total of XX smokers that have been simulated for this activity, which, as a percentage of the 500 samples that we have created is XX.X% of the sample, so a little higher, but still in the expected range. If we ran this simulation over and over we would create variance in this measure, which would average out to c.17%."
   ]
  },
  {
   "cell_type": "markdown",
   "metadata": {},
   "source": [
    "#### Age\n",
    "\n",
    "Another factor that is documented in the course of the research is that of age. The simulation has been created to capture those of the legal smoking age. For this reason, the lower end of the age spectrum will be 18. When accounting for the higher end of the spectrum, we can review the material that is made available from the [Central Statistics Office](https://www.cso.ie/en/releasesandpublications/ep/p-cp3oy/cp3/assr/) in relation to Age structure as well as the breakdown that gender can pplay in this cohort, to be reviewed on the [Central Statistics Office](https://www.cso.ie/en/releasesandpublications/ep/p-cp3oy/cp3/aad/). \n",
    "\n",
    "An image has been added to capure the spread of age grpups in Ireland, divided by gender. With this image, I intend to place the higher limit of the survey at 101, as the proportinate amount of individuals in this older cohort tapers off.  \n",
    "\n",
    "For further research into age as a factor that a nation has a dependence on, please review the [Worldometers.info](https://www.worldometers.info/demographics/ireland-demographics/) site. "
   ]
  },
  {
   "attachments": {
    "IrelandAge.PNG": {
     "image/png": "[encoded data removed]"
    }
   },
   "cell_type": "markdown",
   "metadata": {},
   "source": [
    "![IrelandAge.PNG](attachment:IrelandAge.PNG)"
   ]
  },
  {
   "cell_type": "markdown",
   "metadata": {},
   "source": [
    "###### Image has been taken from the cso.ie website, retrieved on 02-01-2021 at https://www.cso.ie/en/releasesandpublications/ep/p-cp3oy/cp3/assr/"
   ]
  },
  {
   "cell_type": "code",
   "execution_count": null,
   "metadata": {
    "scrolled": true
   },
   "outputs": [],
   "source": [
    "Age = rng.integers(18,102, size=size)\n",
    "Age"
   ]
  },
  {
   "cell_type": "markdown",
   "metadata": {},
   "source": [
    "Now that we have created a range of numbers that our sample will read in as Age, we need to create a distribution of these ages. In order to create this Normal distribution, we need to create the following, as per the [Numpy.org](https://numpy.org/doc/stable/reference/random/generated/numpy.random.Generator.normal.html#numpy.random.Generator.normal) site.  "
   ]
  },
  {
   "cell_type": "code",
   "execution_count": null,
   "metadata": {},
   "outputs": [],
   "source": [
    "MeanAge = np.mean(Age)\n",
    "MeanAge"
   ]
  },
  {
   "cell_type": "code",
   "execution_count": null,
   "metadata": {},
   "outputs": [],
   "source": [
    "StdAge = np.std(Age)\n",
    "StdAge"
   ]
  },
  {
   "cell_type": "code",
   "execution_count": null,
   "metadata": {},
   "outputs": [],
   "source": [
    "AgeDist = rng.normal(MeanAge, StdAge, size)"
   ]
  },
  {
   "cell_type": "code",
   "execution_count": null,
   "metadata": {},
   "outputs": [],
   "source": [
    "sns.displot(AgeDist).set(title=\"Age Distribution of Respondents\");"
   ]
  },
  {
   "cell_type": "markdown",
   "metadata": {},
   "source": [
    "#### Exercise\n",
    "\n",
    "In the same way that smoking can negatively affect the health of an individual, so too can the lack of regaular exercise. \n",
    "According to the [MedLine Plus](https://medlineplus.gov/benefitsofexercise.html) there are a multitude of benefits that can taken from eercise, such as control of your weight, as well as aiding in curbing your smoking habits.\n",
    "\n",
    "To those who would be in the more vulnerable age groups, older adults, exercise is even more important. According to the [CDC.gov](https://www.cdc.gov/nccdphp/sgr/olderad.htm#:~:text=regular%20physical%20activity.-,Benefits%20of%20Physical%20Activity,%2C%20colon%20cancer%2C%20and%20diabetes.), the importance is that it can prolong the options for living independently,as well as improving the overall chance of living for longer. "
   ]
  },
  {
   "cell_type": "code",
   "execution_count": null,
   "metadata": {},
   "outputs": [],
   "source": [
    "Exercise = rng.integers(3, size=size)\n",
    "plt.bar(Exercise, size);"
   ]
  },
  {
   "cell_type": "markdown",
   "metadata": {},
   "source": [
    "Although not the most insightful of grpahs, we can see that there is a normal distrubtion of the three entries across the three seperate bar charts. \n",
    "\n",
    "The code for this was adpated from [tutprialspoint.com](https://www.tutorialspoint.com/matplotlib/matplotlib_bar_plot.htm)\n",
    "\n",
    "In the following exercise, in the same way we created a distributino for the age spread,we are going to apply teh same rationale for exercise. "
   ]
  },
  {
   "cell_type": "code",
   "execution_count": null,
   "metadata": {},
   "outputs": [],
   "source": [
    "MeanEx = np.mean(Exercise)"
   ]
  },
  {
   "cell_type": "code",
   "execution_count": null,
   "metadata": {},
   "outputs": [],
   "source": [
    "StdEx = np.std(Exercise)"
   ]
  },
  {
   "cell_type": "code",
   "execution_count": null,
   "metadata": {},
   "outputs": [],
   "source": [
    "ExerciseDist = rng.normal(MeanEx, StdEx, size)"
   ]
  },
  {
   "cell_type": "code",
   "execution_count": null,
   "metadata": {},
   "outputs": [],
   "source": [
    "sns.displot(ExerciseDist);"
   ]
  },
  {
   "cell_type": "markdown",
   "metadata": {},
   "source": [
    "#### Time Series - Recording Entry\n",
    "\n",
    "Create a data range that will simulate 100 entries per year over a five year span.  \n",
    "\n",
    "There is within this code block a number of arguements that will help to align these entries to the expected outcome. \n",
    "In order for the calendar to be utilised, there was a start date of the first Monday in a year applied. \n",
    "\n",
    "In order for the eventual dataset to be created, we knew the output would be in an array format. This, however, meant ensuring that the size of the arguement would be the same as the arrays that have been created to date. An aaray can only be added to an array of the same size. \n",
    "\n",
    "Lastly, the frequency needed to align to the days that were considered to be working days. This was achived by reviewing the official [Pandas.org](https://pandas.pydata.org/pandas-docs/stable/user_guide/timeseries.html) documentation site, as well as reviewing examples of the implemntation of pandas on the [Stack Overflow](https://stackoverflow.com/questions/25597200/extract-business-days-in-time-series-using-python-pandas) forum. "
   ]
  },
  {
   "cell_type": "code",
   "execution_count": null,
   "metadata": {},
   "outputs": [],
   "source": [
    "DateRange = pd.date_range('01/05/2015', periods=size, freq='B')\n",
    "DateRange"
   ]
  },
  {
   "cell_type": "markdown",
   "metadata": {},
   "source": [
    "### Simulated Dataset"
   ]
  },
  {
   "cell_type": "markdown",
   "metadata": {},
   "source": [
    "In order to read in the information that we have created, I am going to create a variable, called Health, that will act as the dataset for all of the individual aspects that have been simulated to date. \n",
    "\n",
    "This datset will then be applied as an arguement to the pandas function, out of which will be a tabular view of the information."
   ]
  },
  {
   "cell_type": "code",
   "execution_count": null,
   "metadata": {},
   "outputs": [],
   "source": [
    "Health = {'DateRange':DateRange, 'Smoking':Smoking, 'Age':Age, 'Exercise':Exercise}"
   ]
  },
  {
   "cell_type": "code",
   "execution_count": null,
   "metadata": {},
   "outputs": [],
   "source": [
    "HealthDataFrame = pd.DataFrame(data=Health)"
   ]
  },
  {
   "cell_type": "code",
   "execution_count": null,
   "metadata": {},
   "outputs": [],
   "source": [
    "HealthDataFrame"
   ]
  },
  {
   "cell_type": "code",
   "execution_count": null,
   "metadata": {},
   "outputs": [],
   "source": [
    "# HealthDataFrame.loc[HealthDataFrame.loc[:, 'Exercise'] == 1]"
   ]
  },
  {
   "cell_type": "code",
   "execution_count": null,
   "metadata": {},
   "outputs": [],
   "source": [
    "sns.catplot(data=HealthDataFrame, x=\"Exercise\", y=\"Age\", hue=\"Smoking\", kind=\"swarm\").set(title=\"Frequency of Exercise versus Age\");"
   ]
  },
  {
   "cell_type": "markdown",
   "metadata": {},
   "source": [
    "Testing Chi Square on Age dataset"
   ]
  },
  {
   "cell_type": "code",
   "execution_count": null,
   "metadata": {},
   "outputs": [],
   "source": [
    "x = rng.chisquare(df=Age)"
   ]
  },
  {
   "cell_type": "code",
   "execution_count": null,
   "metadata": {},
   "outputs": [],
   "source": [
    "sns.scatterplot(data=x)"
   ]
  },
  {
   "cell_type": "markdown",
   "metadata": {},
   "source": [
    "___"
   ]
  },
  {
   "cell_type": "markdown",
   "metadata": {},
   "source": [
    "### Bibliography\n",
    "\n",
    "\n",
    "Seaborn Official site, retrieved on 30-12-2020  \n",
    "https://seaborn.pydata.org/introduction.html  \n",
    "\n",
    "Pandas - Read a CSV File, retrieved on 30-12-2020  \n",
    "https://pandas.pydata.org/pandas-docs/stable/reference/api/pandas.read_csv.html  \n",
    "\n",
    "Vincent Arel-Bundock GitHub, retrieved on 30-12-2020    \n",
    "https://vincentarelbundock.github.io/Rdatasets/datasets.html  \n",
    "\n",
    "Vincent Arel-Bundock GitHub, retrieved on 30-12-2020  \n",
    "https://vincentarelbundock.github.io/Rdatasets/doc/Stat2Data/Blood1.html    \n",
    "\n",
    "Statistical Society of Canada, retrieved on 30-12-2020   \n",
    "https://ssc.ca/en/case-studies-2003-annual-meeting    \n",
    "\n",
    "Cambridge Dictionary, retrieved on 30-12-2020  \n",
    "https://dictionary.cambridge.org/dictionary/english/phenomenon\n",
    "\n",
    "Numpy.org, retrieved on 30-12-2020  \n",
    "https://numpy.org/doc/stable/reference/random/index.html?highlight=numpy%20random#module-numpy.random  \n",
    "\n",
    "PCG, A Family of Better Random Number Generators, retrieved on 30-12-2020   \n",
    "https://www.pcg-random.org/\n",
    "\n",
    "numpy.random.Generator.random, retrieved on 30-12-2020  \n",
    "https://numpy.org/doc/stable/reference/random/generated/numpy.random.Generator.random.html#numpy.random.Generator.random\n",
    "\n",
    "Permuted Congruential Generator (64-bit, PCG64), retrieved on 30-12-2020  \n",
    "https://numpy.org/doc/stable/reference/random/bit_generators/pcg64.html#numpy.random.PCG64\n",
    "\n",
    "numpy.random.SeedSequence, retrieved on 30-12-2020  \n",
    "https://numpy.org/doc/stable/reference/random/bit_generators/generated/numpy.random.SeedSequence.html#numpy.random.SeedSequence\n",
    "\n",
    "Setting a Title in Seaborn, retrieved on 01-01-2021  \n",
    "https://stackoverflow.com/questions/42406233/how-to-add-title-to-seaborn-boxplot\n",
    "\n",
    "NHS.co.uk - High Blood Pressure, retrieved on 01-01-2021  \n",
    "https://www.nhs.uk/conditions/high-blood-pressure-hypertension/\n",
    "\n",
    "Array into table in Python, retrieved on 01-01-2021  \n",
    "https://stackoverflow.com/questions/47611988/array-into-table-in-python/47612085\n",
    "\n",
    "numpy.org - Numpy Generated Integers, retrieved on 01-01-2021    \n",
    "https://numpy.org/doc/stable/reference/random/generated/numpy.random.Generator.integers.html#numpy.random.Generator.integers\n",
    "\n",
    "Pandas -Indexing and Selecting Data, retrieved on 30-12-2020  \n",
    "https://pandas.pydata.org/pandas-docs/stable/user_guide/indexing.html\n",
    "\n",
    "ShaneLynn.ie - Boolean / Logical indexing using .loc, retriecved on 30-12-2020  \n",
    "https://www.shanelynn.ie/select-pandas-dataframe-rows-and-columns-using-iloc-loc-and-ix/\n",
    "\n",
    "Geeksforgeeks.com - Mean and Standard deviation in Python, retrieved on 30-12-2020  \n",
    "https://www.geeksforgeeks.org/compute-the-mean-standard-deviation-and-variance-of-a-given-numpy-array/\n",
    "\n",
    "Seaborn.org- Scatterplot with categorical variables, retrieved on 30-12-2020   \n",
    "https://seaborn.pydata.org/examples/scatterplot_categorical.html\n",
    "\n",
    "Gov.ie - Level of smoking drops to 17% of the population - Healthy Ireland Survey, retrieved on 01-01-2021\n",
    "https://www.gov.ie/en/press-release/7d9caf-level-of-smoking-drops-to-17-of-the-population-healthy-ireland-surve/#:~:text=The%20prevalence%20of%20smoking%20has,a%20good%20motivation%20to%20quit.\n",
    "\n",
    "Numpy.org - Binomial distribution, retrieved on 30-12-2020  \n",
    "https://numpy.org/doc/stable/reference/random/generated/numpy.random.binomial.html\n",
    "\n",
    "GeeksforGeeks.org - sum total of an array, retrieved on 02-01-2021  \n",
    "https://www.geeksforgeeks.org/python-program-to-find-sum-of-array/\n",
    "\n",
    "MedlinePlus - Benefits of Exercise, retrieved on 02-01-2021  \n",
    "https://medlineplus.gov/benefitsofexercise.html\n",
    "\n",
    "Centres for Disease Control and Prevention - Older Adutls,  retrieved on 02-01-2021   \n",
    "https://www.cdc.gov/nccdphp/sgr/olderad.htm#:~:text=regular%20physical%20activity.-,Benefits%20of%20Physical%20Activity,%2C%20colon%20cancer%2C%20and%20diabetes.\n",
    "\n",
    "Central Statistics Office in Ireland - Age Distribution, retrieved on 02-01-2021  \n",
    "https://www.cso.ie/en/releasesandpublications/ep/p-cp3oy/cp3/assr/\n",
    "\n",
    "Central Statistics Office in Ireland - Age Dependence, retrieved on 02-01-2021 (Image)  \n",
    "https://www.cso.ie/en/releasesandpublications/ep/p-cp3oy/cp3/aad/\n",
    "\n",
    "Central Statistics Office in Ireland - Ireland Population Breakdown, retrieved on 02-01-2021  \n",
    "https://www.worldometers.info/demographics/ireland-demographics/\n",
    "\n",
    "Stack Overflow - How to generate a random normal distribution of integers, retrieved on 30-12-2020  \n",
    "https://stackoverflow.com/questions/37411633/how-to-generate-a-random-normal-distribution-of-integers\n",
    "\n",
    "Numpy.org - Random Generator, retrieved on 30-12-2020  \n",
    "https://numpy.org/doc/stable/reference/random/generator.html#numpy.random.Generator\n",
    "\n",
    "Numpy.org - Binomial Generator, retrieved on 30-12-2020  \n",
    "https://numpy.org/doc/stable/reference/random/generated/numpy.random.binomial.html\n",
    "\n",
    "HealthKnowledge.org - Standard Statistical Distributions, retrieved on 30-12-2020  \n",
    "https://www.healthknowledge.org.uk/public-health-textbook/research-methods/1b-statistical-methods/statistical-distributions\n",
    "\n",
    "Numpy.org - Chi-Square, retrieved on 30-12-2020  \n",
    "https://numpy.org/doc/stable/reference/random/generated/numpy.random.Generator.chisquare.html#numpy.random.Generator.chisquare\n",
    "\n",
    "makeareadme.com - ReadMe 101, retrieved on 02-02-2021  \n",
    "https://www.makeareadme.com/\n",
    "\n",
    "w3schools.com - Python Booleans, retrieved on 03-02-2021  \n",
    "https://www.w3schools.com/python/python_booleans.asp\n",
    "\n",
    "Dare S, Mackay DF, Pell JP. Relationship between smoking and obesity: a cross-sectional study of 499,504 middle-aged adults in the UK general population [published correction appears in PLoS One. 2017 Feb 8;12 (2):e0172076]. PLoS One. 2015;10(4):e0123579. Published 2015 Apr 17. doi:10.1371/journal.pone.0123579\n",
    "\n",
    "Seaborn.org - Violin Plot, retrieved on 30-12-2020  \n",
    "https://seaborn.pydata.org/generated/seaborn.violinplot.html\n",
    "\n",
    "www.change4health.org - Health Metrics, retroeved on 04-01-2021  \n",
    "https://www.change4health.org/technologies/consumer-e-health-and-health-metrics/tools/health-metrics/\n",
    "\n",
    "Open Learn - Age and the lifecourse: healthy ageing, retrieved on 04-01-2021  \n",
    "https://www.open.edu/openlearn/health-sports-psychology/health/factors-influence-health-introduction/content-section-2.3\n",
    "\n",
    "Numpy.org - Normal Distribution, retrieved on 30-12-2020  \n",
    "https://numpy.org/doc/stable/reference/random/generated/numpy.random.Generator.normal.html#numpy.random.Generator.normal\n",
    "\n",
    "Tutorialspoint.com - Matplotlib Bar Chart, retrieved on 03-01-2021  \n",
    "https://www.tutorialspoint.com/matplotlib/matplotlib_bar_plot.htm\n",
    "\n",
    "Pandas.pydata.org - Combining aliases, retrieved 04-01-2021  \n",
    "https://pandas.pydata.org/pandas-docs/stable/user_guide/timeseries.html\n",
    "\n",
    "Stack Overflow - Extract Business Days in Time Series using Python/Pandas, retrieved 04-01-2021  \n",
    "https://stackoverflow.com/questions/25597200/extract-business-days-in-time-series-using-python-pandas"
   ]
  },
  {
   "cell_type": "markdown",
   "metadata": {},
   "source": [
    "___"
   ]
  },
  {
   "cell_type": "markdown",
   "metadata": {},
   "source": [
    "### End"
   ]
  }
 ],
 "metadata": {
  "kernelspec": {
   "display_name": "Python 3",
   "language": "python",
   "name": "python3"
  },
  "language_info": {
   "codemirror_mode": {
    "name": "ipython",
    "version": 3
   },
   "file_extension": ".py",
   "mimetype": "text/x-python",
   "name": "python",
   "nbconvert_exporter": "python",
   "pygments_lexer": "ipython3",
   "version": "3.8.5"
  }
 },
 "nbformat": 4,
 "nbformat_minor": 4
}
